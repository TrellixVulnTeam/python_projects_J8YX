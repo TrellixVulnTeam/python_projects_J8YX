{
 "cells": [
  {
   "cell_type": "markdown",
   "metadata": {},
   "source": [
    "# Inteligentna analyza udajov\n",
    "## Dataset c. 20\n",
    "## Bettina Pinkeova - 50%, Daniel Kavuliak - 50%"
   ]
  },
  {
   "cell_type": "code",
   "execution_count": 1,
   "metadata": {},
   "outputs": [],
   "source": [
    "import pandas as pd\n",
    "import numpy as np\n",
    "import matplotlib.pyplot as plt\n",
    "import seaborn as sns; sns.set()\n",
    "import statsmodels.api as sm\n",
    "from scipy import stats\n",
    "\n",
    "%matplotlib inline"
   ]
  },
  {
   "cell_type": "markdown",
   "metadata": {},
   "source": [
    "# Vseobecne informacie o datasete personal_train"
   ]
  },
  {
   "cell_type": "code",
   "execution_count": 2,
   "metadata": {},
   "outputs": [
    {
     "data": {
      "text/html": [
       "<div>\n",
       "<style scoped>\n",
       "    .dataframe tbody tr th:only-of-type {\n",
       "        vertical-align: middle;\n",
       "    }\n",
       "\n",
       "    .dataframe tbody tr th {\n",
       "        vertical-align: top;\n",
       "    }\n",
       "\n",
       "    .dataframe thead th {\n",
       "        text-align: right;\n",
       "    }\n",
       "</style>\n",
       "<table border=\"1\" class=\"dataframe\">\n",
       "  <thead>\n",
       "    <tr style=\"text-align: right;\">\n",
       "      <th></th>\n",
       "      <th>Unnamed: 0</th>\n",
       "      <th>name</th>\n",
       "      <th>address</th>\n",
       "      <th>age</th>\n",
       "      <th>sex</th>\n",
       "      <th>date_of_birth</th>\n",
       "    </tr>\n",
       "  </thead>\n",
       "  <tbody>\n",
       "    <tr>\n",
       "      <th>0</th>\n",
       "      <td>0</td>\n",
       "      <td>Roscoe Bohannon</td>\n",
       "      <td>7183 Osborne Ways Apt. 651\\r\\nEast Andrew, OH ...</td>\n",
       "      <td>32</td>\n",
       "      <td>Female</td>\n",
       "      <td>1987/07/22</td>\n",
       "    </tr>\n",
       "    <tr>\n",
       "      <th>1</th>\n",
       "      <td>1</td>\n",
       "      <td>Ernest Kline</td>\n",
       "      <td>391 Ball Road Suite 961\\r\\nFlowersborough, IN ...</td>\n",
       "      <td>55</td>\n",
       "      <td>Male</td>\n",
       "      <td>1963-10-27</td>\n",
       "    </tr>\n",
       "    <tr>\n",
       "      <th>2</th>\n",
       "      <td>2</td>\n",
       "      <td>Harold Hendriks</td>\n",
       "      <td>8702 Vincent Square\\r\\nNew Jerryfurt, CO 30614</td>\n",
       "      <td>62</td>\n",
       "      <td>Male</td>\n",
       "      <td>1957-10-05</td>\n",
       "    </tr>\n",
       "    <tr>\n",
       "      <th>3</th>\n",
       "      <td>3</td>\n",
       "      <td>Randy Baptiste</td>\n",
       "      <td>2751 Harris Crossroad\\r\\nWest Ashley, CA 30311</td>\n",
       "      <td>47</td>\n",
       "      <td>Male</td>\n",
       "      <td>1972-06-29</td>\n",
       "    </tr>\n",
       "    <tr>\n",
       "      <th>4</th>\n",
       "      <td>4</td>\n",
       "      <td>Anthony Colucci</td>\n",
       "      <td>904 Robert Cliffs Suite 186\\r\\nWest Kyle, CO 7...</td>\n",
       "      <td>52</td>\n",
       "      <td>Female</td>\n",
       "      <td>1967-08-15</td>\n",
       "    </tr>\n",
       "  </tbody>\n",
       "</table>\n",
       "</div>"
      ],
      "text/plain": [
       "   Unnamed: 0             name  \\\n",
       "0           0  Roscoe Bohannon   \n",
       "1           1     Ernest Kline   \n",
       "2           2  Harold Hendriks   \n",
       "3           3   Randy Baptiste   \n",
       "4           4  Anthony Colucci   \n",
       "\n",
       "                                             address  age      sex  \\\n",
       "0  7183 Osborne Ways Apt. 651\\r\\nEast Andrew, OH ...   32   Female   \n",
       "1  391 Ball Road Suite 961\\r\\nFlowersborough, IN ...   55     Male   \n",
       "2     8702 Vincent Square\\r\\nNew Jerryfurt, CO 30614   62     Male   \n",
       "3     2751 Harris Crossroad\\r\\nWest Ashley, CA 30311   47     Male   \n",
       "4  904 Robert Cliffs Suite 186\\r\\nWest Kyle, CO 7...   52   Female   \n",
       "\n",
       "  date_of_birth  \n",
       "0    1987/07/22  \n",
       "1    1963-10-27  \n",
       "2    1957-10-05  \n",
       "3    1972-06-29  \n",
       "4    1967-08-15  "
      ]
     },
     "execution_count": 2,
     "metadata": {},
     "output_type": "execute_result"
    }
   ],
   "source": [
    "personal = pd.read_csv('personal_train.csv')\n",
    "\n",
    "personal.head()"
   ]
  },
  {
   "cell_type": "markdown",
   "metadata": {},
   "source": [
    "Dataset ma 3933 zaznamov a 6 stlpcov"
   ]
  },
  {
   "cell_type": "code",
   "execution_count": 3,
   "metadata": {},
   "outputs": [
    {
     "name": "stdout",
     "output_type": "stream",
     "text": [
      "<class 'pandas.core.frame.DataFrame'>\n",
      "RangeIndex: 3933 entries, 0 to 3932\n",
      "Data columns (total 6 columns):\n",
      "Unnamed: 0       3933 non-null int64\n",
      "name             3933 non-null object\n",
      "address          3933 non-null object\n",
      "age              3933 non-null int64\n",
      "sex              3933 non-null object\n",
      "date_of_birth    3933 non-null object\n",
      "dtypes: int64(2), object(4)\n",
      "memory usage: 184.4+ KB\n"
     ]
    }
   ],
   "source": [
    "personal.info()"
   ]
  },
  {
   "cell_type": "code",
   "execution_count": 4,
   "metadata": {},
   "outputs": [
    {
     "data": {
      "text/html": [
       "<div>\n",
       "<style scoped>\n",
       "    .dataframe tbody tr th:only-of-type {\n",
       "        vertical-align: middle;\n",
       "    }\n",
       "\n",
       "    .dataframe tbody tr th {\n",
       "        vertical-align: top;\n",
       "    }\n",
       "\n",
       "    .dataframe thead th {\n",
       "        text-align: right;\n",
       "    }\n",
       "</style>\n",
       "<table border=\"1\" class=\"dataframe\">\n",
       "  <thead>\n",
       "    <tr style=\"text-align: right;\">\n",
       "      <th></th>\n",
       "      <th>Unnamed: 0</th>\n",
       "      <th>name</th>\n",
       "      <th>address</th>\n",
       "      <th>age</th>\n",
       "      <th>sex</th>\n",
       "      <th>date_of_birth</th>\n",
       "    </tr>\n",
       "  </thead>\n",
       "  <tbody>\n",
       "    <tr>\n",
       "      <th>count</th>\n",
       "      <td>3933.000000</td>\n",
       "      <td>3933</td>\n",
       "      <td>3933</td>\n",
       "      <td>3933.000000</td>\n",
       "      <td>3933</td>\n",
       "      <td>3933</td>\n",
       "    </tr>\n",
       "    <tr>\n",
       "      <th>unique</th>\n",
       "      <td>NaN</td>\n",
       "      <td>3933</td>\n",
       "      <td>3933</td>\n",
       "      <td>NaN</td>\n",
       "      <td>2</td>\n",
       "      <td>3725</td>\n",
       "    </tr>\n",
       "    <tr>\n",
       "      <th>top</th>\n",
       "      <td>NaN</td>\n",
       "      <td>Michael Mandato</td>\n",
       "      <td>642 Williams Pines Apt. 334\\r\\nPowellland, NV ...</td>\n",
       "      <td>NaN</td>\n",
       "      <td>Male</td>\n",
       "      <td>1980-10-22</td>\n",
       "    </tr>\n",
       "    <tr>\n",
       "      <th>freq</th>\n",
       "      <td>NaN</td>\n",
       "      <td>1</td>\n",
       "      <td>1</td>\n",
       "      <td>NaN</td>\n",
       "      <td>2620</td>\n",
       "      <td>4</td>\n",
       "    </tr>\n",
       "    <tr>\n",
       "      <th>mean</th>\n",
       "      <td>1966.000000</td>\n",
       "      <td>NaN</td>\n",
       "      <td>NaN</td>\n",
       "      <td>51.816934</td>\n",
       "      <td>NaN</td>\n",
       "      <td>NaN</td>\n",
       "    </tr>\n",
       "    <tr>\n",
       "      <th>std</th>\n",
       "      <td>1135.503633</td>\n",
       "      <td>NaN</td>\n",
       "      <td>NaN</td>\n",
       "      <td>11.814803</td>\n",
       "      <td>NaN</td>\n",
       "      <td>NaN</td>\n",
       "    </tr>\n",
       "    <tr>\n",
       "      <th>min</th>\n",
       "      <td>0.000000</td>\n",
       "      <td>NaN</td>\n",
       "      <td>NaN</td>\n",
       "      <td>-1.000000</td>\n",
       "      <td>NaN</td>\n",
       "      <td>NaN</td>\n",
       "    </tr>\n",
       "    <tr>\n",
       "      <th>25%</th>\n",
       "      <td>983.000000</td>\n",
       "      <td>NaN</td>\n",
       "      <td>NaN</td>\n",
       "      <td>44.000000</td>\n",
       "      <td>NaN</td>\n",
       "      <td>NaN</td>\n",
       "    </tr>\n",
       "    <tr>\n",
       "      <th>50%</th>\n",
       "      <td>1966.000000</td>\n",
       "      <td>NaN</td>\n",
       "      <td>NaN</td>\n",
       "      <td>52.000000</td>\n",
       "      <td>NaN</td>\n",
       "      <td>NaN</td>\n",
       "    </tr>\n",
       "    <tr>\n",
       "      <th>75%</th>\n",
       "      <td>2949.000000</td>\n",
       "      <td>NaN</td>\n",
       "      <td>NaN</td>\n",
       "      <td>60.000000</td>\n",
       "      <td>NaN</td>\n",
       "      <td>NaN</td>\n",
       "    </tr>\n",
       "    <tr>\n",
       "      <th>max</th>\n",
       "      <td>3932.000000</td>\n",
       "      <td>NaN</td>\n",
       "      <td>NaN</td>\n",
       "      <td>113.000000</td>\n",
       "      <td>NaN</td>\n",
       "      <td>NaN</td>\n",
       "    </tr>\n",
       "  </tbody>\n",
       "</table>\n",
       "</div>"
      ],
      "text/plain": [
       "         Unnamed: 0             name  \\\n",
       "count   3933.000000             3933   \n",
       "unique          NaN             3933   \n",
       "top             NaN  Michael Mandato   \n",
       "freq            NaN                1   \n",
       "mean    1966.000000              NaN   \n",
       "std     1135.503633              NaN   \n",
       "min        0.000000              NaN   \n",
       "25%      983.000000              NaN   \n",
       "50%     1966.000000              NaN   \n",
       "75%     2949.000000              NaN   \n",
       "max     3932.000000              NaN   \n",
       "\n",
       "                                                  address          age    sex  \\\n",
       "count                                                3933  3933.000000   3933   \n",
       "unique                                               3933          NaN      2   \n",
       "top     642 Williams Pines Apt. 334\\r\\nPowellland, NV ...          NaN   Male   \n",
       "freq                                                    1          NaN   2620   \n",
       "mean                                                  NaN    51.816934    NaN   \n",
       "std                                                   NaN    11.814803    NaN   \n",
       "min                                                   NaN    -1.000000    NaN   \n",
       "25%                                                   NaN    44.000000    NaN   \n",
       "50%                                                   NaN    52.000000    NaN   \n",
       "75%                                                   NaN    60.000000    NaN   \n",
       "max                                                   NaN   113.000000    NaN   \n",
       "\n",
       "       date_of_birth  \n",
       "count           3933  \n",
       "unique          3725  \n",
       "top       1980-10-22  \n",
       "freq               4  \n",
       "mean             NaN  \n",
       "std              NaN  \n",
       "min              NaN  \n",
       "25%              NaN  \n",
       "50%              NaN  \n",
       "75%              NaN  \n",
       "max              NaN  "
      ]
     },
     "execution_count": 4,
     "metadata": {},
     "output_type": "execute_result"
    }
   ],
   "source": [
    "personal.describe(include='all')"
   ]
  },
  {
   "cell_type": "markdown",
   "metadata": {},
   "source": [
    "# Popis chyb a uprava stlpcov v datasete personal_train\n",
    "<ul>\n",
    "    <li>unnamed:0 moze sluzit ako index alebo sa moze zmazat</li>\n",
    "    <li>address (spojity) ma dva delimitre '\\r\\n' a ', ', treba nastavit iba jeden delimiter a nasledne podla neho rozdelit do stlpcov</li>\n",
    "</ul>"
   ]
  },
  {
   "cell_type": "code",
   "execution_count": 5,
   "metadata": {},
   "outputs": [
    {
     "data": {
      "text/html": [
       "<div>\n",
       "<style scoped>\n",
       "    .dataframe tbody tr th:only-of-type {\n",
       "        vertical-align: middle;\n",
       "    }\n",
       "\n",
       "    .dataframe tbody tr th {\n",
       "        vertical-align: top;\n",
       "    }\n",
       "\n",
       "    .dataframe thead th {\n",
       "        text-align: right;\n",
       "    }\n",
       "</style>\n",
       "<table border=\"1\" class=\"dataframe\">\n",
       "  <thead>\n",
       "    <tr style=\"text-align: right;\">\n",
       "      <th></th>\n",
       "      <th>name</th>\n",
       "      <th>age</th>\n",
       "      <th>sex</th>\n",
       "      <th>date_of_birth</th>\n",
       "      <th>street</th>\n",
       "      <th>city</th>\n",
       "      <th>postal_code</th>\n",
       "    </tr>\n",
       "  </thead>\n",
       "  <tbody>\n",
       "    <tr>\n",
       "      <th>0</th>\n",
       "      <td>Roscoe Bohannon</td>\n",
       "      <td>32</td>\n",
       "      <td>Female</td>\n",
       "      <td>1987/07/22</td>\n",
       "      <td>7183 Osborne Ways Apt. 651</td>\n",
       "      <td>East Andrew</td>\n",
       "      <td>OH 53211</td>\n",
       "    </tr>\n",
       "    <tr>\n",
       "      <th>1</th>\n",
       "      <td>Ernest Kline</td>\n",
       "      <td>55</td>\n",
       "      <td>Male</td>\n",
       "      <td>1963-10-27</td>\n",
       "      <td>391 Ball Road Suite 961</td>\n",
       "      <td>Flowersborough</td>\n",
       "      <td>IN 57550</td>\n",
       "    </tr>\n",
       "    <tr>\n",
       "      <th>2</th>\n",
       "      <td>Harold Hendriks</td>\n",
       "      <td>62</td>\n",
       "      <td>Male</td>\n",
       "      <td>1957-10-05</td>\n",
       "      <td>8702 Vincent Square</td>\n",
       "      <td>New Jerryfurt</td>\n",
       "      <td>CO 30614</td>\n",
       "    </tr>\n",
       "    <tr>\n",
       "      <th>3</th>\n",
       "      <td>Randy Baptiste</td>\n",
       "      <td>47</td>\n",
       "      <td>Male</td>\n",
       "      <td>1972-06-29</td>\n",
       "      <td>2751 Harris Crossroad</td>\n",
       "      <td>West Ashley</td>\n",
       "      <td>CA 30311</td>\n",
       "    </tr>\n",
       "    <tr>\n",
       "      <th>4</th>\n",
       "      <td>Anthony Colucci</td>\n",
       "      <td>52</td>\n",
       "      <td>Female</td>\n",
       "      <td>1967-08-15</td>\n",
       "      <td>904 Robert Cliffs Suite 186</td>\n",
       "      <td>West Kyle</td>\n",
       "      <td>CO 77139</td>\n",
       "    </tr>\n",
       "  </tbody>\n",
       "</table>\n",
       "</div>"
      ],
      "text/plain": [
       "              name  age      sex date_of_birth                       street  \\\n",
       "0  Roscoe Bohannon   32   Female    1987/07/22   7183 Osborne Ways Apt. 651   \n",
       "1     Ernest Kline   55     Male    1963-10-27      391 Ball Road Suite 961   \n",
       "2  Harold Hendriks   62     Male    1957-10-05          8702 Vincent Square   \n",
       "3   Randy Baptiste   47     Male    1972-06-29        2751 Harris Crossroad   \n",
       "4  Anthony Colucci   52   Female    1967-08-15  904 Robert Cliffs Suite 186   \n",
       "\n",
       "             city postal_code  \n",
       "0     East Andrew    OH 53211  \n",
       "1  Flowersborough    IN 57550  \n",
       "2   New Jerryfurt    CO 30614  \n",
       "3     West Ashley    CA 30311  \n",
       "4       West Kyle    CO 77139  "
      ]
     },
     "execution_count": 5,
     "metadata": {},
     "output_type": "execute_result"
    }
   ],
   "source": [
    "personal = pd.read_csv('personal_train.csv', index_col=0)\n",
    "\n",
    "personal['address'] = personal['address'].str.replace('\\r\\n', ', ')\n",
    "personal[['street', 'city', 'postal_code']] = personal.address.str.split(', ', expand=True)\n",
    "personal = personal.drop(columns='address')\n",
    "personal.loc[personal['postal_code'].isnull(), 'postal_code'] = personal.loc[personal['postal_code'].isnull(), 'city']\n",
    "personal.loc[personal['postal_code'] == personal['city'], 'city'] = np.nan\n",
    "personal.head()"
   ]
  },
  {
   "cell_type": "markdown",
   "metadata": {},
   "source": [
    "Po rozdeleni adresy vznikli NaN hodnoty v stlpci 'city'. Kedze su to MNAR hodnoty, nevieme ich opravit, ale kedze s nimi nepracujeme mozeme ich ponechat."
   ]
  },
  {
   "cell_type": "code",
   "execution_count": 6,
   "metadata": {},
   "outputs": [
    {
     "data": {
      "text/html": [
       "<div>\n",
       "<style scoped>\n",
       "    .dataframe tbody tr th:only-of-type {\n",
       "        vertical-align: middle;\n",
       "    }\n",
       "\n",
       "    .dataframe tbody tr th {\n",
       "        vertical-align: top;\n",
       "    }\n",
       "\n",
       "    .dataframe thead th {\n",
       "        text-align: right;\n",
       "    }\n",
       "</style>\n",
       "<table border=\"1\" class=\"dataframe\">\n",
       "  <thead>\n",
       "    <tr style=\"text-align: right;\">\n",
       "      <th></th>\n",
       "      <th>name</th>\n",
       "      <th>age</th>\n",
       "      <th>sex</th>\n",
       "      <th>date_of_birth</th>\n",
       "      <th>street</th>\n",
       "      <th>city</th>\n",
       "      <th>postal_code</th>\n",
       "    </tr>\n",
       "  </thead>\n",
       "  <tbody>\n",
       "    <tr>\n",
       "      <th>21</th>\n",
       "      <td>Jeffrey Taylor</td>\n",
       "      <td>58</td>\n",
       "      <td>Female</td>\n",
       "      <td>1961-04-05</td>\n",
       "      <td>USNV Kim</td>\n",
       "      <td>NaN</td>\n",
       "      <td>FPO AA 96043</td>\n",
       "    </tr>\n",
       "    <tr>\n",
       "      <th>39</th>\n",
       "      <td>Todd Pagel</td>\n",
       "      <td>42</td>\n",
       "      <td>Male</td>\n",
       "      <td>1977-06-22</td>\n",
       "      <td>Unit 3142 Box 1661</td>\n",
       "      <td>NaN</td>\n",
       "      <td>DPO AE 50179</td>\n",
       "    </tr>\n",
       "    <tr>\n",
       "      <th>44</th>\n",
       "      <td>Michael Hintz</td>\n",
       "      <td>65</td>\n",
       "      <td>Male</td>\n",
       "      <td>1953/12/11</td>\n",
       "      <td>Unit 2178 Box 4941</td>\n",
       "      <td>NaN</td>\n",
       "      <td>DPO AP 69245</td>\n",
       "    </tr>\n",
       "    <tr>\n",
       "      <th>50</th>\n",
       "      <td>Sean Ferguson</td>\n",
       "      <td>48</td>\n",
       "      <td>Male</td>\n",
       "      <td>1971-04-17</td>\n",
       "      <td>USNV Castro</td>\n",
       "      <td>NaN</td>\n",
       "      <td>FPO AP 71247</td>\n",
       "    </tr>\n",
       "    <tr>\n",
       "      <th>84</th>\n",
       "      <td>Darryl Bokor</td>\n",
       "      <td>62</td>\n",
       "      <td>Male</td>\n",
       "      <td>1957-10-18 00:00:00</td>\n",
       "      <td>USNV Robinson</td>\n",
       "      <td>NaN</td>\n",
       "      <td>FPO AP 96068</td>\n",
       "    </tr>\n",
       "  </tbody>\n",
       "</table>\n",
       "</div>"
      ],
      "text/plain": [
       "              name  age      sex        date_of_birth              street  \\\n",
       "21  Jeffrey Taylor   58   Female           1961-04-05            USNV Kim   \n",
       "39      Todd Pagel   42     Male           1977-06-22  Unit 3142 Box 1661   \n",
       "44   Michael Hintz   65     Male           1953/12/11  Unit 2178 Box 4941   \n",
       "50   Sean Ferguson   48     Male           1971-04-17         USNV Castro   \n",
       "84    Darryl Bokor   62     Male  1957-10-18 00:00:00       USNV Robinson   \n",
       "\n",
       "   city   postal_code  \n",
       "21  NaN  FPO AA 96043  \n",
       "39  NaN  DPO AE 50179  \n",
       "44  NaN  DPO AP 69245  \n",
       "50  NaN  FPO AP 71247  \n",
       "84  NaN  FPO AP 96068  "
      ]
     },
     "execution_count": 6,
     "metadata": {},
     "output_type": "execute_result"
    }
   ],
   "source": [
    "personal[personal['city'].isnull()].head()"
   ]
  },
  {
   "cell_type": "markdown",
   "metadata": {},
   "source": [
    "<ul>\n",
    "<li>v stlpci date_of_birth (spojity) sa nachadzaju datumy v rozlicnych formatoch (skrateny rok, cas polnoci)</li>\n",
    "<li>treba upravit na jeden format a cely stlpec pretypovat na datetime (moze tam byt prehodeny den s mesiacom, namiesto pomlcky sa nachadza lomitko)</li>\n",
    "</ul>"
   ]
  },
  {
   "cell_type": "code",
   "execution_count": 7,
   "metadata": {},
   "outputs": [
    {
     "data": {
      "text/plain": [
       "array(['1987/07/22', '1963-10-27', '1957-10-05', ..., '1954-11-14',\n",
       "       '65-02-13', '1956-07-09'], dtype=object)"
      ]
     },
     "execution_count": 7,
     "metadata": {},
     "output_type": "execute_result"
    }
   ],
   "source": [
    "personal['date_of_birth'].values"
   ]
  },
  {
   "cell_type": "code",
   "execution_count": 8,
   "metadata": {},
   "outputs": [
    {
     "data": {
      "text/plain": [
       "array(['1987/07/22', '1963-10-27', '1957-10-05', ..., '1954-11-14',\n",
       "       '65-02-13', '1956-07-09'], dtype=object)"
      ]
     },
     "execution_count": 8,
     "metadata": {},
     "output_type": "execute_result"
    }
   ],
   "source": [
    "personal['date_of_birth'].unique()"
   ]
  },
  {
   "cell_type": "code",
   "execution_count": 9,
   "metadata": {
    "scrolled": true
   },
   "outputs": [
    {
     "data": {
      "text/html": [
       "<div>\n",
       "<style scoped>\n",
       "    .dataframe tbody tr th:only-of-type {\n",
       "        vertical-align: middle;\n",
       "    }\n",
       "\n",
       "    .dataframe tbody tr th {\n",
       "        vertical-align: top;\n",
       "    }\n",
       "\n",
       "    .dataframe thead th {\n",
       "        text-align: right;\n",
       "    }\n",
       "</style>\n",
       "<table border=\"1\" class=\"dataframe\">\n",
       "  <thead>\n",
       "    <tr style=\"text-align: right;\">\n",
       "      <th></th>\n",
       "      <th>name</th>\n",
       "      <th>age</th>\n",
       "      <th>sex</th>\n",
       "      <th>date_of_birth</th>\n",
       "      <th>street</th>\n",
       "      <th>city</th>\n",
       "      <th>postal_code</th>\n",
       "    </tr>\n",
       "  </thead>\n",
       "  <tbody>\n",
       "    <tr>\n",
       "      <th>35</th>\n",
       "      <td>Elmer King</td>\n",
       "      <td>27</td>\n",
       "      <td>Male</td>\n",
       "      <td>92-05-27</td>\n",
       "      <td>29688 Lindsey Dale Suite 077</td>\n",
       "      <td>North Cassandra</td>\n",
       "      <td>PA 31881</td>\n",
       "    </tr>\n",
       "    <tr>\n",
       "      <th>45</th>\n",
       "      <td>Steve Hawkins</td>\n",
       "      <td>78</td>\n",
       "      <td>Male</td>\n",
       "      <td>41-10-15</td>\n",
       "      <td>362 Charles Inlet Apt. 184</td>\n",
       "      <td>Ingramchester</td>\n",
       "      <td>IN 56876</td>\n",
       "    </tr>\n",
       "    <tr>\n",
       "      <th>61</th>\n",
       "      <td>Gordon Dunn</td>\n",
       "      <td>49</td>\n",
       "      <td>Female</td>\n",
       "      <td>70-05-06</td>\n",
       "      <td>868 Tony Bridge Apt. 297</td>\n",
       "      <td>New Natalieview</td>\n",
       "      <td>FL 18508</td>\n",
       "    </tr>\n",
       "    <tr>\n",
       "      <th>85</th>\n",
       "      <td>Doug Jackson</td>\n",
       "      <td>50</td>\n",
       "      <td>Male</td>\n",
       "      <td>69-09-11</td>\n",
       "      <td>89329 Sanchez Isle Suite 166</td>\n",
       "      <td>Howetown</td>\n",
       "      <td>NE 36157</td>\n",
       "    </tr>\n",
       "    <tr>\n",
       "      <th>91</th>\n",
       "      <td>Robert Killinger</td>\n",
       "      <td>68</td>\n",
       "      <td>Male</td>\n",
       "      <td>51-06-16</td>\n",
       "      <td>09437 Diana Ford Apt. 873</td>\n",
       "      <td>Delgadoside</td>\n",
       "      <td>AK 71380</td>\n",
       "    </tr>\n",
       "    <tr>\n",
       "      <th>93</th>\n",
       "      <td>Melvin Wiggins</td>\n",
       "      <td>46</td>\n",
       "      <td>Female</td>\n",
       "      <td>72-11-25</td>\n",
       "      <td>40153 Smith Shoals Apt. 459</td>\n",
       "      <td>Gonzalezshire</td>\n",
       "      <td>SD 60813</td>\n",
       "    </tr>\n",
       "    <tr>\n",
       "      <th>102</th>\n",
       "      <td>James Olsen</td>\n",
       "      <td>50</td>\n",
       "      <td>Male</td>\n",
       "      <td>69-08-23</td>\n",
       "      <td>768 Brett Keys Suite 702</td>\n",
       "      <td>South Tarashire</td>\n",
       "      <td>ID 11442</td>\n",
       "    </tr>\n",
       "    <tr>\n",
       "      <th>116</th>\n",
       "      <td>Eduardo Paci</td>\n",
       "      <td>60</td>\n",
       "      <td>Male</td>\n",
       "      <td>59-09-03</td>\n",
       "      <td>7245 Harper Fields Apt. 575</td>\n",
       "      <td>North Thomasshire</td>\n",
       "      <td>RI 44779</td>\n",
       "    </tr>\n",
       "    <tr>\n",
       "      <th>132</th>\n",
       "      <td>Hans Sackett</td>\n",
       "      <td>61</td>\n",
       "      <td>Female</td>\n",
       "      <td>58-07-25</td>\n",
       "      <td>05091 Mary Circles</td>\n",
       "      <td>Veronicafort</td>\n",
       "      <td>ND 49693</td>\n",
       "    </tr>\n",
       "    <tr>\n",
       "      <th>161</th>\n",
       "      <td>Kevin Conklin</td>\n",
       "      <td>59</td>\n",
       "      <td>Male</td>\n",
       "      <td>60-01-30</td>\n",
       "      <td>28436 Campbell Bridge Suite 836</td>\n",
       "      <td>South Andrewfurt</td>\n",
       "      <td>MT 12967</td>\n",
       "    </tr>\n",
       "    <tr>\n",
       "      <th>170</th>\n",
       "      <td>Robert Ives</td>\n",
       "      <td>71</td>\n",
       "      <td>Male</td>\n",
       "      <td>48-01-03</td>\n",
       "      <td>6762 Thompson Spur Apt. 815</td>\n",
       "      <td>Michaelside</td>\n",
       "      <td>CT 81546</td>\n",
       "    </tr>\n",
       "    <tr>\n",
       "      <th>177</th>\n",
       "      <td>Mauricio Thornbury</td>\n",
       "      <td>45</td>\n",
       "      <td>Male</td>\n",
       "      <td>73-12-10</td>\n",
       "      <td>608 Laurie Gardens Suite 395</td>\n",
       "      <td>Evansmouth</td>\n",
       "      <td>KY 68285</td>\n",
       "    </tr>\n",
       "    <tr>\n",
       "      <th>197</th>\n",
       "      <td>Charles Ryan</td>\n",
       "      <td>50</td>\n",
       "      <td>Female</td>\n",
       "      <td>69-05-22</td>\n",
       "      <td>753 Jenna Forest Suite 302</td>\n",
       "      <td>Andrewstad</td>\n",
       "      <td>SC 86668</td>\n",
       "    </tr>\n",
       "    <tr>\n",
       "      <th>203</th>\n",
       "      <td>Robert Kistner</td>\n",
       "      <td>46</td>\n",
       "      <td>Male</td>\n",
       "      <td>73-01-26</td>\n",
       "      <td>6720 Melinda Trail Suite 677</td>\n",
       "      <td>Brianfort</td>\n",
       "      <td>CA 31950</td>\n",
       "    </tr>\n",
       "    <tr>\n",
       "      <th>205</th>\n",
       "      <td>Tim Correy</td>\n",
       "      <td>52</td>\n",
       "      <td>Male</td>\n",
       "      <td>67-10-17</td>\n",
       "      <td>2512 Daniel Ports</td>\n",
       "      <td>Port Michelle</td>\n",
       "      <td>WA 48185</td>\n",
       "    </tr>\n",
       "    <tr>\n",
       "      <th>264</th>\n",
       "      <td>Howard Bray</td>\n",
       "      <td>64</td>\n",
       "      <td>Male</td>\n",
       "      <td>54-12-16</td>\n",
       "      <td>359 Angela Shores Suite 596</td>\n",
       "      <td>Millerfort</td>\n",
       "      <td>NE 21653</td>\n",
       "    </tr>\n",
       "    <tr>\n",
       "      <th>266</th>\n",
       "      <td>Emmanuel Alm</td>\n",
       "      <td>59</td>\n",
       "      <td>Male</td>\n",
       "      <td>59-10-27</td>\n",
       "      <td>89491 Adam Groves Apt. 456</td>\n",
       "      <td>West Alexander</td>\n",
       "      <td>NY 12995</td>\n",
       "    </tr>\n",
       "    <tr>\n",
       "      <th>293</th>\n",
       "      <td>Rod Steele</td>\n",
       "      <td>49</td>\n",
       "      <td>Female</td>\n",
       "      <td>69-10-30</td>\n",
       "      <td>61482 Joel Run Suite 634</td>\n",
       "      <td>Autumntown</td>\n",
       "      <td>LA 34245</td>\n",
       "    </tr>\n",
       "    <tr>\n",
       "      <th>297</th>\n",
       "      <td>Alva Taylor</td>\n",
       "      <td>34</td>\n",
       "      <td>Female</td>\n",
       "      <td>85-04-26</td>\n",
       "      <td>19075 Mcdowell Plaza</td>\n",
       "      <td>New Julie</td>\n",
       "      <td>OK 38636</td>\n",
       "    </tr>\n",
       "    <tr>\n",
       "      <th>314</th>\n",
       "      <td>William Brand</td>\n",
       "      <td>23</td>\n",
       "      <td>Male</td>\n",
       "      <td>96-03-11</td>\n",
       "      <td>9372 Andrea Creek Suite 855</td>\n",
       "      <td>Lindaport</td>\n",
       "      <td>WY 10185</td>\n",
       "    </tr>\n",
       "    <tr>\n",
       "      <th>316</th>\n",
       "      <td>Justin Thomas</td>\n",
       "      <td>45</td>\n",
       "      <td>Male</td>\n",
       "      <td>74-07-06</td>\n",
       "      <td>25935 Guzman Village Suite 192</td>\n",
       "      <td>Lake Christopher</td>\n",
       "      <td>MD 61207</td>\n",
       "    </tr>\n",
       "    <tr>\n",
       "      <th>319</th>\n",
       "      <td>Patrick Milligan</td>\n",
       "      <td>52</td>\n",
       "      <td>Female</td>\n",
       "      <td>67-04-22</td>\n",
       "      <td>0972 Andrea Islands</td>\n",
       "      <td>East Jacobmouth</td>\n",
       "      <td>MO 39742</td>\n",
       "    </tr>\n",
       "    <tr>\n",
       "      <th>333</th>\n",
       "      <td>Tony Mills</td>\n",
       "      <td>84</td>\n",
       "      <td>Female</td>\n",
       "      <td>35-03-13</td>\n",
       "      <td>8951 Lisa Burg</td>\n",
       "      <td>Lake Lorrainetown</td>\n",
       "      <td>VT 61352</td>\n",
       "    </tr>\n",
       "    <tr>\n",
       "      <th>346</th>\n",
       "      <td>Richard Steffes</td>\n",
       "      <td>30</td>\n",
       "      <td>Male</td>\n",
       "      <td>89-10-01</td>\n",
       "      <td>38633 David Plains Suite 704</td>\n",
       "      <td>Charlotteport</td>\n",
       "      <td>DC 04544</td>\n",
       "    </tr>\n",
       "    <tr>\n",
       "      <th>350</th>\n",
       "      <td>John Leon</td>\n",
       "      <td>51</td>\n",
       "      <td>Male</td>\n",
       "      <td>68-04-07</td>\n",
       "      <td>180 Long Lakes</td>\n",
       "      <td>East Melissa</td>\n",
       "      <td>VT 75450</td>\n",
       "    </tr>\n",
       "    <tr>\n",
       "      <th>356</th>\n",
       "      <td>Michael Castanada</td>\n",
       "      <td>56</td>\n",
       "      <td>Male</td>\n",
       "      <td>63-03-13</td>\n",
       "      <td>020 Matthew Spur Suite 612</td>\n",
       "      <td>Scottmouth</td>\n",
       "      <td>OR 43212</td>\n",
       "    </tr>\n",
       "    <tr>\n",
       "      <th>388</th>\n",
       "      <td>Marcus Dighton</td>\n",
       "      <td>18</td>\n",
       "      <td>Male</td>\n",
       "      <td>01-07-22</td>\n",
       "      <td>362 Nancy Forest Apt. 248</td>\n",
       "      <td>East Tina</td>\n",
       "      <td>CA 77621</td>\n",
       "    </tr>\n",
       "    <tr>\n",
       "      <th>400</th>\n",
       "      <td>Christopher Carney</td>\n",
       "      <td>50</td>\n",
       "      <td>Male</td>\n",
       "      <td>69-08-22</td>\n",
       "      <td>77276 Martinez Roads Suite 646</td>\n",
       "      <td>South Tamara</td>\n",
       "      <td>UT 83614</td>\n",
       "    </tr>\n",
       "    <tr>\n",
       "      <th>410</th>\n",
       "      <td>Caleb Eldridge</td>\n",
       "      <td>41</td>\n",
       "      <td>Male</td>\n",
       "      <td>78-10-11</td>\n",
       "      <td>PSC 3663</td>\n",
       "      <td>Box 7668</td>\n",
       "      <td>APO AA 91149</td>\n",
       "    </tr>\n",
       "    <tr>\n",
       "      <th>500</th>\n",
       "      <td>James Spaulding</td>\n",
       "      <td>80</td>\n",
       "      <td>Male</td>\n",
       "      <td>38-12-02</td>\n",
       "      <td>780 Andrew Flats Apt. 653</td>\n",
       "      <td>North Tracyfort</td>\n",
       "      <td>OH 55482</td>\n",
       "    </tr>\n",
       "    <tr>\n",
       "      <th>...</th>\n",
       "      <td>...</td>\n",
       "      <td>...</td>\n",
       "      <td>...</td>\n",
       "      <td>...</td>\n",
       "      <td>...</td>\n",
       "      <td>...</td>\n",
       "      <td>...</td>\n",
       "    </tr>\n",
       "    <tr>\n",
       "      <th>3443</th>\n",
       "      <td>Jason Bender</td>\n",
       "      <td>61</td>\n",
       "      <td>Male</td>\n",
       "      <td>58-05-14</td>\n",
       "      <td>82760 Whitney Prairie</td>\n",
       "      <td>North Vincent</td>\n",
       "      <td>UT 84021</td>\n",
       "    </tr>\n",
       "    <tr>\n",
       "      <th>3446</th>\n",
       "      <td>Harold November</td>\n",
       "      <td>55</td>\n",
       "      <td>Female</td>\n",
       "      <td>64-08-23</td>\n",
       "      <td>92985 Matthew Rapids</td>\n",
       "      <td>Port Tammy</td>\n",
       "      <td>GA 42640</td>\n",
       "    </tr>\n",
       "    <tr>\n",
       "      <th>3463</th>\n",
       "      <td>Larry Hartzell</td>\n",
       "      <td>49</td>\n",
       "      <td>Male</td>\n",
       "      <td>70-05-03</td>\n",
       "      <td>030 Lisa Estates Suite 544</td>\n",
       "      <td>Smithshire</td>\n",
       "      <td>WV 89043</td>\n",
       "    </tr>\n",
       "    <tr>\n",
       "      <th>3471</th>\n",
       "      <td>Scott Thompson</td>\n",
       "      <td>64</td>\n",
       "      <td>Male</td>\n",
       "      <td>55-07-08</td>\n",
       "      <td>0321 Ramirez Prairie</td>\n",
       "      <td>South Pamelaberg</td>\n",
       "      <td>NY 02252</td>\n",
       "    </tr>\n",
       "    <tr>\n",
       "      <th>3505</th>\n",
       "      <td>Ray Bunch</td>\n",
       "      <td>48</td>\n",
       "      <td>Male</td>\n",
       "      <td>71-01-26</td>\n",
       "      <td>6597 Monroe Common</td>\n",
       "      <td>New Amy</td>\n",
       "      <td>OK 76031</td>\n",
       "    </tr>\n",
       "    <tr>\n",
       "      <th>3517</th>\n",
       "      <td>Ricardo Fox</td>\n",
       "      <td>54</td>\n",
       "      <td>Male</td>\n",
       "      <td>64-12-09</td>\n",
       "      <td>3160 Johnson Crest</td>\n",
       "      <td>Michellefort</td>\n",
       "      <td>KY 51254</td>\n",
       "    </tr>\n",
       "    <tr>\n",
       "      <th>3554</th>\n",
       "      <td>Timothy Morrissey</td>\n",
       "      <td>56</td>\n",
       "      <td>Male</td>\n",
       "      <td>63-01-31</td>\n",
       "      <td>2502 Barker Grove</td>\n",
       "      <td>Lake Michael</td>\n",
       "      <td>MD 09357</td>\n",
       "    </tr>\n",
       "    <tr>\n",
       "      <th>3569</th>\n",
       "      <td>Michael Scott</td>\n",
       "      <td>30</td>\n",
       "      <td>Male</td>\n",
       "      <td>89-06-30</td>\n",
       "      <td>50193 Donald Estates Apt. 428</td>\n",
       "      <td>Lake Deanna</td>\n",
       "      <td>WI 74743</td>\n",
       "    </tr>\n",
       "    <tr>\n",
       "      <th>3596</th>\n",
       "      <td>Walter Spencer</td>\n",
       "      <td>57</td>\n",
       "      <td>Male</td>\n",
       "      <td>62-06-25</td>\n",
       "      <td>19213 Oconnell Divide Apt. 976</td>\n",
       "      <td>Yangmouth</td>\n",
       "      <td>LA 68994</td>\n",
       "    </tr>\n",
       "    <tr>\n",
       "      <th>3608</th>\n",
       "      <td>Jonathan Lusk</td>\n",
       "      <td>53</td>\n",
       "      <td>Male</td>\n",
       "      <td>66-10-19</td>\n",
       "      <td>942 Angelica Course</td>\n",
       "      <td>Nicolefort</td>\n",
       "      <td>CT 29243</td>\n",
       "    </tr>\n",
       "    <tr>\n",
       "      <th>3625</th>\n",
       "      <td>Clifton Seiler</td>\n",
       "      <td>61</td>\n",
       "      <td>Female</td>\n",
       "      <td>58-08-21</td>\n",
       "      <td>Unit 1988 Box 7050</td>\n",
       "      <td>NaN</td>\n",
       "      <td>DPO AE 11671</td>\n",
       "    </tr>\n",
       "    <tr>\n",
       "      <th>3638</th>\n",
       "      <td>Lorenzo Larson</td>\n",
       "      <td>51</td>\n",
       "      <td>Male</td>\n",
       "      <td>68-09-14</td>\n",
       "      <td>09214 Tracy Lodge</td>\n",
       "      <td>Port Justin</td>\n",
       "      <td>MD 62772</td>\n",
       "    </tr>\n",
       "    <tr>\n",
       "      <th>3645</th>\n",
       "      <td>Joey Ott</td>\n",
       "      <td>46</td>\n",
       "      <td>Female</td>\n",
       "      <td>73-09-12</td>\n",
       "      <td>USNS Cox</td>\n",
       "      <td>NaN</td>\n",
       "      <td>FPO AA 02523</td>\n",
       "    </tr>\n",
       "    <tr>\n",
       "      <th>3649</th>\n",
       "      <td>John Mcneely</td>\n",
       "      <td>42</td>\n",
       "      <td>Male</td>\n",
       "      <td>77-09-03</td>\n",
       "      <td>51836 Shelton Bridge Suite 449</td>\n",
       "      <td>Carrstad</td>\n",
       "      <td>TN 78454</td>\n",
       "    </tr>\n",
       "    <tr>\n",
       "      <th>3670</th>\n",
       "      <td>Eldon Ford</td>\n",
       "      <td>62</td>\n",
       "      <td>Female</td>\n",
       "      <td>57-05-04</td>\n",
       "      <td>448 Melinda Locks</td>\n",
       "      <td>North Andrew</td>\n",
       "      <td>SD 51792</td>\n",
       "    </tr>\n",
       "    <tr>\n",
       "      <th>3678</th>\n",
       "      <td>Kendall Ingham</td>\n",
       "      <td>56</td>\n",
       "      <td>Male</td>\n",
       "      <td>62-11-24</td>\n",
       "      <td>5391 Adrian Corner Suite 865</td>\n",
       "      <td>New Sara</td>\n",
       "      <td>UT 39036</td>\n",
       "    </tr>\n",
       "    <tr>\n",
       "      <th>3687</th>\n",
       "      <td>Eric Marquez</td>\n",
       "      <td>58</td>\n",
       "      <td>Male</td>\n",
       "      <td>61-01-30</td>\n",
       "      <td>USS Golden</td>\n",
       "      <td>NaN</td>\n",
       "      <td>FPO AP 12414</td>\n",
       "    </tr>\n",
       "    <tr>\n",
       "      <th>3692</th>\n",
       "      <td>Richard Bunda</td>\n",
       "      <td>53</td>\n",
       "      <td>Male</td>\n",
       "      <td>65-11-03</td>\n",
       "      <td>62083 Butler Ramp Apt. 042</td>\n",
       "      <td>East Stephanie</td>\n",
       "      <td>IA 82323</td>\n",
       "    </tr>\n",
       "    <tr>\n",
       "      <th>3733</th>\n",
       "      <td>John Burkman</td>\n",
       "      <td>52</td>\n",
       "      <td>Female</td>\n",
       "      <td>67-07-08</td>\n",
       "      <td>79921 Colleen Shoals</td>\n",
       "      <td>Colinburgh</td>\n",
       "      <td>TN 26421</td>\n",
       "    </tr>\n",
       "    <tr>\n",
       "      <th>3742</th>\n",
       "      <td>Sidney Williams</td>\n",
       "      <td>66</td>\n",
       "      <td>Male</td>\n",
       "      <td>53-08-17</td>\n",
       "      <td>PSC 5220</td>\n",
       "      <td>Box 1266</td>\n",
       "      <td>APO AE 14317</td>\n",
       "    </tr>\n",
       "    <tr>\n",
       "      <th>3801</th>\n",
       "      <td>Vincent Smith</td>\n",
       "      <td>53</td>\n",
       "      <td>Male</td>\n",
       "      <td>66-04-14</td>\n",
       "      <td>236 George Inlet Apt. 035</td>\n",
       "      <td>Lake Gilbertstad</td>\n",
       "      <td>OK 77667</td>\n",
       "    </tr>\n",
       "    <tr>\n",
       "      <th>3815</th>\n",
       "      <td>Daniel Arreola</td>\n",
       "      <td>39</td>\n",
       "      <td>Male</td>\n",
       "      <td>80-06-25</td>\n",
       "      <td>4206 Tiffany Land Apt. 402</td>\n",
       "      <td>South Michael</td>\n",
       "      <td>SC 43171</td>\n",
       "    </tr>\n",
       "    <tr>\n",
       "      <th>3846</th>\n",
       "      <td>Edgar Hicks</td>\n",
       "      <td>33</td>\n",
       "      <td>Male</td>\n",
       "      <td>86-09-16</td>\n",
       "      <td>86046 Jessica Islands Suite 396</td>\n",
       "      <td>South Randy</td>\n",
       "      <td>ND 59026</td>\n",
       "    </tr>\n",
       "    <tr>\n",
       "      <th>3872</th>\n",
       "      <td>James Scott</td>\n",
       "      <td>59</td>\n",
       "      <td>Female</td>\n",
       "      <td>60-02-18</td>\n",
       "      <td>496 Rachel Divide Apt. 374</td>\n",
       "      <td>Teresaview</td>\n",
       "      <td>NC 24982</td>\n",
       "    </tr>\n",
       "    <tr>\n",
       "      <th>3878</th>\n",
       "      <td>Floyd Squires</td>\n",
       "      <td>62</td>\n",
       "      <td>Female</td>\n",
       "      <td>57-08-28</td>\n",
       "      <td>122 Ryan Ranch Suite 621</td>\n",
       "      <td>Port Douglas</td>\n",
       "      <td>NM 04109</td>\n",
       "    </tr>\n",
       "    <tr>\n",
       "      <th>3892</th>\n",
       "      <td>Phillip Melvin</td>\n",
       "      <td>37</td>\n",
       "      <td>Female</td>\n",
       "      <td>82-06-09</td>\n",
       "      <td>703 Richard Cliffs</td>\n",
       "      <td>Port Jeremy</td>\n",
       "      <td>PA 47362</td>\n",
       "    </tr>\n",
       "    <tr>\n",
       "      <th>3901</th>\n",
       "      <td>Ricardo Stagg</td>\n",
       "      <td>58</td>\n",
       "      <td>Female</td>\n",
       "      <td>61-06-06</td>\n",
       "      <td>647 Richard Loop</td>\n",
       "      <td>South Gary</td>\n",
       "      <td>WV 31378</td>\n",
       "    </tr>\n",
       "    <tr>\n",
       "      <th>3905</th>\n",
       "      <td>Jarrod Duffy</td>\n",
       "      <td>56</td>\n",
       "      <td>Male</td>\n",
       "      <td>62-12-08</td>\n",
       "      <td>6164 Sanchez Divide Suite 420</td>\n",
       "      <td>Ralphborough</td>\n",
       "      <td>CA 22961</td>\n",
       "    </tr>\n",
       "    <tr>\n",
       "      <th>3911</th>\n",
       "      <td>Wallace King</td>\n",
       "      <td>68</td>\n",
       "      <td>Male</td>\n",
       "      <td>51-08-18</td>\n",
       "      <td>06226 Rebecca Village</td>\n",
       "      <td>West Christopherside</td>\n",
       "      <td>NC 29591</td>\n",
       "    </tr>\n",
       "    <tr>\n",
       "      <th>3931</th>\n",
       "      <td>Frederick Lawley</td>\n",
       "      <td>54</td>\n",
       "      <td>Female</td>\n",
       "      <td>65-02-13</td>\n",
       "      <td>34420 Brian Stream</td>\n",
       "      <td>Lake Michaeltown</td>\n",
       "      <td>MS 01832</td>\n",
       "    </tr>\n",
       "  </tbody>\n",
       "</table>\n",
       "<p>249 rows × 7 columns</p>\n",
       "</div>"
      ],
      "text/plain": [
       "                    name  age      sex date_of_birth  \\\n",
       "35            Elmer King   27     Male      92-05-27   \n",
       "45         Steve Hawkins   78     Male      41-10-15   \n",
       "61           Gordon Dunn   49   Female      70-05-06   \n",
       "85          Doug Jackson   50     Male      69-09-11   \n",
       "91      Robert Killinger   68     Male      51-06-16   \n",
       "93        Melvin Wiggins   46   Female      72-11-25   \n",
       "102          James Olsen   50     Male      69-08-23   \n",
       "116         Eduardo Paci   60     Male      59-09-03   \n",
       "132         Hans Sackett   61   Female      58-07-25   \n",
       "161        Kevin Conklin   59     Male      60-01-30   \n",
       "170          Robert Ives   71     Male      48-01-03   \n",
       "177   Mauricio Thornbury   45     Male      73-12-10   \n",
       "197         Charles Ryan   50   Female      69-05-22   \n",
       "203       Robert Kistner   46     Male      73-01-26   \n",
       "205           Tim Correy   52     Male      67-10-17   \n",
       "264          Howard Bray   64     Male      54-12-16   \n",
       "266         Emmanuel Alm   59     Male      59-10-27   \n",
       "293           Rod Steele   49   Female      69-10-30   \n",
       "297          Alva Taylor   34   Female      85-04-26   \n",
       "314        William Brand   23     Male      96-03-11   \n",
       "316        Justin Thomas   45     Male      74-07-06   \n",
       "319     Patrick Milligan   52   Female      67-04-22   \n",
       "333           Tony Mills   84   Female      35-03-13   \n",
       "346      Richard Steffes   30     Male      89-10-01   \n",
       "350            John Leon   51     Male      68-04-07   \n",
       "356    Michael Castanada   56     Male      63-03-13   \n",
       "388       Marcus Dighton   18     Male      01-07-22   \n",
       "400   Christopher Carney   50     Male      69-08-22   \n",
       "410       Caleb Eldridge   41     Male      78-10-11   \n",
       "500      James Spaulding   80     Male      38-12-02   \n",
       "...                  ...  ...      ...           ...   \n",
       "3443        Jason Bender   61     Male      58-05-14   \n",
       "3446     Harold November   55   Female      64-08-23   \n",
       "3463      Larry Hartzell   49     Male      70-05-03   \n",
       "3471      Scott Thompson   64     Male      55-07-08   \n",
       "3505           Ray Bunch   48     Male      71-01-26   \n",
       "3517         Ricardo Fox   54     Male      64-12-09   \n",
       "3554   Timothy Morrissey   56     Male      63-01-31   \n",
       "3569       Michael Scott   30     Male      89-06-30   \n",
       "3596      Walter Spencer   57     Male      62-06-25   \n",
       "3608       Jonathan Lusk   53     Male      66-10-19   \n",
       "3625      Clifton Seiler   61   Female      58-08-21   \n",
       "3638      Lorenzo Larson   51     Male      68-09-14   \n",
       "3645            Joey Ott   46   Female      73-09-12   \n",
       "3649        John Mcneely   42     Male      77-09-03   \n",
       "3670          Eldon Ford   62   Female      57-05-04   \n",
       "3678      Kendall Ingham   56     Male      62-11-24   \n",
       "3687        Eric Marquez   58     Male      61-01-30   \n",
       "3692       Richard Bunda   53     Male      65-11-03   \n",
       "3733        John Burkman   52   Female      67-07-08   \n",
       "3742     Sidney Williams   66     Male      53-08-17   \n",
       "3801       Vincent Smith   53     Male      66-04-14   \n",
       "3815      Daniel Arreola   39     Male      80-06-25   \n",
       "3846         Edgar Hicks   33     Male      86-09-16   \n",
       "3872         James Scott   59   Female      60-02-18   \n",
       "3878       Floyd Squires   62   Female      57-08-28   \n",
       "3892      Phillip Melvin   37   Female      82-06-09   \n",
       "3901       Ricardo Stagg   58   Female      61-06-06   \n",
       "3905        Jarrod Duffy   56     Male      62-12-08   \n",
       "3911        Wallace King   68     Male      51-08-18   \n",
       "3931    Frederick Lawley   54   Female      65-02-13   \n",
       "\n",
       "                               street                  city   postal_code  \n",
       "35       29688 Lindsey Dale Suite 077       North Cassandra      PA 31881  \n",
       "45         362 Charles Inlet Apt. 184         Ingramchester      IN 56876  \n",
       "61           868 Tony Bridge Apt. 297       New Natalieview      FL 18508  \n",
       "85       89329 Sanchez Isle Suite 166              Howetown      NE 36157  \n",
       "91          09437 Diana Ford Apt. 873           Delgadoside      AK 71380  \n",
       "93        40153 Smith Shoals Apt. 459         Gonzalezshire      SD 60813  \n",
       "102          768 Brett Keys Suite 702       South Tarashire      ID 11442  \n",
       "116       7245 Harper Fields Apt. 575     North Thomasshire      RI 44779  \n",
       "132                05091 Mary Circles          Veronicafort      ND 49693  \n",
       "161   28436 Campbell Bridge Suite 836      South Andrewfurt      MT 12967  \n",
       "170       6762 Thompson Spur Apt. 815           Michaelside      CT 81546  \n",
       "177      608 Laurie Gardens Suite 395            Evansmouth      KY 68285  \n",
       "197        753 Jenna Forest Suite 302            Andrewstad      SC 86668  \n",
       "203      6720 Melinda Trail Suite 677             Brianfort      CA 31950  \n",
       "205                 2512 Daniel Ports         Port Michelle      WA 48185  \n",
       "264       359 Angela Shores Suite 596            Millerfort      NE 21653  \n",
       "266        89491 Adam Groves Apt. 456        West Alexander      NY 12995  \n",
       "293          61482 Joel Run Suite 634            Autumntown      LA 34245  \n",
       "297              19075 Mcdowell Plaza             New Julie      OK 38636  \n",
       "314       9372 Andrea Creek Suite 855             Lindaport      WY 10185  \n",
       "316    25935 Guzman Village Suite 192      Lake Christopher      MD 61207  \n",
       "319               0972 Andrea Islands       East Jacobmouth      MO 39742  \n",
       "333                    8951 Lisa Burg     Lake Lorrainetown      VT 61352  \n",
       "346      38633 David Plains Suite 704         Charlotteport      DC 04544  \n",
       "350                    180 Long Lakes          East Melissa      VT 75450  \n",
       "356        020 Matthew Spur Suite 612            Scottmouth      OR 43212  \n",
       "388         362 Nancy Forest Apt. 248             East Tina      CA 77621  \n",
       "400    77276 Martinez Roads Suite 646          South Tamara      UT 83614  \n",
       "410                          PSC 3663              Box 7668  APO AA 91149  \n",
       "500         780 Andrew Flats Apt. 653       North Tracyfort      OH 55482  \n",
       "...                               ...                   ...           ...  \n",
       "3443            82760 Whitney Prairie         North Vincent      UT 84021  \n",
       "3446             92985 Matthew Rapids            Port Tammy      GA 42640  \n",
       "3463       030 Lisa Estates Suite 544            Smithshire      WV 89043  \n",
       "3471             0321 Ramirez Prairie      South Pamelaberg      NY 02252  \n",
       "3505               6597 Monroe Common               New Amy      OK 76031  \n",
       "3517               3160 Johnson Crest          Michellefort      KY 51254  \n",
       "3554                2502 Barker Grove          Lake Michael      MD 09357  \n",
       "3569    50193 Donald Estates Apt. 428           Lake Deanna      WI 74743  \n",
       "3596   19213 Oconnell Divide Apt. 976             Yangmouth      LA 68994  \n",
       "3608              942 Angelica Course            Nicolefort      CT 29243  \n",
       "3625               Unit 1988 Box 7050                   NaN  DPO AE 11671  \n",
       "3638                09214 Tracy Lodge           Port Justin      MD 62772  \n",
       "3645                         USNS Cox                   NaN  FPO AA 02523  \n",
       "3649   51836 Shelton Bridge Suite 449              Carrstad      TN 78454  \n",
       "3670                448 Melinda Locks          North Andrew      SD 51792  \n",
       "3678     5391 Adrian Corner Suite 865              New Sara      UT 39036  \n",
       "3687                       USS Golden                   NaN  FPO AP 12414  \n",
       "3692       62083 Butler Ramp Apt. 042        East Stephanie      IA 82323  \n",
       "3733             79921 Colleen Shoals            Colinburgh      TN 26421  \n",
       "3742                         PSC 5220              Box 1266  APO AE 14317  \n",
       "3801        236 George Inlet Apt. 035      Lake Gilbertstad      OK 77667  \n",
       "3815       4206 Tiffany Land Apt. 402         South Michael      SC 43171  \n",
       "3846  86046 Jessica Islands Suite 396           South Randy      ND 59026  \n",
       "3872       496 Rachel Divide Apt. 374            Teresaview      NC 24982  \n",
       "3878         122 Ryan Ranch Suite 621          Port Douglas      NM 04109  \n",
       "3892               703 Richard Cliffs           Port Jeremy      PA 47362  \n",
       "3901                 647 Richard Loop            South Gary      WV 31378  \n",
       "3905    6164 Sanchez Divide Suite 420          Ralphborough      CA 22961  \n",
       "3911            06226 Rebecca Village  West Christopherside      NC 29591  \n",
       "3931               34420 Brian Stream      Lake Michaeltown      MS 01832  \n",
       "\n",
       "[249 rows x 7 columns]"
      ]
     },
     "execution_count": 9,
     "metadata": {},
     "output_type": "execute_result"
    }
   ],
   "source": [
    "personal[personal['date_of_birth'].str.len() < 10]"
   ]
  },
  {
   "cell_type": "code",
   "execution_count": 10,
   "metadata": {},
   "outputs": [],
   "source": [
    "personal.loc[personal['date_of_birth'].str.len() < 10, 'date_of_birth'] = '19' + personal.loc[personal['date_of_birth'].str.len() < 10, 'date_of_birth']"
   ]
  },
  {
   "cell_type": "code",
   "execution_count": 11,
   "metadata": {
    "scrolled": true
   },
   "outputs": [
    {
     "data": {
      "text/html": [
       "<div>\n",
       "<style scoped>\n",
       "    .dataframe tbody tr th:only-of-type {\n",
       "        vertical-align: middle;\n",
       "    }\n",
       "\n",
       "    .dataframe tbody tr th {\n",
       "        vertical-align: top;\n",
       "    }\n",
       "\n",
       "    .dataframe thead th {\n",
       "        text-align: right;\n",
       "    }\n",
       "</style>\n",
       "<table border=\"1\" class=\"dataframe\">\n",
       "  <thead>\n",
       "    <tr style=\"text-align: right;\">\n",
       "      <th></th>\n",
       "      <th>name</th>\n",
       "      <th>age</th>\n",
       "      <th>sex</th>\n",
       "      <th>date_of_birth</th>\n",
       "      <th>street</th>\n",
       "      <th>city</th>\n",
       "      <th>postal_code</th>\n",
       "    </tr>\n",
       "  </thead>\n",
       "  <tbody>\n",
       "    <tr>\n",
       "      <th>5</th>\n",
       "      <td>Ronald Lange</td>\n",
       "      <td>47</td>\n",
       "      <td>Female</td>\n",
       "      <td>1971-12-23 00 00 00</td>\n",
       "      <td>30973 Martinez Shores</td>\n",
       "      <td>Jameston</td>\n",
       "      <td>CA 70245</td>\n",
       "    </tr>\n",
       "    <tr>\n",
       "      <th>16</th>\n",
       "      <td>Chauncey Suarez</td>\n",
       "      <td>55</td>\n",
       "      <td>Male</td>\n",
       "      <td>1963-10-29 00 00 00</td>\n",
       "      <td>481 Wilson Prairie</td>\n",
       "      <td>Kimberlymouth</td>\n",
       "      <td>LA 20064</td>\n",
       "    </tr>\n",
       "    <tr>\n",
       "      <th>24</th>\n",
       "      <td>Thaddeus Mackerl</td>\n",
       "      <td>57</td>\n",
       "      <td>Male</td>\n",
       "      <td>1962-07-29 00 00 00</td>\n",
       "      <td>8122 Jessica Knolls Apt. 880</td>\n",
       "      <td>Dakotafurt</td>\n",
       "      <td>WV 62098</td>\n",
       "    </tr>\n",
       "    <tr>\n",
       "      <th>28</th>\n",
       "      <td>Harold Odowd</td>\n",
       "      <td>58</td>\n",
       "      <td>Male</td>\n",
       "      <td>1961-09-09 00 00 00</td>\n",
       "      <td>7842 Curtis Vista Apt. 188</td>\n",
       "      <td>Lake Samuelburgh</td>\n",
       "      <td>GA 55767</td>\n",
       "    </tr>\n",
       "    <tr>\n",
       "      <th>33</th>\n",
       "      <td>William Morago</td>\n",
       "      <td>51</td>\n",
       "      <td>Male</td>\n",
       "      <td>1968-09-06 00 00 00</td>\n",
       "      <td>609 Matthew Causeway Apt. 234</td>\n",
       "      <td>Lake Victoriamouth</td>\n",
       "      <td>KY 04432</td>\n",
       "    </tr>\n",
       "    <tr>\n",
       "      <th>36</th>\n",
       "      <td>Edgar Holbrook</td>\n",
       "      <td>44</td>\n",
       "      <td>Male</td>\n",
       "      <td>1975-10-06 00:00:00</td>\n",
       "      <td>902 Figueroa Fields Suite 708</td>\n",
       "      <td>Davishaven</td>\n",
       "      <td>OK 14930</td>\n",
       "    </tr>\n",
       "    <tr>\n",
       "      <th>42</th>\n",
       "      <td>Nicolas Sardina</td>\n",
       "      <td>57</td>\n",
       "      <td>Male</td>\n",
       "      <td>1962-05-08 00 00 00</td>\n",
       "      <td>8054 Bryce Shoal</td>\n",
       "      <td>Amyfort</td>\n",
       "      <td>SC 57887</td>\n",
       "    </tr>\n",
       "    <tr>\n",
       "      <th>56</th>\n",
       "      <td>Keith Loy</td>\n",
       "      <td>58</td>\n",
       "      <td>Female</td>\n",
       "      <td>1961-04-30 00:00:00</td>\n",
       "      <td>46552 Sullivan Street</td>\n",
       "      <td>Whiteville</td>\n",
       "      <td>OR 51827</td>\n",
       "    </tr>\n",
       "    <tr>\n",
       "      <th>59</th>\n",
       "      <td>Michael Outlaw</td>\n",
       "      <td>53</td>\n",
       "      <td>Female</td>\n",
       "      <td>1966-08-14 00:00:00</td>\n",
       "      <td>735 Valerie Hill</td>\n",
       "      <td>Websterfort</td>\n",
       "      <td>AZ 79829</td>\n",
       "    </tr>\n",
       "    <tr>\n",
       "      <th>72</th>\n",
       "      <td>Patrick Jacobs</td>\n",
       "      <td>58</td>\n",
       "      <td>Female</td>\n",
       "      <td>1961-02-16 00:00:00</td>\n",
       "      <td>0837 Patrick Highway Suite 797</td>\n",
       "      <td>Port Jacquelinefort</td>\n",
       "      <td>MS 46400</td>\n",
       "    </tr>\n",
       "    <tr>\n",
       "      <th>73</th>\n",
       "      <td>David Henderson</td>\n",
       "      <td>21</td>\n",
       "      <td>Male</td>\n",
       "      <td>1997-11-01 00 00 00</td>\n",
       "      <td>64832 Shannon Spurs Apt. 645</td>\n",
       "      <td>Richardsport</td>\n",
       "      <td>TN 56024</td>\n",
       "    </tr>\n",
       "    <tr>\n",
       "      <th>84</th>\n",
       "      <td>Darryl Bokor</td>\n",
       "      <td>62</td>\n",
       "      <td>Male</td>\n",
       "      <td>1957-10-18 00:00:00</td>\n",
       "      <td>USNV Robinson</td>\n",
       "      <td>NaN</td>\n",
       "      <td>FPO AP 96068</td>\n",
       "    </tr>\n",
       "    <tr>\n",
       "      <th>110</th>\n",
       "      <td>Adrian Strohm</td>\n",
       "      <td>68</td>\n",
       "      <td>Male</td>\n",
       "      <td>1951-07-21 00:00:00</td>\n",
       "      <td>68090 Edwards Fall</td>\n",
       "      <td>Lake Paige</td>\n",
       "      <td>MS 70271</td>\n",
       "    </tr>\n",
       "    <tr>\n",
       "      <th>125</th>\n",
       "      <td>Frankie Cook</td>\n",
       "      <td>43</td>\n",
       "      <td>Male</td>\n",
       "      <td>1976-05-08 00:00:00</td>\n",
       "      <td>13756 Anita Ford Apt. 259</td>\n",
       "      <td>North Aaron</td>\n",
       "      <td>PA 40525</td>\n",
       "    </tr>\n",
       "    <tr>\n",
       "      <th>135</th>\n",
       "      <td>Luke Smart</td>\n",
       "      <td>82</td>\n",
       "      <td>Male</td>\n",
       "      <td>1937-07-23 00 00 00</td>\n",
       "      <td>56200 Skinner Loaf</td>\n",
       "      <td>Lake Kennethshire</td>\n",
       "      <td>MS 89242</td>\n",
       "    </tr>\n",
       "    <tr>\n",
       "      <th>144</th>\n",
       "      <td>James Dyer</td>\n",
       "      <td>55</td>\n",
       "      <td>Male</td>\n",
       "      <td>1964-04-09 00 00 00</td>\n",
       "      <td>204 Young Hill Suite 981</td>\n",
       "      <td>Marychester</td>\n",
       "      <td>FL 77735</td>\n",
       "    </tr>\n",
       "    <tr>\n",
       "      <th>159</th>\n",
       "      <td>Desmond Standard</td>\n",
       "      <td>57</td>\n",
       "      <td>Male</td>\n",
       "      <td>1962-07-10 00 00 00</td>\n",
       "      <td>6822 Perry Mountains Suite 235</td>\n",
       "      <td>New Ericmouth</td>\n",
       "      <td>MT 27447</td>\n",
       "    </tr>\n",
       "    <tr>\n",
       "      <th>168</th>\n",
       "      <td>Lonnie Butler</td>\n",
       "      <td>46</td>\n",
       "      <td>Male</td>\n",
       "      <td>1972-12-01 00:00:00</td>\n",
       "      <td>PSC 2519</td>\n",
       "      <td>Box 9972</td>\n",
       "      <td>APO AA 20654</td>\n",
       "    </tr>\n",
       "    <tr>\n",
       "      <th>171</th>\n",
       "      <td>Matthew Williams</td>\n",
       "      <td>57</td>\n",
       "      <td>Male</td>\n",
       "      <td>1961-10-26 00:00:00</td>\n",
       "      <td>969 Angela Junctions</td>\n",
       "      <td>Pattonshire</td>\n",
       "      <td>NE 60625</td>\n",
       "    </tr>\n",
       "    <tr>\n",
       "      <th>174</th>\n",
       "      <td>George Schreckengost</td>\n",
       "      <td>66</td>\n",
       "      <td>Male</td>\n",
       "      <td>1952-12-30 00:00:00</td>\n",
       "      <td>03632 Alan Land</td>\n",
       "      <td>Michellestad</td>\n",
       "      <td>NC 54149</td>\n",
       "    </tr>\n",
       "    <tr>\n",
       "      <th>190</th>\n",
       "      <td>James Eells</td>\n",
       "      <td>24</td>\n",
       "      <td>Female</td>\n",
       "      <td>1995-09-13 00 00 00</td>\n",
       "      <td>9949 David Fields Suite 552</td>\n",
       "      <td>Lindaview</td>\n",
       "      <td>NM 60872</td>\n",
       "    </tr>\n",
       "    <tr>\n",
       "      <th>193</th>\n",
       "      <td>Robert Fowler</td>\n",
       "      <td>30</td>\n",
       "      <td>Male</td>\n",
       "      <td>1989-03-21 00:00:00</td>\n",
       "      <td>664 Gamble Rapids</td>\n",
       "      <td>Lake Candace</td>\n",
       "      <td>CO 37399</td>\n",
       "    </tr>\n",
       "    <tr>\n",
       "      <th>194</th>\n",
       "      <td>Joseph Binford</td>\n",
       "      <td>46</td>\n",
       "      <td>Male</td>\n",
       "      <td>1973-02-03 00:00:00</td>\n",
       "      <td>USS Chen</td>\n",
       "      <td>NaN</td>\n",
       "      <td>FPO AE 55593</td>\n",
       "    </tr>\n",
       "    <tr>\n",
       "      <th>196</th>\n",
       "      <td>Mike Rogers</td>\n",
       "      <td>57</td>\n",
       "      <td>Male</td>\n",
       "      <td>1962-01-30 00 00 00</td>\n",
       "      <td>068 Baker Estates Apt. 300</td>\n",
       "      <td>Roberttown</td>\n",
       "      <td>NV 50205</td>\n",
       "    </tr>\n",
       "    <tr>\n",
       "      <th>214</th>\n",
       "      <td>John Lapp</td>\n",
       "      <td>56</td>\n",
       "      <td>Male</td>\n",
       "      <td>1963-03-30 00 00 00</td>\n",
       "      <td>6432 Macdonald Street Apt. 035</td>\n",
       "      <td>Harrisonshire</td>\n",
       "      <td>MD 67904</td>\n",
       "    </tr>\n",
       "    <tr>\n",
       "      <th>218</th>\n",
       "      <td>Ronnie Moore</td>\n",
       "      <td>68</td>\n",
       "      <td>Male</td>\n",
       "      <td>1951-07-13 00 00 00</td>\n",
       "      <td>0755 Soto Oval Apt. 443</td>\n",
       "      <td>West Markside</td>\n",
       "      <td>TX 32737</td>\n",
       "    </tr>\n",
       "    <tr>\n",
       "      <th>222</th>\n",
       "      <td>Rene Jones</td>\n",
       "      <td>64</td>\n",
       "      <td>Male</td>\n",
       "      <td>1955-07-08 00:00:00</td>\n",
       "      <td>4085 Theresa Mews Apt. 480</td>\n",
       "      <td>Pierceshire</td>\n",
       "      <td>MS 48642</td>\n",
       "    </tr>\n",
       "    <tr>\n",
       "      <th>225</th>\n",
       "      <td>Robert Zweier</td>\n",
       "      <td>47</td>\n",
       "      <td>Female</td>\n",
       "      <td>1972-02-04 00 00 00</td>\n",
       "      <td>PSC 2734</td>\n",
       "      <td>Box 9350</td>\n",
       "      <td>APO AE 27753</td>\n",
       "    </tr>\n",
       "    <tr>\n",
       "      <th>237</th>\n",
       "      <td>Leland Gottron</td>\n",
       "      <td>42</td>\n",
       "      <td>Male</td>\n",
       "      <td>1977-07-19 00 00 00</td>\n",
       "      <td>1382 Lewis Garden Suite 516</td>\n",
       "      <td>Gatesland</td>\n",
       "      <td>NE 81810</td>\n",
       "    </tr>\n",
       "    <tr>\n",
       "      <th>239</th>\n",
       "      <td>Ralph Manning</td>\n",
       "      <td>49</td>\n",
       "      <td>Female</td>\n",
       "      <td>1969-11-06 00 00 00</td>\n",
       "      <td>Unit 2892 Box 4013</td>\n",
       "      <td>NaN</td>\n",
       "      <td>DPO AA 21681</td>\n",
       "    </tr>\n",
       "    <tr>\n",
       "      <th>...</th>\n",
       "      <td>...</td>\n",
       "      <td>...</td>\n",
       "      <td>...</td>\n",
       "      <td>...</td>\n",
       "      <td>...</td>\n",
       "      <td>...</td>\n",
       "      <td>...</td>\n",
       "    </tr>\n",
       "    <tr>\n",
       "      <th>3732</th>\n",
       "      <td>Kenneth Mann</td>\n",
       "      <td>27</td>\n",
       "      <td>Female</td>\n",
       "      <td>1992-05-13 00:00:00</td>\n",
       "      <td>49115 Katelyn Parkways Apt. 588</td>\n",
       "      <td>Port Brandon</td>\n",
       "      <td>DE 58359</td>\n",
       "    </tr>\n",
       "    <tr>\n",
       "      <th>3736</th>\n",
       "      <td>Ricardo Campbell</td>\n",
       "      <td>52</td>\n",
       "      <td>Male</td>\n",
       "      <td>1967-02-24 00 00 00</td>\n",
       "      <td>799 Janet Views</td>\n",
       "      <td>Jennifershire</td>\n",
       "      <td>LA 33756</td>\n",
       "    </tr>\n",
       "    <tr>\n",
       "      <th>3740</th>\n",
       "      <td>William Denny</td>\n",
       "      <td>69</td>\n",
       "      <td>Male</td>\n",
       "      <td>1950-09-27 00:00:00</td>\n",
       "      <td>53736 Lopez Dam</td>\n",
       "      <td>South Katherinetown</td>\n",
       "      <td>WV 03538</td>\n",
       "    </tr>\n",
       "    <tr>\n",
       "      <th>3752</th>\n",
       "      <td>Robert Cadiz</td>\n",
       "      <td>48</td>\n",
       "      <td>Female</td>\n",
       "      <td>1971-04-15 00:00:00</td>\n",
       "      <td>2471 Bridget Knoll</td>\n",
       "      <td>Port Wandatown</td>\n",
       "      <td>TN 34820</td>\n",
       "    </tr>\n",
       "    <tr>\n",
       "      <th>3759</th>\n",
       "      <td>Bill Fallis</td>\n",
       "      <td>42</td>\n",
       "      <td>Female</td>\n",
       "      <td>1977-09-11 00:00:00</td>\n",
       "      <td>45448 Velasquez Land Suite 571</td>\n",
       "      <td>Nicolestad</td>\n",
       "      <td>TN 40172</td>\n",
       "    </tr>\n",
       "    <tr>\n",
       "      <th>3772</th>\n",
       "      <td>Edgar Harms</td>\n",
       "      <td>59</td>\n",
       "      <td>Female</td>\n",
       "      <td>1959-12-17 00 00 00</td>\n",
       "      <td>92451 Latoya Prairie Suite 607</td>\n",
       "      <td>Port Monica</td>\n",
       "      <td>NJ 50471</td>\n",
       "    </tr>\n",
       "    <tr>\n",
       "      <th>3776</th>\n",
       "      <td>Moshe Huggins</td>\n",
       "      <td>74</td>\n",
       "      <td>Male</td>\n",
       "      <td>1945-03-02 00 00 00</td>\n",
       "      <td>3232 Perry Village</td>\n",
       "      <td>Wolfeborough</td>\n",
       "      <td>AZ 38532</td>\n",
       "    </tr>\n",
       "    <tr>\n",
       "      <th>3781</th>\n",
       "      <td>Lorenzo Thomas</td>\n",
       "      <td>50</td>\n",
       "      <td>Female</td>\n",
       "      <td>1969-06-22 00:00:00</td>\n",
       "      <td>106 Gregory Port Suite 969</td>\n",
       "      <td>North Maxwelltown</td>\n",
       "      <td>MO 08225</td>\n",
       "    </tr>\n",
       "    <tr>\n",
       "      <th>3782</th>\n",
       "      <td>Clyde Bader</td>\n",
       "      <td>59</td>\n",
       "      <td>Female</td>\n",
       "      <td>1960-04-24 00:00:00</td>\n",
       "      <td>52506 Deborah Fall</td>\n",
       "      <td>Piercemouth</td>\n",
       "      <td>UT 14995</td>\n",
       "    </tr>\n",
       "    <tr>\n",
       "      <th>3790</th>\n",
       "      <td>Edward Adams</td>\n",
       "      <td>19</td>\n",
       "      <td>Female</td>\n",
       "      <td>2000-06-13 00:00:00</td>\n",
       "      <td>34013 Ryan Park Suite 437</td>\n",
       "      <td>Smithside</td>\n",
       "      <td>OH 56416</td>\n",
       "    </tr>\n",
       "    <tr>\n",
       "      <th>3813</th>\n",
       "      <td>Todd Longie</td>\n",
       "      <td>49</td>\n",
       "      <td>Male</td>\n",
       "      <td>1970-03-10 00 00 00</td>\n",
       "      <td>09050 Phillips Wells Apt. 538</td>\n",
       "      <td>Rileymouth</td>\n",
       "      <td>NV 46699</td>\n",
       "    </tr>\n",
       "    <tr>\n",
       "      <th>3816</th>\n",
       "      <td>Caleb Valdez</td>\n",
       "      <td>51</td>\n",
       "      <td>Male</td>\n",
       "      <td>1968-04-25 00 00 00</td>\n",
       "      <td>2064 Ruiz Road</td>\n",
       "      <td>Serranomouth</td>\n",
       "      <td>DE 21250</td>\n",
       "    </tr>\n",
       "    <tr>\n",
       "      <th>3819</th>\n",
       "      <td>Todd Thornton</td>\n",
       "      <td>56</td>\n",
       "      <td>Male</td>\n",
       "      <td>1963-10-01 00 00 00</td>\n",
       "      <td>2167 Woods Divide</td>\n",
       "      <td>Kariborough</td>\n",
       "      <td>SD 65649</td>\n",
       "    </tr>\n",
       "    <tr>\n",
       "      <th>3841</th>\n",
       "      <td>Dewitt Randall</td>\n",
       "      <td>62</td>\n",
       "      <td>Male</td>\n",
       "      <td>1956-11-30 00:00:00</td>\n",
       "      <td>USCGC Jones</td>\n",
       "      <td>NaN</td>\n",
       "      <td>FPO AE 85827</td>\n",
       "    </tr>\n",
       "    <tr>\n",
       "      <th>3843</th>\n",
       "      <td>Thomas Bakley</td>\n",
       "      <td>47</td>\n",
       "      <td>Male</td>\n",
       "      <td>1972-09-02 00:00:00</td>\n",
       "      <td>911 Harold Harbor</td>\n",
       "      <td>Port Felicia</td>\n",
       "      <td>OH 67424</td>\n",
       "    </tr>\n",
       "    <tr>\n",
       "      <th>3848</th>\n",
       "      <td>Rick Brooks</td>\n",
       "      <td>50</td>\n",
       "      <td>Male</td>\n",
       "      <td>1968-11-17 00 00 00</td>\n",
       "      <td>12520 Anderson Mountains Suite 052</td>\n",
       "      <td>Garciabury</td>\n",
       "      <td>AK 78325</td>\n",
       "    </tr>\n",
       "    <tr>\n",
       "      <th>3863</th>\n",
       "      <td>Richard Vargas</td>\n",
       "      <td>42</td>\n",
       "      <td>Male</td>\n",
       "      <td>1977-04-02 00:00:00</td>\n",
       "      <td>79011 Lori Point</td>\n",
       "      <td>New Juanland</td>\n",
       "      <td>OR 99480</td>\n",
       "    </tr>\n",
       "    <tr>\n",
       "      <th>3864</th>\n",
       "      <td>Harold Herring</td>\n",
       "      <td>37</td>\n",
       "      <td>Male</td>\n",
       "      <td>1982-06-10 00 00 00</td>\n",
       "      <td>650 Julie Valley Suite 361</td>\n",
       "      <td>Lunaside</td>\n",
       "      <td>LA 17422</td>\n",
       "    </tr>\n",
       "    <tr>\n",
       "      <th>3871</th>\n",
       "      <td>Daniel Harris</td>\n",
       "      <td>46</td>\n",
       "      <td>Female</td>\n",
       "      <td>1973-07-25 00 00 00</td>\n",
       "      <td>9401 Simmons Prairie Suite 269</td>\n",
       "      <td>Lake Stevemouth</td>\n",
       "      <td>AR 08617</td>\n",
       "    </tr>\n",
       "    <tr>\n",
       "      <th>3874</th>\n",
       "      <td>Howard Fullard</td>\n",
       "      <td>56</td>\n",
       "      <td>Male</td>\n",
       "      <td>1963-02-13 00 00 00</td>\n",
       "      <td>24496 Taylor Circle</td>\n",
       "      <td>Roweburgh</td>\n",
       "      <td>IL 44255</td>\n",
       "    </tr>\n",
       "    <tr>\n",
       "      <th>3880</th>\n",
       "      <td>Carl Hornsby</td>\n",
       "      <td>54</td>\n",
       "      <td>Male</td>\n",
       "      <td>1965-03-28 00:00:00</td>\n",
       "      <td>37574 Davis Camp</td>\n",
       "      <td>Josephside</td>\n",
       "      <td>MO 35553</td>\n",
       "    </tr>\n",
       "    <tr>\n",
       "      <th>3888</th>\n",
       "      <td>Randolph Erickson</td>\n",
       "      <td>65</td>\n",
       "      <td>Male</td>\n",
       "      <td>1954-08-28 00:00:00</td>\n",
       "      <td>PSC 6948</td>\n",
       "      <td>Box 4860</td>\n",
       "      <td>APO AA 03721</td>\n",
       "    </tr>\n",
       "    <tr>\n",
       "      <th>3893</th>\n",
       "      <td>Claude Glover</td>\n",
       "      <td>58</td>\n",
       "      <td>Male</td>\n",
       "      <td>1961-01-11 00:00:00</td>\n",
       "      <td>113 Jackson Skyway Suite 160</td>\n",
       "      <td>East Elizabethtown</td>\n",
       "      <td>HI 25393</td>\n",
       "    </tr>\n",
       "    <tr>\n",
       "      <th>3902</th>\n",
       "      <td>Joey Lyman</td>\n",
       "      <td>38</td>\n",
       "      <td>Male</td>\n",
       "      <td>1980-11-27 00 00 00</td>\n",
       "      <td>PSC 7311</td>\n",
       "      <td>Box 2697</td>\n",
       "      <td>APO AE 94385</td>\n",
       "    </tr>\n",
       "    <tr>\n",
       "      <th>3903</th>\n",
       "      <td>Anthony Hoffman</td>\n",
       "      <td>56</td>\n",
       "      <td>Male</td>\n",
       "      <td>1963-10-11 00 00 00</td>\n",
       "      <td>164 Kristi Station Suite 000</td>\n",
       "      <td>Kimberlyfurt</td>\n",
       "      <td>PA 55642</td>\n",
       "    </tr>\n",
       "    <tr>\n",
       "      <th>3909</th>\n",
       "      <td>Michael Warner</td>\n",
       "      <td>51</td>\n",
       "      <td>Female</td>\n",
       "      <td>1968-08-16 00:00:00</td>\n",
       "      <td>PSC 2691</td>\n",
       "      <td>Box 9112</td>\n",
       "      <td>APO AE 63663</td>\n",
       "    </tr>\n",
       "    <tr>\n",
       "      <th>3914</th>\n",
       "      <td>John Jaffe</td>\n",
       "      <td>50</td>\n",
       "      <td>Female</td>\n",
       "      <td>1969-05-27 00:00:00</td>\n",
       "      <td>PSC 3677</td>\n",
       "      <td>Box 2117</td>\n",
       "      <td>APO AE 28076</td>\n",
       "    </tr>\n",
       "    <tr>\n",
       "      <th>3917</th>\n",
       "      <td>Robert Gerke</td>\n",
       "      <td>48</td>\n",
       "      <td>Male</td>\n",
       "      <td>1971-03-20 00:00:00</td>\n",
       "      <td>820 Mark Drives</td>\n",
       "      <td>Michaelchester</td>\n",
       "      <td>OH 64396</td>\n",
       "    </tr>\n",
       "    <tr>\n",
       "      <th>3921</th>\n",
       "      <td>Jerry Banks</td>\n",
       "      <td>61</td>\n",
       "      <td>Female</td>\n",
       "      <td>1958-08-05 00:00:00</td>\n",
       "      <td>3469 Vincent Forge</td>\n",
       "      <td>Smithville</td>\n",
       "      <td>KY 69292</td>\n",
       "    </tr>\n",
       "    <tr>\n",
       "      <th>3925</th>\n",
       "      <td>Edward Peschel</td>\n",
       "      <td>44</td>\n",
       "      <td>Female</td>\n",
       "      <td>1975-02-14 00 00 00</td>\n",
       "      <td>6562 James Plaza Apt. 950</td>\n",
       "      <td>Ryanberg</td>\n",
       "      <td>ND 07273</td>\n",
       "    </tr>\n",
       "  </tbody>\n",
       "</table>\n",
       "<p>525 rows × 7 columns</p>\n",
       "</div>"
      ],
      "text/plain": [
       "                      name  age      sex        date_of_birth  \\\n",
       "5             Ronald Lange   47   Female  1971-12-23 00 00 00   \n",
       "16         Chauncey Suarez   55     Male  1963-10-29 00 00 00   \n",
       "24        Thaddeus Mackerl   57     Male  1962-07-29 00 00 00   \n",
       "28            Harold Odowd   58     Male  1961-09-09 00 00 00   \n",
       "33          William Morago   51     Male  1968-09-06 00 00 00   \n",
       "36          Edgar Holbrook   44     Male  1975-10-06 00:00:00   \n",
       "42         Nicolas Sardina   57     Male  1962-05-08 00 00 00   \n",
       "56               Keith Loy   58   Female  1961-04-30 00:00:00   \n",
       "59          Michael Outlaw   53   Female  1966-08-14 00:00:00   \n",
       "72          Patrick Jacobs   58   Female  1961-02-16 00:00:00   \n",
       "73         David Henderson   21     Male  1997-11-01 00 00 00   \n",
       "84            Darryl Bokor   62     Male  1957-10-18 00:00:00   \n",
       "110          Adrian Strohm   68     Male  1951-07-21 00:00:00   \n",
       "125           Frankie Cook   43     Male  1976-05-08 00:00:00   \n",
       "135             Luke Smart   82     Male  1937-07-23 00 00 00   \n",
       "144             James Dyer   55     Male  1964-04-09 00 00 00   \n",
       "159       Desmond Standard   57     Male  1962-07-10 00 00 00   \n",
       "168          Lonnie Butler   46     Male  1972-12-01 00:00:00   \n",
       "171       Matthew Williams   57     Male  1961-10-26 00:00:00   \n",
       "174   George Schreckengost   66     Male  1952-12-30 00:00:00   \n",
       "190            James Eells   24   Female  1995-09-13 00 00 00   \n",
       "193          Robert Fowler   30     Male  1989-03-21 00:00:00   \n",
       "194         Joseph Binford   46     Male  1973-02-03 00:00:00   \n",
       "196            Mike Rogers   57     Male  1962-01-30 00 00 00   \n",
       "214              John Lapp   56     Male  1963-03-30 00 00 00   \n",
       "218           Ronnie Moore   68     Male  1951-07-13 00 00 00   \n",
       "222             Rene Jones   64     Male  1955-07-08 00:00:00   \n",
       "225          Robert Zweier   47   Female  1972-02-04 00 00 00   \n",
       "237         Leland Gottron   42     Male  1977-07-19 00 00 00   \n",
       "239          Ralph Manning   49   Female  1969-11-06 00 00 00   \n",
       "...                    ...  ...      ...                  ...   \n",
       "3732          Kenneth Mann   27   Female  1992-05-13 00:00:00   \n",
       "3736      Ricardo Campbell   52     Male  1967-02-24 00 00 00   \n",
       "3740         William Denny   69     Male  1950-09-27 00:00:00   \n",
       "3752          Robert Cadiz   48   Female  1971-04-15 00:00:00   \n",
       "3759           Bill Fallis   42   Female  1977-09-11 00:00:00   \n",
       "3772           Edgar Harms   59   Female  1959-12-17 00 00 00   \n",
       "3776         Moshe Huggins   74     Male  1945-03-02 00 00 00   \n",
       "3781        Lorenzo Thomas   50   Female  1969-06-22 00:00:00   \n",
       "3782           Clyde Bader   59   Female  1960-04-24 00:00:00   \n",
       "3790          Edward Adams   19   Female  2000-06-13 00:00:00   \n",
       "3813           Todd Longie   49     Male  1970-03-10 00 00 00   \n",
       "3816          Caleb Valdez   51     Male  1968-04-25 00 00 00   \n",
       "3819         Todd Thornton   56     Male  1963-10-01 00 00 00   \n",
       "3841        Dewitt Randall   62     Male  1956-11-30 00:00:00   \n",
       "3843         Thomas Bakley   47     Male  1972-09-02 00:00:00   \n",
       "3848           Rick Brooks   50     Male  1968-11-17 00 00 00   \n",
       "3863        Richard Vargas   42     Male  1977-04-02 00:00:00   \n",
       "3864        Harold Herring   37     Male  1982-06-10 00 00 00   \n",
       "3871         Daniel Harris   46   Female  1973-07-25 00 00 00   \n",
       "3874        Howard Fullard   56     Male  1963-02-13 00 00 00   \n",
       "3880          Carl Hornsby   54     Male  1965-03-28 00:00:00   \n",
       "3888     Randolph Erickson   65     Male  1954-08-28 00:00:00   \n",
       "3893         Claude Glover   58     Male  1961-01-11 00:00:00   \n",
       "3902            Joey Lyman   38     Male  1980-11-27 00 00 00   \n",
       "3903       Anthony Hoffman   56     Male  1963-10-11 00 00 00   \n",
       "3909        Michael Warner   51   Female  1968-08-16 00:00:00   \n",
       "3914            John Jaffe   50   Female  1969-05-27 00:00:00   \n",
       "3917          Robert Gerke   48     Male  1971-03-20 00:00:00   \n",
       "3921           Jerry Banks   61   Female  1958-08-05 00:00:00   \n",
       "3925        Edward Peschel   44   Female  1975-02-14 00 00 00   \n",
       "\n",
       "                                  street                 city   postal_code  \n",
       "5                  30973 Martinez Shores             Jameston      CA 70245  \n",
       "16                    481 Wilson Prairie        Kimberlymouth      LA 20064  \n",
       "24          8122 Jessica Knolls Apt. 880           Dakotafurt      WV 62098  \n",
       "28            7842 Curtis Vista Apt. 188     Lake Samuelburgh      GA 55767  \n",
       "33         609 Matthew Causeway Apt. 234   Lake Victoriamouth      KY 04432  \n",
       "36         902 Figueroa Fields Suite 708           Davishaven      OK 14930  \n",
       "42                      8054 Bryce Shoal              Amyfort      SC 57887  \n",
       "56                 46552 Sullivan Street           Whiteville      OR 51827  \n",
       "59                      735 Valerie Hill          Websterfort      AZ 79829  \n",
       "72        0837 Patrick Highway Suite 797  Port Jacquelinefort      MS 46400  \n",
       "73          64832 Shannon Spurs Apt. 645         Richardsport      TN 56024  \n",
       "84                         USNV Robinson                  NaN  FPO AP 96068  \n",
       "110                   68090 Edwards Fall           Lake Paige      MS 70271  \n",
       "125            13756 Anita Ford Apt. 259          North Aaron      PA 40525  \n",
       "135                   56200 Skinner Loaf    Lake Kennethshire      MS 89242  \n",
       "144             204 Young Hill Suite 981          Marychester      FL 77735  \n",
       "159       6822 Perry Mountains Suite 235        New Ericmouth      MT 27447  \n",
       "168                             PSC 2519             Box 9972  APO AA 20654  \n",
       "171                 969 Angela Junctions          Pattonshire      NE 60625  \n",
       "174                      03632 Alan Land         Michellestad      NC 54149  \n",
       "190          9949 David Fields Suite 552            Lindaview      NM 60872  \n",
       "193                    664 Gamble Rapids         Lake Candace      CO 37399  \n",
       "194                             USS Chen                  NaN  FPO AE 55593  \n",
       "196           068 Baker Estates Apt. 300           Roberttown      NV 50205  \n",
       "214       6432 Macdonald Street Apt. 035        Harrisonshire      MD 67904  \n",
       "218              0755 Soto Oval Apt. 443        West Markside      TX 32737  \n",
       "222           4085 Theresa Mews Apt. 480          Pierceshire      MS 48642  \n",
       "225                             PSC 2734             Box 9350  APO AE 27753  \n",
       "237          1382 Lewis Garden Suite 516            Gatesland      NE 81810  \n",
       "239                   Unit 2892 Box 4013                  NaN  DPO AA 21681  \n",
       "...                                  ...                  ...           ...  \n",
       "3732     49115 Katelyn Parkways Apt. 588         Port Brandon      DE 58359  \n",
       "3736                     799 Janet Views        Jennifershire      LA 33756  \n",
       "3740                     53736 Lopez Dam  South Katherinetown      WV 03538  \n",
       "3752                  2471 Bridget Knoll       Port Wandatown      TN 34820  \n",
       "3759      45448 Velasquez Land Suite 571           Nicolestad      TN 40172  \n",
       "3772      92451 Latoya Prairie Suite 607          Port Monica      NJ 50471  \n",
       "3776                  3232 Perry Village         Wolfeborough      AZ 38532  \n",
       "3781          106 Gregory Port Suite 969    North Maxwelltown      MO 08225  \n",
       "3782                  52506 Deborah Fall          Piercemouth      UT 14995  \n",
       "3790           34013 Ryan Park Suite 437            Smithside      OH 56416  \n",
       "3813       09050 Phillips Wells Apt. 538           Rileymouth      NV 46699  \n",
       "3816                      2064 Ruiz Road         Serranomouth      DE 21250  \n",
       "3819                   2167 Woods Divide          Kariborough      SD 65649  \n",
       "3841                         USCGC Jones                  NaN  FPO AE 85827  \n",
       "3843                   911 Harold Harbor         Port Felicia      OH 67424  \n",
       "3848  12520 Anderson Mountains Suite 052           Garciabury      AK 78325  \n",
       "3863                    79011 Lori Point         New Juanland      OR 99480  \n",
       "3864          650 Julie Valley Suite 361             Lunaside      LA 17422  \n",
       "3871      9401 Simmons Prairie Suite 269      Lake Stevemouth      AR 08617  \n",
       "3874                 24496 Taylor Circle            Roweburgh      IL 44255  \n",
       "3880                    37574 Davis Camp           Josephside      MO 35553  \n",
       "3888                            PSC 6948             Box 4860  APO AA 03721  \n",
       "3893        113 Jackson Skyway Suite 160   East Elizabethtown      HI 25393  \n",
       "3902                            PSC 7311             Box 2697  APO AE 94385  \n",
       "3903        164 Kristi Station Suite 000         Kimberlyfurt      PA 55642  \n",
       "3909                            PSC 2691             Box 9112  APO AE 63663  \n",
       "3914                            PSC 3677             Box 2117  APO AE 28076  \n",
       "3917                     820 Mark Drives       Michaelchester      OH 64396  \n",
       "3921                  3469 Vincent Forge           Smithville      KY 69292  \n",
       "3925           6562 James Plaza Apt. 950             Ryanberg      ND 07273  \n",
       "\n",
       "[525 rows x 7 columns]"
      ]
     },
     "execution_count": 11,
     "metadata": {},
     "output_type": "execute_result"
    }
   ],
   "source": [
    "personal[personal['date_of_birth'].str.len() > 10]"
   ]
  },
  {
   "cell_type": "code",
   "execution_count": 12,
   "metadata": {
    "scrolled": true
   },
   "outputs": [
    {
     "data": {
      "text/html": [
       "<div>\n",
       "<style scoped>\n",
       "    .dataframe tbody tr th:only-of-type {\n",
       "        vertical-align: middle;\n",
       "    }\n",
       "\n",
       "    .dataframe tbody tr th {\n",
       "        vertical-align: top;\n",
       "    }\n",
       "\n",
       "    .dataframe thead th {\n",
       "        text-align: right;\n",
       "    }\n",
       "</style>\n",
       "<table border=\"1\" class=\"dataframe\">\n",
       "  <thead>\n",
       "    <tr style=\"text-align: right;\">\n",
       "      <th></th>\n",
       "      <th>name</th>\n",
       "      <th>age</th>\n",
       "      <th>sex</th>\n",
       "      <th>date_of_birth</th>\n",
       "      <th>street</th>\n",
       "      <th>city</th>\n",
       "      <th>postal_code</th>\n",
       "    </tr>\n",
       "  </thead>\n",
       "  <tbody>\n",
       "    <tr>\n",
       "      <th>0</th>\n",
       "      <td>Roscoe Bohannon</td>\n",
       "      <td>32</td>\n",
       "      <td>Female</td>\n",
       "      <td>1987-07-22</td>\n",
       "      <td>7183 Osborne Ways Apt. 651</td>\n",
       "      <td>East Andrew</td>\n",
       "      <td>OH 53211</td>\n",
       "    </tr>\n",
       "    <tr>\n",
       "      <th>1</th>\n",
       "      <td>Ernest Kline</td>\n",
       "      <td>55</td>\n",
       "      <td>Male</td>\n",
       "      <td>1963-10-27</td>\n",
       "      <td>391 Ball Road Suite 961</td>\n",
       "      <td>Flowersborough</td>\n",
       "      <td>IN 57550</td>\n",
       "    </tr>\n",
       "    <tr>\n",
       "      <th>2</th>\n",
       "      <td>Harold Hendriks</td>\n",
       "      <td>62</td>\n",
       "      <td>Male</td>\n",
       "      <td>1957-10-05</td>\n",
       "      <td>8702 Vincent Square</td>\n",
       "      <td>New Jerryfurt</td>\n",
       "      <td>CO 30614</td>\n",
       "    </tr>\n",
       "    <tr>\n",
       "      <th>3</th>\n",
       "      <td>Randy Baptiste</td>\n",
       "      <td>47</td>\n",
       "      <td>Male</td>\n",
       "      <td>1972-06-29</td>\n",
       "      <td>2751 Harris Crossroad</td>\n",
       "      <td>West Ashley</td>\n",
       "      <td>CA 30311</td>\n",
       "    </tr>\n",
       "    <tr>\n",
       "      <th>4</th>\n",
       "      <td>Anthony Colucci</td>\n",
       "      <td>52</td>\n",
       "      <td>Female</td>\n",
       "      <td>1967-08-15</td>\n",
       "      <td>904 Robert Cliffs Suite 186</td>\n",
       "      <td>West Kyle</td>\n",
       "      <td>CO 77139</td>\n",
       "    </tr>\n",
       "  </tbody>\n",
       "</table>\n",
       "</div>"
      ],
      "text/plain": [
       "              name  age      sex date_of_birth                       street  \\\n",
       "0  Roscoe Bohannon   32   Female    1987-07-22   7183 Osborne Ways Apt. 651   \n",
       "1     Ernest Kline   55     Male    1963-10-27      391 Ball Road Suite 961   \n",
       "2  Harold Hendriks   62     Male    1957-10-05          8702 Vincent Square   \n",
       "3   Randy Baptiste   47     Male    1972-06-29        2751 Harris Crossroad   \n",
       "4  Anthony Colucci   52   Female    1967-08-15  904 Robert Cliffs Suite 186   \n",
       "\n",
       "             city postal_code  \n",
       "0     East Andrew    OH 53211  \n",
       "1  Flowersborough    IN 57550  \n",
       "2   New Jerryfurt    CO 30614  \n",
       "3     West Ashley    CA 30311  \n",
       "4       West Kyle    CO 77139  "
      ]
     },
     "execution_count": 12,
     "metadata": {},
     "output_type": "execute_result"
    }
   ],
   "source": [
    "personal.loc[personal['date_of_birth'].str.len() > 10, 'date_of_birth'] = personal.loc[personal['date_of_birth'].str.len() > 10, 'date_of_birth'].apply(lambda x: x[:10])\n",
    "personal['date_of_birth'] = pd.to_datetime(personal.date_of_birth)\n",
    "\n",
    "personal.head()"
   ]
  },
  {
   "cell_type": "markdown",
   "metadata": {},
   "source": [
    "<ul>\n",
    "    <li>v stlpci sex (kategoricky) sa nachadzaju medzery za nazvom pohlavia</li>\n",
    "</ul>"
   ]
  },
  {
   "cell_type": "code",
   "execution_count": 13,
   "metadata": {},
   "outputs": [
    {
     "data": {
      "text/plain": [
       "array([' Female', ' Male', ' Male', ..., ' Male', ' Female', ' Male'],\n",
       "      dtype=object)"
      ]
     },
     "execution_count": 13,
     "metadata": {},
     "output_type": "execute_result"
    }
   ],
   "source": [
    "personal['sex'].values"
   ]
  },
  {
   "cell_type": "code",
   "execution_count": 14,
   "metadata": {
    "scrolled": true
   },
   "outputs": [],
   "source": [
    "personal['sex'] = personal['sex'].str.strip()"
   ]
  },
  {
   "cell_type": "markdown",
   "metadata": {},
   "source": [
    "<ul>\n",
    "    <li>v stplci age (spojity) mame vychylene hodnoty</li>\n",
    "</ul>"
   ]
  },
  {
   "cell_type": "code",
   "execution_count": 15,
   "metadata": {},
   "outputs": [
    {
     "data": {
      "text/plain": [
       "<matplotlib.axes._subplots.AxesSubplot at 0x1f471d1fe48>"
      ]
     },
     "execution_count": 15,
     "metadata": {},
     "output_type": "execute_result"
    },
    {
     "data": {
      "image/png": "[encoded data removed]",
      "text/plain": [
       "<Figure size 432x288 with 1 Axes>"
      ]
     },
     "metadata": {
      "needs_background": "light"
     },
     "output_type": "display_data"
    }
   ],
   "source": [
    "sns.boxplot(personal['age'], orient='v')"
   ]
  },
  {
   "cell_type": "code",
   "execution_count": 16,
   "metadata": {},
   "outputs": [
    {
     "data": {
      "text/plain": [
       "<matplotlib.axes._subplots.AxesSubplot at 0x1f471f237f0>"
      ]
     },
     "execution_count": 16,
     "metadata": {},
     "output_type": "execute_result"
    },
    {
     "data": {
      "image/png": "[encoded data removed]",
      "text/plain": [
       "<Figure size 432x288 with 1 Axes>"
      ]
     },
     "metadata": {
      "needs_background": "light"
     },
     "output_type": "display_data"
    }
   ],
   "source": [
    "personal['age'].hist(bins=50)"
   ]
  },
  {
   "cell_type": "markdown",
   "metadata": {},
   "source": [
    "# Vseobecne informacie o datasete other_train"
   ]
  },
  {
   "cell_type": "code",
   "execution_count": 17,
   "metadata": {},
   "outputs": [
    {
     "data": {
      "text/html": [
       "<div>\n",
       "<style scoped>\n",
       "    .dataframe tbody tr th:only-of-type {\n",
       "        vertical-align: middle;\n",
       "    }\n",
       "\n",
       "    .dataframe tbody tr th {\n",
       "        vertical-align: top;\n",
       "    }\n",
       "\n",
       "    .dataframe thead th {\n",
       "        text-align: right;\n",
       "    }\n",
       "</style>\n",
       "<table border=\"1\" class=\"dataframe\">\n",
       "  <thead>\n",
       "    <tr style=\"text-align: right;\">\n",
       "      <th></th>\n",
       "      <th>Unnamed: 0</th>\n",
       "      <th>name</th>\n",
       "      <th>address</th>\n",
       "      <th>kurtosis_oxygen</th>\n",
       "      <th>pregnant</th>\n",
       "      <th>education-num</th>\n",
       "      <th>relationship</th>\n",
       "      <th>skewness_glucose</th>\n",
       "      <th>mean_glucose</th>\n",
       "      <th>std_oxygen</th>\n",
       "      <th>...</th>\n",
       "      <th>kurtosis_glucose</th>\n",
       "      <th>personal_info</th>\n",
       "      <th>education</th>\n",
       "      <th>fnlwgt</th>\n",
       "      <th>class</th>\n",
       "      <th>std_glucose</th>\n",
       "      <th>income</th>\n",
       "      <th>mean_oxygen</th>\n",
       "      <th>hours-per-week</th>\n",
       "      <th>capital-loss</th>\n",
       "    </tr>\n",
       "  </thead>\n",
       "  <tbody>\n",
       "    <tr>\n",
       "      <th>0</th>\n",
       "      <td>0</td>\n",
       "      <td>George Kidd</td>\n",
       "      <td>481 Jenkins Branch Suite 358\\r\\nSolistown, FL ...</td>\n",
       "      <td>5.991010</td>\n",
       "      <td>FALSE</td>\n",
       "      <td>13.0</td>\n",
       "      <td>Own-child</td>\n",
       "      <td>5.185332</td>\n",
       "      <td>90.367188</td>\n",
       "      <td>30.878848</td>\n",
       "      <td>...</td>\n",
       "      <td>1.553546</td>\n",
       "      <td>Craft-repair|United-States\\r\\r\\nNever-married ...</td>\n",
       "      <td>Bachelors</td>\n",
       "      <td>208725.0</td>\n",
       "      <td>1.0</td>\n",
       "      <td>36.785670</td>\n",
       "      <td>&lt;=50K</td>\n",
       "      <td>5.619565</td>\n",
       "      <td>40.0</td>\n",
       "      <td>0.0</td>\n",
       "    </tr>\n",
       "    <tr>\n",
       "      <th>1</th>\n",
       "      <td>1</td>\n",
       "      <td>Tommy Prince</td>\n",
       "      <td>123 Sullivan Loaf\\r\\nCynthiaview, RI 22106</td>\n",
       "      <td>2.124187</td>\n",
       "      <td>f</td>\n",
       "      <td>-1300.0</td>\n",
       "      <td>Husband</td>\n",
       "      <td>-0.521835</td>\n",
       "      <td>120.882812</td>\n",
       "      <td>62.780618</td>\n",
       "      <td>...</td>\n",
       "      <td>-0.218017</td>\n",
       "      <td>Exec-managerial|United-States\\r\\r\\nMarried-civ...</td>\n",
       "      <td>Bachelors</td>\n",
       "      <td>212894.0</td>\n",
       "      <td>0.0</td>\n",
       "      <td>50.311160</td>\n",
       "      <td>&gt;50K</td>\n",
       "      <td>30.332776</td>\n",
       "      <td>50.0</td>\n",
       "      <td>0.0</td>\n",
       "    </tr>\n",
       "    <tr>\n",
       "      <th>2</th>\n",
       "      <td>2</td>\n",
       "      <td>Ivan Lane</td>\n",
       "      <td>509 Harris Hill\\r\\nSouth Jean, IN 15542</td>\n",
       "      <td>22.432206</td>\n",
       "      <td>f</td>\n",
       "      <td>9.0</td>\n",
       "      <td>Own-child</td>\n",
       "      <td>0.751713</td>\n",
       "      <td>166.554688</td>\n",
       "      <td>9.733834</td>\n",
       "      <td>...</td>\n",
       "      <td>-1.251604</td>\n",
       "      <td>Adm-clerical|United-States\\r\\r\\nNever-married ...</td>\n",
       "      <td>HS-grad</td>\n",
       "      <td>410439.0</td>\n",
       "      <td>0.0</td>\n",
       "      <td>58.506518</td>\n",
       "      <td>&lt;=50K</td>\n",
       "      <td>0.564381</td>\n",
       "      <td>25.0</td>\n",
       "      <td>0.0</td>\n",
       "    </tr>\n",
       "    <tr>\n",
       "      <th>3</th>\n",
       "      <td>3</td>\n",
       "      <td>Mack Sanchez</td>\n",
       "      <td>8651 Destiny Shoal Suite 194\\r\\nCodybury, HI 2...</td>\n",
       "      <td>11.077929</td>\n",
       "      <td>FALSE</td>\n",
       "      <td>13.0</td>\n",
       "      <td>Not-in-family</td>\n",
       "      <td>-0.029883</td>\n",
       "      <td>125.023438</td>\n",
       "      <td>17.771415</td>\n",
       "      <td>...</td>\n",
       "      <td>-0.084789</td>\n",
       "      <td>Handlers-cleaners|Haiti\\r\\r\\nNever-married -- ...</td>\n",
       "      <td>Bachelors</td>\n",
       "      <td>196899.0</td>\n",
       "      <td>0.0</td>\n",
       "      <td>47.344724</td>\n",
       "      <td>&lt;=50K</td>\n",
       "      <td>1.683946</td>\n",
       "      <td>50.0</td>\n",
       "      <td>0.0</td>\n",
       "    </tr>\n",
       "    <tr>\n",
       "      <th>4</th>\n",
       "      <td>4</td>\n",
       "      <td>Francis Siebert</td>\n",
       "      <td>982 Douglas Lights\\r\\nStewartfort, WY 59574</td>\n",
       "      <td>1.103161</td>\n",
       "      <td>f</td>\n",
       "      <td>11.0</td>\n",
       "      <td>Unmarried</td>\n",
       "      <td>15.720257</td>\n",
       "      <td>30.859375</td>\n",
       "      <td>64.290446</td>\n",
       "      <td>...</td>\n",
       "      <td>3.897922</td>\n",
       "      <td>Other-service|Columbia\\r\\r\\nDivorced -- Privat...</td>\n",
       "      <td>Assoc-voc</td>\n",
       "      <td>264166.0</td>\n",
       "      <td>1.0</td>\n",
       "      <td>39.683264</td>\n",
       "      <td>&lt;=50K</td>\n",
       "      <td>70.271739</td>\n",
       "      <td>45.0</td>\n",
       "      <td>0.0</td>\n",
       "    </tr>\n",
       "  </tbody>\n",
       "</table>\n",
       "<p>5 rows × 22 columns</p>\n",
       "</div>"
      ],
      "text/plain": [
       "   Unnamed: 0             name  \\\n",
       "0           0      George Kidd   \n",
       "1           1     Tommy Prince   \n",
       "2           2        Ivan Lane   \n",
       "3           3     Mack Sanchez   \n",
       "4           4  Francis Siebert   \n",
       "\n",
       "                                             address  kurtosis_oxygen  \\\n",
       "0  481 Jenkins Branch Suite 358\\r\\nSolistown, FL ...         5.991010   \n",
       "1         123 Sullivan Loaf\\r\\nCynthiaview, RI 22106         2.124187   \n",
       "2            509 Harris Hill\\r\\nSouth Jean, IN 15542        22.432206   \n",
       "3  8651 Destiny Shoal Suite 194\\r\\nCodybury, HI 2...        11.077929   \n",
       "4        982 Douglas Lights\\r\\nStewartfort, WY 59574         1.103161   \n",
       "\n",
       "  pregnant  education-num    relationship  skewness_glucose  mean_glucose  \\\n",
       "0    FALSE           13.0       Own-child          5.185332     90.367188   \n",
       "1        f        -1300.0         Husband         -0.521835    120.882812   \n",
       "2        f            9.0       Own-child          0.751713    166.554688   \n",
       "3    FALSE           13.0   Not-in-family         -0.029883    125.023438   \n",
       "4        f           11.0       Unmarried         15.720257     30.859375   \n",
       "\n",
       "   std_oxygen  ...  kurtosis_glucose  \\\n",
       "0   30.878848  ...          1.553546   \n",
       "1   62.780618  ...         -0.218017   \n",
       "2    9.733834  ...         -1.251604   \n",
       "3   17.771415  ...         -0.084789   \n",
       "4   64.290446  ...          3.897922   \n",
       "\n",
       "                                       personal_info   education    fnlwgt  \\\n",
       "0  Craft-repair|United-States\\r\\r\\nNever-married ...   Bachelors  208725.0   \n",
       "1  Exec-managerial|United-States\\r\\r\\nMarried-civ...   Bachelors  212894.0   \n",
       "2  Adm-clerical|United-States\\r\\r\\nNever-married ...     HS-grad  410439.0   \n",
       "3  Handlers-cleaners|Haiti\\r\\r\\nNever-married -- ...   Bachelors  196899.0   \n",
       "4  Other-service|Columbia\\r\\r\\nDivorced -- Privat...   Assoc-voc  264166.0   \n",
       "\n",
       "  class  std_glucose  income  mean_oxygen hours-per-week  capital-loss  \n",
       "0   1.0    36.785670   <=50K     5.619565           40.0           0.0  \n",
       "1   0.0    50.311160    >50K    30.332776           50.0           0.0  \n",
       "2   0.0    58.506518   <=50K     0.564381           25.0           0.0  \n",
       "3   0.0    47.344724   <=50K     1.683946           50.0           0.0  \n",
       "4   1.0    39.683264   <=50K    70.271739           45.0           0.0  \n",
       "\n",
       "[5 rows x 22 columns]"
      ]
     },
     "execution_count": 17,
     "metadata": {},
     "output_type": "execute_result"
    }
   ],
   "source": [
    "other = pd.read_csv('other_train.csv')\n",
    "\n",
    "other.head()"
   ]
  },
  {
   "cell_type": "markdown",
   "metadata": {},
   "source": [
    "Dataset ma 3983 zaznamov a 22 stlpcov"
   ]
  },
  {
   "cell_type": "code",
   "execution_count": 18,
   "metadata": {},
   "outputs": [
    {
     "name": "stdout",
     "output_type": "stream",
     "text": [
      "<class 'pandas.core.frame.DataFrame'>\n",
      "RangeIndex: 3983 entries, 0 to 3982\n",
      "Data columns (total 22 columns):\n",
      "Unnamed: 0          3983 non-null int64\n",
      "name                3983 non-null object\n",
      "address             3983 non-null object\n",
      "kurtosis_oxygen     3971 non-null float64\n",
      "pregnant            3976 non-null object\n",
      "education-num       3970 non-null float64\n",
      "relationship        3970 non-null object\n",
      "skewness_glucose    3976 non-null float64\n",
      "mean_glucose        3969 non-null float64\n",
      "std_oxygen          3971 non-null float64\n",
      "capital-gain        3971 non-null float64\n",
      "skewness_oxygen     3968 non-null float64\n",
      "kurtosis_glucose    3963 non-null float64\n",
      "personal_info       3962 non-null object\n",
      "education           3968 non-null object\n",
      "fnlwgt              3969 non-null float64\n",
      "class               3970 non-null float64\n",
      "std_glucose         3570 non-null float64\n",
      "income              3968 non-null object\n",
      "mean_oxygen         3967 non-null float64\n",
      "hours-per-week      3969 non-null float64\n",
      "capital-loss        3962 non-null float64\n",
      "dtypes: float64(14), int64(1), object(7)\n",
      "memory usage: 684.7+ KB\n"
     ]
    }
   ],
   "source": [
    "other.info()"
   ]
  },
  {
   "cell_type": "code",
   "execution_count": 19,
   "metadata": {},
   "outputs": [
    {
     "data": {
      "text/html": [
       "<div>\n",
       "<style scoped>\n",
       "    .dataframe tbody tr th:only-of-type {\n",
       "        vertical-align: middle;\n",
       "    }\n",
       "\n",
       "    .dataframe tbody tr th {\n",
       "        vertical-align: top;\n",
       "    }\n",
       "\n",
       "    .dataframe thead th {\n",
       "        text-align: right;\n",
       "    }\n",
       "</style>\n",
       "<table border=\"1\" class=\"dataframe\">\n",
       "  <thead>\n",
       "    <tr style=\"text-align: right;\">\n",
       "      <th></th>\n",
       "      <th>Unnamed: 0</th>\n",
       "      <th>kurtosis_oxygen</th>\n",
       "      <th>education-num</th>\n",
       "      <th>skewness_glucose</th>\n",
       "      <th>mean_glucose</th>\n",
       "      <th>std_oxygen</th>\n",
       "      <th>capital-gain</th>\n",
       "      <th>skewness_oxygen</th>\n",
       "      <th>kurtosis_glucose</th>\n",
       "      <th>fnlwgt</th>\n",
       "      <th>class</th>\n",
       "      <th>std_glucose</th>\n",
       "      <th>mean_oxygen</th>\n",
       "      <th>hours-per-week</th>\n",
       "      <th>capital-loss</th>\n",
       "    </tr>\n",
       "  </thead>\n",
       "  <tbody>\n",
       "    <tr>\n",
       "      <th>count</th>\n",
       "      <td>3983.00000</td>\n",
       "      <td>3971.000000</td>\n",
       "      <td>3970.000000</td>\n",
       "      <td>3976.000000</td>\n",
       "      <td>3969.000000</td>\n",
       "      <td>3971.000000</td>\n",
       "      <td>3971.000000</td>\n",
       "      <td>3968.000000</td>\n",
       "      <td>3963.000000</td>\n",
       "      <td>3969.000000</td>\n",
       "      <td>3970.000000</td>\n",
       "      <td>3570.000000</td>\n",
       "      <td>3967.000000</td>\n",
       "      <td>3969.000000</td>\n",
       "      <td>3962.000000</td>\n",
       "    </tr>\n",
       "    <tr>\n",
       "      <th>mean</th>\n",
       "      <td>1991.00000</td>\n",
       "      <td>7.400869</td>\n",
       "      <td>6.781360</td>\n",
       "      <td>4.211511</td>\n",
       "      <td>101.258045</td>\n",
       "      <td>31.195602</td>\n",
       "      <td>1243.528582</td>\n",
       "      <td>91.071965</td>\n",
       "      <td>0.953017</td>\n",
       "      <td>190751.141345</td>\n",
       "      <td>0.255919</td>\n",
       "      <td>45.176450</td>\n",
       "      <td>18.465360</td>\n",
       "      <td>40.567649</td>\n",
       "      <td>77.913428</td>\n",
       "    </tr>\n",
       "    <tr>\n",
       "      <th>std</th>\n",
       "      <td>1149.93739</td>\n",
       "      <td>4.806639</td>\n",
       "      <td>329.405059</td>\n",
       "      <td>9.662451</td>\n",
       "      <td>33.565751</td>\n",
       "      <td>22.299646</td>\n",
       "      <td>8289.777675</td>\n",
       "      <td>108.231320</td>\n",
       "      <td>1.612807</td>\n",
       "      <td>103232.011678</td>\n",
       "      <td>0.436432</td>\n",
       "      <td>7.597554</td>\n",
       "      <td>34.759256</td>\n",
       "      <td>12.485153</td>\n",
       "      <td>381.430180</td>\n",
       "    </tr>\n",
       "    <tr>\n",
       "      <th>min</th>\n",
       "      <td>0.00000</td>\n",
       "      <td>-2.597872</td>\n",
       "      <td>-1600.000000</td>\n",
       "      <td>-1.755332</td>\n",
       "      <td>6.187500</td>\n",
       "      <td>7.370432</td>\n",
       "      <td>0.000000</td>\n",
       "      <td>-1.976976</td>\n",
       "      <td>-1.641515</td>\n",
       "      <td>20057.000000</td>\n",
       "      <td>0.000000</td>\n",
       "      <td>25.695250</td>\n",
       "      <td>0.213211</td>\n",
       "      <td>1.000000</td>\n",
       "      <td>0.000000</td>\n",
       "    </tr>\n",
       "    <tr>\n",
       "      <th>25%</th>\n",
       "      <td>995.50000</td>\n",
       "      <td>3.620564</td>\n",
       "      <td>9.000000</td>\n",
       "      <td>-0.119501</td>\n",
       "      <td>87.679688</td>\n",
       "      <td>15.067457</td>\n",
       "      <td>0.000000</td>\n",
       "      <td>12.830509</td>\n",
       "      <td>0.071856</td>\n",
       "      <td>118793.000000</td>\n",
       "      <td>0.000000</td>\n",
       "      <td>40.128532</td>\n",
       "      <td>2.069398</td>\n",
       "      <td>40.000000</td>\n",
       "      <td>0.000000</td>\n",
       "    </tr>\n",
       "    <tr>\n",
       "      <th>50%</th>\n",
       "      <td>1991.00000</td>\n",
       "      <td>7.781618</td>\n",
       "      <td>10.000000</td>\n",
       "      <td>0.373534</td>\n",
       "      <td>110.664062</td>\n",
       "      <td>20.594663</td>\n",
       "      <td>0.000000</td>\n",
       "      <td>68.348245</td>\n",
       "      <td>0.310372</td>\n",
       "      <td>179446.000000</td>\n",
       "      <td>0.000000</td>\n",
       "      <td>45.887636</td>\n",
       "      <td>3.232441</td>\n",
       "      <td>40.000000</td>\n",
       "      <td>0.000000</td>\n",
       "    </tr>\n",
       "    <tr>\n",
       "      <th>75%</th>\n",
       "      <td>2986.50000</td>\n",
       "      <td>10.258291</td>\n",
       "      <td>13.000000</td>\n",
       "      <td>2.079975</td>\n",
       "      <td>124.132812</td>\n",
       "      <td>43.413967</td>\n",
       "      <td>0.000000</td>\n",
       "      <td>126.739807</td>\n",
       "      <td>0.781066</td>\n",
       "      <td>239074.000000</td>\n",
       "      <td>1.000000</td>\n",
       "      <td>50.374317</td>\n",
       "      <td>12.656773</td>\n",
       "      <td>45.000000</td>\n",
       "      <td>0.000000</td>\n",
       "    </tr>\n",
       "    <tr>\n",
       "      <th>max</th>\n",
       "      <td>3982.00000</td>\n",
       "      <td>34.539844</td>\n",
       "      <td>1600.000000</td>\n",
       "      <td>68.101622</td>\n",
       "      <td>189.734375</td>\n",
       "      <td>110.642211</td>\n",
       "      <td>99999.000000</td>\n",
       "      <td>1191.000837</td>\n",
       "      <td>8.069522</td>\n",
       "      <td>972354.000000</td>\n",
       "      <td>1.000000</td>\n",
       "      <td>91.206475</td>\n",
       "      <td>217.371238</td>\n",
       "      <td>99.000000</td>\n",
       "      <td>4356.000000</td>\n",
       "    </tr>\n",
       "  </tbody>\n",
       "</table>\n",
       "</div>"
      ],
      "text/plain": [
       "       Unnamed: 0  kurtosis_oxygen  education-num  skewness_glucose  \\\n",
       "count  3983.00000      3971.000000    3970.000000       3976.000000   \n",
       "mean   1991.00000         7.400869       6.781360          4.211511   \n",
       "std    1149.93739         4.806639     329.405059          9.662451   \n",
       "min       0.00000        -2.597872   -1600.000000         -1.755332   \n",
       "25%     995.50000         3.620564       9.000000         -0.119501   \n",
       "50%    1991.00000         7.781618      10.000000          0.373534   \n",
       "75%    2986.50000        10.258291      13.000000          2.079975   \n",
       "max    3982.00000        34.539844    1600.000000         68.101622   \n",
       "\n",
       "       mean_glucose   std_oxygen  capital-gain  skewness_oxygen  \\\n",
       "count   3969.000000  3971.000000   3971.000000      3968.000000   \n",
       "mean     101.258045    31.195602   1243.528582        91.071965   \n",
       "std       33.565751    22.299646   8289.777675       108.231320   \n",
       "min        6.187500     7.370432      0.000000        -1.976976   \n",
       "25%       87.679688    15.067457      0.000000        12.830509   \n",
       "50%      110.664062    20.594663      0.000000        68.348245   \n",
       "75%      124.132812    43.413967      0.000000       126.739807   \n",
       "max      189.734375   110.642211  99999.000000      1191.000837   \n",
       "\n",
       "       kurtosis_glucose         fnlwgt        class  std_glucose  mean_oxygen  \\\n",
       "count       3963.000000    3969.000000  3970.000000  3570.000000  3967.000000   \n",
       "mean           0.953017  190751.141345     0.255919    45.176450    18.465360   \n",
       "std            1.612807  103232.011678     0.436432     7.597554    34.759256   \n",
       "min           -1.641515   20057.000000     0.000000    25.695250     0.213211   \n",
       "25%            0.071856  118793.000000     0.000000    40.128532     2.069398   \n",
       "50%            0.310372  179446.000000     0.000000    45.887636     3.232441   \n",
       "75%            0.781066  239074.000000     1.000000    50.374317    12.656773   \n",
       "max            8.069522  972354.000000     1.000000    91.206475   217.371238   \n",
       "\n",
       "       hours-per-week  capital-loss  \n",
       "count     3969.000000   3962.000000  \n",
       "mean        40.567649     77.913428  \n",
       "std         12.485153    381.430180  \n",
       "min          1.000000      0.000000  \n",
       "25%         40.000000      0.000000  \n",
       "50%         40.000000      0.000000  \n",
       "75%         45.000000      0.000000  \n",
       "max         99.000000   4356.000000  "
      ]
     },
     "execution_count": 19,
     "metadata": {},
     "output_type": "execute_result"
    }
   ],
   "source": [
    "other.describe()"
   ]
  },
  {
   "cell_type": "code",
   "execution_count": 20,
   "metadata": {},
   "outputs": [
    {
     "data": {
      "text/html": [
       "<div>\n",
       "<style scoped>\n",
       "    .dataframe tbody tr th:only-of-type {\n",
       "        vertical-align: middle;\n",
       "    }\n",
       "\n",
       "    .dataframe tbody tr th {\n",
       "        vertical-align: top;\n",
       "    }\n",
       "\n",
       "    .dataframe thead th {\n",
       "        text-align: right;\n",
       "    }\n",
       "</style>\n",
       "<table border=\"1\" class=\"dataframe\">\n",
       "  <thead>\n",
       "    <tr style=\"text-align: right;\">\n",
       "      <th></th>\n",
       "      <th>name</th>\n",
       "      <th>address</th>\n",
       "      <th>pregnant</th>\n",
       "      <th>relationship</th>\n",
       "      <th>personal_info</th>\n",
       "      <th>education</th>\n",
       "      <th>income</th>\n",
       "    </tr>\n",
       "  </thead>\n",
       "  <tbody>\n",
       "    <tr>\n",
       "      <th>count</th>\n",
       "      <td>3983</td>\n",
       "      <td>3983</td>\n",
       "      <td>3976</td>\n",
       "      <td>3970</td>\n",
       "      <td>3962</td>\n",
       "      <td>3968</td>\n",
       "      <td>3968</td>\n",
       "    </tr>\n",
       "    <tr>\n",
       "      <th>unique</th>\n",
       "      <td>3933</td>\n",
       "      <td>3933</td>\n",
       "      <td>6</td>\n",
       "      <td>6</td>\n",
       "      <td>985</td>\n",
       "      <td>16</td>\n",
       "      <td>2</td>\n",
       "    </tr>\n",
       "    <tr>\n",
       "      <th>top</th>\n",
       "      <td>Robert Mallard</td>\n",
       "      <td>14861 Steven Vista\\r\\nEast Anthonyfurt, ME 51688</td>\n",
       "      <td>f</td>\n",
       "      <td>Husband</td>\n",
       "      <td>Craft-repair|United-States\\r\\r\\nMarried-civ-sp...</td>\n",
       "      <td>HS-grad</td>\n",
       "      <td>&lt;=50K</td>\n",
       "    </tr>\n",
       "    <tr>\n",
       "      <th>freq</th>\n",
       "      <td>2</td>\n",
       "      <td>2</td>\n",
       "      <td>3521</td>\n",
       "      <td>1602</td>\n",
       "      <td>147</td>\n",
       "      <td>1296</td>\n",
       "      <td>2993</td>\n",
       "    </tr>\n",
       "  </tbody>\n",
       "</table>\n",
       "</div>"
      ],
      "text/plain": [
       "                  name                                           address  \\\n",
       "count             3983                                              3983   \n",
       "unique            3933                                              3933   \n",
       "top     Robert Mallard  14861 Steven Vista\\r\\nEast Anthonyfurt, ME 51688   \n",
       "freq                 2                                                 2   \n",
       "\n",
       "       pregnant relationship  \\\n",
       "count      3976         3970   \n",
       "unique        6            6   \n",
       "top           f      Husband   \n",
       "freq       3521         1602   \n",
       "\n",
       "                                            personal_info education  income  \n",
       "count                                                3962      3968    3968  \n",
       "unique                                                985        16       2  \n",
       "top     Craft-repair|United-States\\r\\r\\nMarried-civ-sp...   HS-grad   <=50K  \n",
       "freq                                                  147      1296    2993  "
      ]
     },
     "execution_count": 20,
     "metadata": {},
     "output_type": "execute_result"
    }
   ],
   "source": [
    "categorical = other.dtypes[other.dtypes == \"object\"].index\n",
    "other[categorical].describe()"
   ]
  },
  {
   "cell_type": "markdown",
   "metadata": {},
   "source": [
    "# Popis chyb a uprava stlpcov v datasete other_train\n",
    "\n",
    "<ul>\n",
    "    <li>stlpec unnamed:0 treba pouzit ako index</li>\n",
    "</ul>"
   ]
  },
  {
   "cell_type": "code",
   "execution_count": 21,
   "metadata": {},
   "outputs": [
    {
     "data": {
      "text/html": [
       "<div>\n",
       "<style scoped>\n",
       "    .dataframe tbody tr th:only-of-type {\n",
       "        vertical-align: middle;\n",
       "    }\n",
       "\n",
       "    .dataframe tbody tr th {\n",
       "        vertical-align: top;\n",
       "    }\n",
       "\n",
       "    .dataframe thead th {\n",
       "        text-align: right;\n",
       "    }\n",
       "</style>\n",
       "<table border=\"1\" class=\"dataframe\">\n",
       "  <thead>\n",
       "    <tr style=\"text-align: right;\">\n",
       "      <th></th>\n",
       "      <th>name</th>\n",
       "      <th>address</th>\n",
       "      <th>kurtosis_oxygen</th>\n",
       "      <th>pregnant</th>\n",
       "      <th>education-num</th>\n",
       "      <th>relationship</th>\n",
       "      <th>skewness_glucose</th>\n",
       "      <th>mean_glucose</th>\n",
       "      <th>std_oxygen</th>\n",
       "      <th>capital-gain</th>\n",
       "      <th>...</th>\n",
       "      <th>kurtosis_glucose</th>\n",
       "      <th>personal_info</th>\n",
       "      <th>education</th>\n",
       "      <th>fnlwgt</th>\n",
       "      <th>class</th>\n",
       "      <th>std_glucose</th>\n",
       "      <th>income</th>\n",
       "      <th>mean_oxygen</th>\n",
       "      <th>hours-per-week</th>\n",
       "      <th>capital-loss</th>\n",
       "    </tr>\n",
       "  </thead>\n",
       "  <tbody>\n",
       "    <tr>\n",
       "      <th>0</th>\n",
       "      <td>George Kidd</td>\n",
       "      <td>481 Jenkins Branch Suite 358\\r\\nSolistown, FL ...</td>\n",
       "      <td>5.991010</td>\n",
       "      <td>FALSE</td>\n",
       "      <td>13.0</td>\n",
       "      <td>Own-child</td>\n",
       "      <td>5.185332</td>\n",
       "      <td>90.367188</td>\n",
       "      <td>30.878848</td>\n",
       "      <td>0.0</td>\n",
       "      <td>...</td>\n",
       "      <td>1.553546</td>\n",
       "      <td>Craft-repair|United-States\\r\\r\\nNever-married ...</td>\n",
       "      <td>Bachelors</td>\n",
       "      <td>208725.0</td>\n",
       "      <td>1.0</td>\n",
       "      <td>36.785670</td>\n",
       "      <td>&lt;=50K</td>\n",
       "      <td>5.619565</td>\n",
       "      <td>40.0</td>\n",
       "      <td>0.0</td>\n",
       "    </tr>\n",
       "    <tr>\n",
       "      <th>1</th>\n",
       "      <td>Tommy Prince</td>\n",
       "      <td>123 Sullivan Loaf\\r\\nCynthiaview, RI 22106</td>\n",
       "      <td>2.124187</td>\n",
       "      <td>f</td>\n",
       "      <td>-1300.0</td>\n",
       "      <td>Husband</td>\n",
       "      <td>-0.521835</td>\n",
       "      <td>120.882812</td>\n",
       "      <td>62.780618</td>\n",
       "      <td>15024.0</td>\n",
       "      <td>...</td>\n",
       "      <td>-0.218017</td>\n",
       "      <td>Exec-managerial|United-States\\r\\r\\nMarried-civ...</td>\n",
       "      <td>Bachelors</td>\n",
       "      <td>212894.0</td>\n",
       "      <td>0.0</td>\n",
       "      <td>50.311160</td>\n",
       "      <td>&gt;50K</td>\n",
       "      <td>30.332776</td>\n",
       "      <td>50.0</td>\n",
       "      <td>0.0</td>\n",
       "    </tr>\n",
       "    <tr>\n",
       "      <th>2</th>\n",
       "      <td>Ivan Lane</td>\n",
       "      <td>509 Harris Hill\\r\\nSouth Jean, IN 15542</td>\n",
       "      <td>22.432206</td>\n",
       "      <td>f</td>\n",
       "      <td>9.0</td>\n",
       "      <td>Own-child</td>\n",
       "      <td>0.751713</td>\n",
       "      <td>166.554688</td>\n",
       "      <td>9.733834</td>\n",
       "      <td>0.0</td>\n",
       "      <td>...</td>\n",
       "      <td>-1.251604</td>\n",
       "      <td>Adm-clerical|United-States\\r\\r\\nNever-married ...</td>\n",
       "      <td>HS-grad</td>\n",
       "      <td>410439.0</td>\n",
       "      <td>0.0</td>\n",
       "      <td>58.506518</td>\n",
       "      <td>&lt;=50K</td>\n",
       "      <td>0.564381</td>\n",
       "      <td>25.0</td>\n",
       "      <td>0.0</td>\n",
       "    </tr>\n",
       "    <tr>\n",
       "      <th>3</th>\n",
       "      <td>Mack Sanchez</td>\n",
       "      <td>8651 Destiny Shoal Suite 194\\r\\nCodybury, HI 2...</td>\n",
       "      <td>11.077929</td>\n",
       "      <td>FALSE</td>\n",
       "      <td>13.0</td>\n",
       "      <td>Not-in-family</td>\n",
       "      <td>-0.029883</td>\n",
       "      <td>125.023438</td>\n",
       "      <td>17.771415</td>\n",
       "      <td>0.0</td>\n",
       "      <td>...</td>\n",
       "      <td>-0.084789</td>\n",
       "      <td>Handlers-cleaners|Haiti\\r\\r\\nNever-married -- ...</td>\n",
       "      <td>Bachelors</td>\n",
       "      <td>196899.0</td>\n",
       "      <td>0.0</td>\n",
       "      <td>47.344724</td>\n",
       "      <td>&lt;=50K</td>\n",
       "      <td>1.683946</td>\n",
       "      <td>50.0</td>\n",
       "      <td>0.0</td>\n",
       "    </tr>\n",
       "    <tr>\n",
       "      <th>4</th>\n",
       "      <td>Francis Siebert</td>\n",
       "      <td>982 Douglas Lights\\r\\nStewartfort, WY 59574</td>\n",
       "      <td>1.103161</td>\n",
       "      <td>f</td>\n",
       "      <td>11.0</td>\n",
       "      <td>Unmarried</td>\n",
       "      <td>15.720257</td>\n",
       "      <td>30.859375</td>\n",
       "      <td>64.290446</td>\n",
       "      <td>0.0</td>\n",
       "      <td>...</td>\n",
       "      <td>3.897922</td>\n",
       "      <td>Other-service|Columbia\\r\\r\\nDivorced -- Privat...</td>\n",
       "      <td>Assoc-voc</td>\n",
       "      <td>264166.0</td>\n",
       "      <td>1.0</td>\n",
       "      <td>39.683264</td>\n",
       "      <td>&lt;=50K</td>\n",
       "      <td>70.271739</td>\n",
       "      <td>45.0</td>\n",
       "      <td>0.0</td>\n",
       "    </tr>\n",
       "  </tbody>\n",
       "</table>\n",
       "<p>5 rows × 21 columns</p>\n",
       "</div>"
      ],
      "text/plain": [
       "              name                                            address  \\\n",
       "0      George Kidd  481 Jenkins Branch Suite 358\\r\\nSolistown, FL ...   \n",
       "1     Tommy Prince         123 Sullivan Loaf\\r\\nCynthiaview, RI 22106   \n",
       "2        Ivan Lane            509 Harris Hill\\r\\nSouth Jean, IN 15542   \n",
       "3     Mack Sanchez  8651 Destiny Shoal Suite 194\\r\\nCodybury, HI 2...   \n",
       "4  Francis Siebert        982 Douglas Lights\\r\\nStewartfort, WY 59574   \n",
       "\n",
       "   kurtosis_oxygen pregnant  education-num    relationship  skewness_glucose  \\\n",
       "0         5.991010    FALSE           13.0       Own-child          5.185332   \n",
       "1         2.124187        f        -1300.0         Husband         -0.521835   \n",
       "2        22.432206        f            9.0       Own-child          0.751713   \n",
       "3        11.077929    FALSE           13.0   Not-in-family         -0.029883   \n",
       "4         1.103161        f           11.0       Unmarried         15.720257   \n",
       "\n",
       "   mean_glucose  std_oxygen  capital-gain  ...  kurtosis_glucose  \\\n",
       "0     90.367188   30.878848           0.0  ...          1.553546   \n",
       "1    120.882812   62.780618       15024.0  ...         -0.218017   \n",
       "2    166.554688    9.733834           0.0  ...         -1.251604   \n",
       "3    125.023438   17.771415           0.0  ...         -0.084789   \n",
       "4     30.859375   64.290446           0.0  ...          3.897922   \n",
       "\n",
       "                                       personal_info   education    fnlwgt  \\\n",
       "0  Craft-repair|United-States\\r\\r\\nNever-married ...   Bachelors  208725.0   \n",
       "1  Exec-managerial|United-States\\r\\r\\nMarried-civ...   Bachelors  212894.0   \n",
       "2  Adm-clerical|United-States\\r\\r\\nNever-married ...     HS-grad  410439.0   \n",
       "3  Handlers-cleaners|Haiti\\r\\r\\nNever-married -- ...   Bachelors  196899.0   \n",
       "4  Other-service|Columbia\\r\\r\\nDivorced -- Privat...   Assoc-voc  264166.0   \n",
       "\n",
       "   class  std_glucose  income mean_oxygen  hours-per-week  capital-loss  \n",
       "0    1.0    36.785670   <=50K    5.619565            40.0           0.0  \n",
       "1    0.0    50.311160    >50K   30.332776            50.0           0.0  \n",
       "2    0.0    58.506518   <=50K    0.564381            25.0           0.0  \n",
       "3    0.0    47.344724   <=50K    1.683946            50.0           0.0  \n",
       "4    1.0    39.683264   <=50K   70.271739            45.0           0.0  \n",
       "\n",
       "[5 rows x 21 columns]"
      ]
     },
     "execution_count": 21,
     "metadata": {},
     "output_type": "execute_result"
    }
   ],
   "source": [
    "other = pd.read_csv('other_train.csv', index_col=0)\n",
    "\n",
    "other.head()"
   ]
  },
  {
   "cell_type": "markdown",
   "metadata": {},
   "source": [
    "<ul>\n",
    "    <li>v stlpci pregnant (kategoricky) nie je jednoznacny format (za False sa pouziva 'f', 'F', 'FALSE' a za True sa pouziva 't', 'T', 'TRUE')</li>\n",
    "    <li>treba nahradit boolovskymi hodnotami, NaN hodnoty nahradime najfrekventovanejsou hodnotou</li>\n",
    "</ul>"
   ]
  },
  {
   "cell_type": "code",
   "execution_count": 22,
   "metadata": {},
   "outputs": [
    {
     "data": {
      "text/plain": [
       "array(['FALSE', 'f', 't', 'F', nan, 'TRUE', 'T'], dtype=object)"
      ]
     },
     "execution_count": 22,
     "metadata": {},
     "output_type": "execute_result"
    }
   ],
   "source": [
    "other['pregnant'].unique()"
   ]
  },
  {
   "cell_type": "code",
   "execution_count": 23,
   "metadata": {},
   "outputs": [],
   "source": [
    "pregnant = {'FALSE': False, 'f': False, 'F': False, 'TRUE': True, 'T': True, 't': True}\n",
    "other = other.replace({'pregnant': pregnant})"
   ]
  },
  {
   "cell_type": "markdown",
   "metadata": {},
   "source": [
    "<ul>\n",
    "    <li>v stlpci address (spojity) su pouzite viacere delimitre, treba to dat na jeden</li>\n",
    "    <li>to iste osetrit aj v stlpci personal_info (spojity)</li>\n",
    "    <li>obidva stlpce rozdelit na viacere podla delimitra\n",
    "</ul>"
   ]
  },
  {
   "cell_type": "code",
   "execution_count": 24,
   "metadata": {
    "scrolled": true
   },
   "outputs": [],
   "source": [
    "other['address'] = other['address'].str.replace('\\r\\n', ', ')\n",
    "other[['street', 'city', 'postal_code']] = other['address'].str.split(', ', expand=True)\n",
    "other.loc[other['postal_code'].isnull(), 'postal_code'] = other.loc[other['postal_code'].isnull(), 'city']\n",
    "other.loc[other['postal_code'] == other['city'], 'city'] = np.nan\n",
    "other = other.drop(columns='address')"
   ]
  },
  {
   "cell_type": "code",
   "execution_count": 25,
   "metadata": {},
   "outputs": [],
   "source": [
    "other.personal_info = other.personal_info.str.replace('|', ',')\n",
    "other.personal_info = other.personal_info.str.replace(' -- ', ',')\n",
    "other.personal_info = other.personal_info.str.replace('\\r\\r\\n', ',')\n",
    "other[['job', 'country', 'status', 'employment','race']] = other.personal_info.str.split(',', expand=True)\n",
    "other = other.drop(columns='personal_info')"
   ]
  },
  {
   "cell_type": "markdown",
   "metadata": {},
   "source": [
    "<ul>\n",
    "    <li>v stlpcoch job, country, employment a race (kategoricky) sa nachadzaju otazniky alebo retazec 'nan'</li>\n",
    "    <li>treba ich nahradit NaN hodnotami a tie osetrime najfrekventovanejsou hodnotou</li>\n",
    "</ul>"
   ]
  },
  {
   "cell_type": "code",
   "execution_count": 26,
   "metadata": {
    "scrolled": true
   },
   "outputs": [],
   "source": [
    "other.loc[other['job'] == '?', 'job'] = np.nan"
   ]
  },
  {
   "cell_type": "code",
   "execution_count": 27,
   "metadata": {},
   "outputs": [],
   "source": [
    "other.loc[other['country'] == '?', 'country'] = np.nan"
   ]
  },
  {
   "cell_type": "code",
   "execution_count": 28,
   "metadata": {
    "scrolled": true
   },
   "outputs": [],
   "source": [
    "other.loc[other['employment'] == '?', 'employment'] = np.nan"
   ]
  },
  {
   "cell_type": "code",
   "execution_count": 29,
   "metadata": {},
   "outputs": [],
   "source": [
    "other.loc[other['race'] == '??', 'race'] = np.nan\n",
    "other.loc[other['race'] == 'nan', 'race'] = np.nan"
   ]
  },
  {
   "cell_type": "markdown",
   "metadata": {},
   "source": [
    "<ul>\n",
    "    <li>v stlpci job mame duplicitne hodnoty (napr. Adm-clerical a Adm_clerical)</li>\n",
    "    <li>treba nahradit pomlcku podtrznikom</li>\n",
    "</ul>"
   ]
  },
  {
   "cell_type": "code",
   "execution_count": 30,
   "metadata": {},
   "outputs": [
    {
     "data": {
      "text/plain": [
       "array(['Craft-repair', 'Exec-managerial', 'Adm-clerical',\n",
       "       'Handlers-cleaners', 'Other-service', 'Machine-op-inspct',\n",
       "       'Farming-fishing', 'Transport-moving', 'Other_service', 'Sales',\n",
       "       'Prof-specialty', 'Exec_managerial', 'Tech_support',\n",
       "       'Tech-support', 'Adm_clerical', 'Prof_specialty', 'Craft_repair',\n",
       "       nan, 'Protective-serv', 'Handlers_cleaners', 'Priv-house-serv',\n",
       "       'Machine_op_inspct', 'Transport_moving', 'Protective_serv',\n",
       "       'Farming_fishing', 'Priv_house_serv', 'Armed-Forces'], dtype=object)"
      ]
     },
     "execution_count": 30,
     "metadata": {},
     "output_type": "execute_result"
    }
   ],
   "source": [
    "other['job'].unique()"
   ]
  },
  {
   "cell_type": "code",
   "execution_count": 31,
   "metadata": {},
   "outputs": [
    {
     "data": {
      "text/plain": [
       "array(['Craft_repair', 'Exec_managerial', 'Adm_clerical',\n",
       "       'Handlers_cleaners', 'Other_service', 'Machine_op_inspct',\n",
       "       'Farming_fishing', 'Transport_moving', 'Sales', 'Prof_specialty',\n",
       "       'Tech_support', nan, 'Protective_serv', 'Priv_house_serv',\n",
       "       'Armed_Forces'], dtype=object)"
      ]
     },
     "execution_count": 31,
     "metadata": {},
     "output_type": "execute_result"
    }
   ],
   "source": [
    "other['job'] = other['job'].str.replace('-', '_')\n",
    "other['job'].unique()"
   ]
  },
  {
   "cell_type": "markdown",
   "metadata": {},
   "source": [
    "<ul>\n",
    "    <li>stlpec education-num je zbytocny, kedze mame stlpec education</li>\n",
    "</ul>"
   ]
  },
  {
   "cell_type": "code",
   "execution_count": 32,
   "metadata": {},
   "outputs": [],
   "source": [
    "other = other.drop(columns='education-num')"
   ]
  },
  {
   "cell_type": "markdown",
   "metadata": {},
   "source": [
    "<ul>\n",
    "    <li>v stlpcoch education, relationship, income (kategoricky) sa nachadzaju medzery pred retazcom, treba to odstranit</li>\n",
    "    <li>capital-gain, capital-loss a fnlwgt (spojity) nesuvisia s meranim cukrovky - vyhodime sme ich</li>\n",
    "</ul>"
   ]
  },
  {
   "cell_type": "code",
   "execution_count": 33,
   "metadata": {},
   "outputs": [
    {
     "data": {
      "text/plain": [
       "array([' Bachelors', ' HS-grad', ' Assoc-voc', ' Some-college', ' 12th',\n",
       "       ' 11th', ' Masters', ' 10th', ' Assoc-acdm', ' 7th-8th',\n",
       "       ' 1st-4th', ' 9th', ' 5th-6th', ' Doctorate', ' Prof-school', nan,\n",
       "       ' Preschool'], dtype=object)"
      ]
     },
     "execution_count": 33,
     "metadata": {},
     "output_type": "execute_result"
    }
   ],
   "source": [
    "other['education'].unique()"
   ]
  },
  {
   "cell_type": "code",
   "execution_count": 34,
   "metadata": {},
   "outputs": [],
   "source": [
    "other['education'] = other['education'].str.strip()"
   ]
  },
  {
   "cell_type": "code",
   "execution_count": 35,
   "metadata": {},
   "outputs": [
    {
     "data": {
      "text/plain": [
       "array(['Bachelors', 'HS-grad', 'Assoc-voc', 'Some-college', '12th',\n",
       "       '11th', 'Masters', '10th', 'Assoc-acdm', '7th-8th', '1st-4th',\n",
       "       '9th', '5th-6th', 'Doctorate', 'Prof-school', nan, 'Preschool'],\n",
       "      dtype=object)"
      ]
     },
     "execution_count": 35,
     "metadata": {},
     "output_type": "execute_result"
    }
   ],
   "source": [
    "other['education'].unique()"
   ]
  },
  {
   "cell_type": "code",
   "execution_count": 36,
   "metadata": {},
   "outputs": [
    {
     "data": {
      "text/plain": [
       "array([' Own-child', ' Husband', ' Not-in-family', ' Unmarried', ' Wife',\n",
       "       ' Other-relative', nan], dtype=object)"
      ]
     },
     "execution_count": 36,
     "metadata": {},
     "output_type": "execute_result"
    }
   ],
   "source": [
    "other['relationship'].unique()"
   ]
  },
  {
   "cell_type": "code",
   "execution_count": 37,
   "metadata": {},
   "outputs": [],
   "source": [
    "other['relationship'] = other['relationship'].str.strip()"
   ]
  },
  {
   "cell_type": "code",
   "execution_count": 38,
   "metadata": {},
   "outputs": [],
   "source": [
    "other = other.drop(columns=['capital-gain', 'capital-loss', 'fnlwgt'])"
   ]
  },
  {
   "cell_type": "code",
   "execution_count": 39,
   "metadata": {},
   "outputs": [
    {
     "data": {
      "text/plain": [
       "array([' <=50K', ' >50K', nan], dtype=object)"
      ]
     },
     "execution_count": 39,
     "metadata": {},
     "output_type": "execute_result"
    }
   ],
   "source": [
    "other['income'].unique()"
   ]
  },
  {
   "cell_type": "code",
   "execution_count": 40,
   "metadata": {},
   "outputs": [],
   "source": [
    "other['income'] = other['income'].str.strip()"
   ]
  },
  {
   "cell_type": "markdown",
   "metadata": {},
   "source": [
    "<ul>\n",
    "    <li>v stlpcoch 'kurtosis_oxygen', 'std_oxygen' (spojite) mame vychylene hodnoty</li>\n",
    "    <li>budeme ich normalizovat hranicnymi hodnotami rozdelenia</li>\n",
    "    <li>v stlpcoch 'mean_oxygen', 'skewness_oxygen', 'skewness_glucose', 'mean_glucose', 'kurtosis_oxygen' (spojite) mame tiez vychylene hodnoty, tieto atributy budeme transformovat pomocou logaritmu</li>\n",
    "    <li>v stlpci 'std_glucose' (spojity) vymazeme vychylene hodnoty a vsetky NaN hodnoty nahradime medianom</li>\n",
    "</ul>"
   ]
  },
  {
   "cell_type": "code",
   "execution_count": 41,
   "metadata": {},
   "outputs": [
    {
     "data": {
      "text/plain": [
       "<matplotlib.axes._subplots.AxesSubplot at 0x1f472406390>"
      ]
     },
     "execution_count": 41,
     "metadata": {},
     "output_type": "execute_result"
    },
    {
     "data": {
      "image/png": "[encoded data removed]",
      "text/plain": [
       "<Figure size 432x288 with 1 Axes>"
      ]
     },
     "metadata": {
      "needs_background": "light"
     },
     "output_type": "display_data"
    }
   ],
   "source": [
    "sns.boxplot(other['kurtosis_oxygen'])"
   ]
  },
  {
   "cell_type": "code",
   "execution_count": 42,
   "metadata": {},
   "outputs": [
    {
     "data": {
      "text/plain": [
       "<matplotlib.axes._subplots.AxesSubplot at 0x1f4723661d0>"
      ]
     },
     "execution_count": 42,
     "metadata": {},
     "output_type": "execute_result"
    },
    {
     "data": {
      "image/png": "[encoded data removed]",
      "text/plain": [
       "<Figure size 432x288 with 1 Axes>"
      ]
     },
     "metadata": {
      "needs_background": "light"
     },
     "output_type": "display_data"
    }
   ],
   "source": [
    "other['kurtosis_oxygen'].hist()"
   ]
  },
  {
   "cell_type": "code",
   "execution_count": 43,
   "metadata": {},
   "outputs": [
    {
     "data": {
      "text/plain": [
       "<matplotlib.axes._subplots.AxesSubplot at 0x1f472512a20>"
      ]
     },
     "execution_count": 43,
     "metadata": {},
     "output_type": "execute_result"
    },
    {
     "data": {
      "image/png": "[encoded data removed]",
      "text/plain": [
       "<Figure size 432x288 with 1 Axes>"
      ]
     },
     "metadata": {
      "needs_background": "light"
     },
     "output_type": "display_data"
    }
   ],
   "source": [
    "sns.boxplot(other['std_oxygen'])"
   ]
  },
  {
   "cell_type": "code",
   "execution_count": 44,
   "metadata": {},
   "outputs": [
    {
     "data": {
      "text/plain": [
       "<matplotlib.axes._subplots.AxesSubplot at 0x1f47256a2b0>"
      ]
     },
     "execution_count": 44,
     "metadata": {},
     "output_type": "execute_result"
    },
    {
     "data": {
      "image/png": "[encoded data removed]",
      "text/plain": [
       "<Figure size 432x288 with 1 Axes>"
      ]
     },
     "metadata": {
      "needs_background": "light"
     },
     "output_type": "display_data"
    }
   ],
   "source": [
    "other['std_oxygen'].hist()"
   ]
  },
  {
   "cell_type": "code",
   "execution_count": 45,
   "metadata": {},
   "outputs": [
    {
     "data": {
      "text/plain": [
       "<matplotlib.axes._subplots.AxesSubplot at 0x1f47259c940>"
      ]
     },
     "execution_count": 45,
     "metadata": {},
     "output_type": "execute_result"
    },
    {
     "data": {
      "image/png": "[encoded data removed]",
      "text/plain": [
       "<Figure size 432x288 with 1 Axes>"
      ]
     },
     "metadata": {
      "needs_background": "light"
     },
     "output_type": "display_data"
    }
   ],
   "source": [
    "sns.boxplot(other['mean_oxygen'])"
   ]
  },
  {
   "cell_type": "code",
   "execution_count": 46,
   "metadata": {},
   "outputs": [
    {
     "data": {
      "text/plain": [
       "<matplotlib.axes._subplots.AxesSubplot at 0x1f4725eeac8>"
      ]
     },
     "execution_count": 46,
     "metadata": {},
     "output_type": "execute_result"
    },
    {
     "data": {
      "image/png": "[encoded data removed]",
      "text/plain": [
       "<Figure size 432x288 with 1 Axes>"
      ]
     },
     "metadata": {
      "needs_background": "light"
     },
     "output_type": "display_data"
    }
   ],
   "source": [
    "sns.boxplot(other['skewness_oxygen'])"
   ]
  },
  {
   "cell_type": "code",
   "execution_count": 47,
   "metadata": {},
   "outputs": [
    {
     "data": {
      "text/plain": [
       "<matplotlib.axes._subplots.AxesSubplot at 0x1f47269c3c8>"
      ]
     },
     "execution_count": 47,
     "metadata": {},
     "output_type": "execute_result"
    },
    {
     "data": {
      "image/png": "[encoded data removed]",
      "text/plain": [
       "<Figure size 432x288 with 1 Axes>"
      ]
     },
     "metadata": {
      "needs_background": "light"
     },
     "output_type": "display_data"
    }
   ],
   "source": [
    "sns.boxplot(other['kurtosis_glucose'])"
   ]
  },
  {
   "cell_type": "code",
   "execution_count": 48,
   "metadata": {},
   "outputs": [
    {
     "data": {
      "text/plain": [
       "<matplotlib.axes._subplots.AxesSubplot at 0x1f4726fe940>"
      ]
     },
     "execution_count": 48,
     "metadata": {},
     "output_type": "execute_result"
    },
    {
     "data": {
      "image/png": "[encoded data removed]",
      "text/plain": [
       "<Figure size 432x288 with 1 Axes>"
      ]
     },
     "metadata": {
      "needs_background": "light"
     },
     "output_type": "display_data"
    }
   ],
   "source": [
    "sns.boxplot(other['skewness_glucose'])"
   ]
  },
  {
   "cell_type": "code",
   "execution_count": 49,
   "metadata": {},
   "outputs": [
    {
     "data": {
      "text/plain": [
       "<matplotlib.axes._subplots.AxesSubplot at 0x1f47275b0b8>"
      ]
     },
     "execution_count": 49,
     "metadata": {},
     "output_type": "execute_result"
    },
    {
     "data": {
      "image/png": "[encoded data removed]",
      "text/plain": [
       "<Figure size 432x288 with 1 Axes>"
      ]
     },
     "metadata": {
      "needs_background": "light"
     },
     "output_type": "display_data"
    }
   ],
   "source": [
    "sns.boxplot(other['mean_glucose'])"
   ]
  },
  {
   "cell_type": "code",
   "execution_count": 50,
   "metadata": {},
   "outputs": [
    {
     "data": {
      "text/plain": [
       "<matplotlib.axes._subplots.AxesSubplot at 0x1f4727bb080>"
      ]
     },
     "execution_count": 50,
     "metadata": {},
     "output_type": "execute_result"
    },
    {
     "data": {
      "image/png": "[encoded data removed]",
      "text/plain": [
       "<Figure size 432x288 with 1 Axes>"
      ]
     },
     "metadata": {
      "needs_background": "light"
     },
     "output_type": "display_data"
    }
   ],
   "source": [
    "sns.boxplot(other['std_glucose'])"
   ]
  },
  {
   "cell_type": "code",
   "execution_count": 51,
   "metadata": {},
   "outputs": [
    {
     "data": {
      "text/plain": [
       "<matplotlib.axes._subplots.AxesSubplot at 0x1f4737f0898>"
      ]
     },
     "execution_count": 51,
     "metadata": {},
     "output_type": "execute_result"
    },
    {
     "data": {
      "image/png": "[encoded data removed]",
      "text/plain": [
       "<Figure size 432x288 with 1 Axes>"
      ]
     },
     "metadata": {
      "needs_background": "light"
     },
     "output_type": "display_data"
    }
   ],
   "source": [
    "other['education'].value_counts().plot.bar()"
   ]
  },
  {
   "cell_type": "code",
   "execution_count": 52,
   "metadata": {},
   "outputs": [
    {
     "data": {
      "text/plain": [
       "<matplotlib.axes._subplots.AxesSubplot at 0x1f47389f390>"
      ]
     },
     "execution_count": 52,
     "metadata": {},
     "output_type": "execute_result"
    },
    {
     "data": {
      "image/png": "[encoded data removed]",
      "text/plain": [
       "<Figure size 432x288 with 1 Axes>"
      ]
     },
     "metadata": {
      "needs_background": "light"
     },
     "output_type": "display_data"
    }
   ],
   "source": [
    "other['job'].value_counts().plot.bar()"
   ]
  },
  {
   "cell_type": "markdown",
   "metadata": {},
   "source": [
    "# Parova analyza\n",
    "<ul>\n",
    "    <li>analyzujeme atributy 'std_oxygen' a 'education'</li>\n",
    "    <li>z grafu mozeme vycitat, ze je signifikantny rozdiel medzi skolkarmi a doktorandmi</li>\n",
    "</ul>"
   ]
  },
  {
   "cell_type": "code",
   "execution_count": 53,
   "metadata": {},
   "outputs": [
    {
     "data": {
      "text/plain": [
       "<matplotlib.axes._subplots.AxesSubplot at 0x1f4738a2710>"
      ]
     },
     "execution_count": 53,
     "metadata": {},
     "output_type": "execute_result"
    },
    {
     "data": {
      "image/png": "[encoded data removed]",
      "text/plain": [
       "<Figure size 1440x720 with 1 Axes>"
      ]
     },
     "metadata": {
      "needs_background": "light"
     },
     "output_type": "display_data"
    }
   ],
   "source": [
    "plt.figure(figsize=(20, 10))\n",
    "sns.boxplot(data=other, x='education', y='std_oxygen')"
   ]
  },
  {
   "cell_type": "markdown",
   "metadata": {},
   "source": [
    "<ul>\n",
    "    <li>analyzujeme atributy 'job' a 'kurtosis_glucose'</li>\n",
    "    <li>z grafu mozeme vycitat, ze je viditelny rozdiel medzi 'Farming_fishing' a 'Adm_clerical'</li>\n",
    "</ul>"
   ]
  },
  {
   "cell_type": "code",
   "execution_count": 54,
   "metadata": {},
   "outputs": [
    {
     "data": {
      "text/plain": [
       "<matplotlib.axes._subplots.AxesSubplot at 0x1f473eeee10>"
      ]
     },
     "execution_count": 54,
     "metadata": {},
     "output_type": "execute_result"
    },
    {
     "data": {
      "image/png": "[encoded data removed]",
      "text/plain": [
       "<Figure size 1440x720 with 1 Axes>"
      ]
     },
     "metadata": {
      "needs_background": "light"
     },
     "output_type": "display_data"
    }
   ],
   "source": [
    "plt.figure(figsize=(20, 10))\n",
    "sns.boxplot(data=other, x='job', y='kurtosis_glucose')"
   ]
  },
  {
   "cell_type": "markdown",
   "metadata": {},
   "source": [
    "# Formulacia a statisticke overenie hypotez"
   ]
  },
  {
   "cell_type": "markdown",
   "metadata": {},
   "source": [
    " ## 1. hypoteza"
   ]
  },
  {
   "cell_type": "markdown",
   "metadata": {},
   "source": [
    "Nulova hypoteza - Skolkari nemaju vyssie standardne odchylky kyslika ako doktorandi."
   ]
  },
  {
   "cell_type": "markdown",
   "metadata": {},
   "source": [
    "Alternativna hypoteza - Skolkari maju vyssie standardne odchylky kyslika ako doktorandi."
   ]
  },
  {
   "cell_type": "code",
   "execution_count": 55,
   "metadata": {},
   "outputs": [],
   "source": [
    "preschool = other.loc[other['education'] == 'Preschool', 'std_oxygen']\n",
    "doctorate = other.loc[other['education'] == 'Doctorate', 'std_oxygen']"
   ]
  },
  {
   "cell_type": "markdown",
   "metadata": {},
   "source": [
    "<ul>\n",
    "    <li>z grafov vieme vycitat, ze hodnoty nie su z normalneho rozdelenia</li>\n",
    "</ul>"
   ]
  },
  {
   "cell_type": "code",
   "execution_count": 56,
   "metadata": {},
   "outputs": [
    {
     "data": {
      "text/plain": [
       "<matplotlib.axes._subplots.AxesSubplot at 0x1f473eeeeb8>"
      ]
     },
     "execution_count": 56,
     "metadata": {},
     "output_type": "execute_result"
    },
    {
     "data": {
      "image/png": "[encoded data removed]",
      "text/plain": [
       "<Figure size 432x288 with 1 Axes>"
      ]
     },
     "metadata": {
      "needs_background": "light"
     },
     "output_type": "display_data"
    }
   ],
   "source": [
    "sns.distplot(preschool)"
   ]
  },
  {
   "cell_type": "code",
   "execution_count": 57,
   "metadata": {},
   "outputs": [
    {
     "data": {
      "image/png": "[encoded data removed]",
      "text/plain": [
       "<Figure size 432x288 with 1 Axes>"
      ]
     },
     "metadata": {
      "needs_background": "light"
     },
     "output_type": "display_data"
    }
   ],
   "source": [
    "_ = sm.ProbPlot(preschool, fit=True).qqplot(line='45')"
   ]
  },
  {
   "cell_type": "code",
   "execution_count": 58,
   "metadata": {},
   "outputs": [
    {
     "data": {
      "text/plain": [
       "<matplotlib.axes._subplots.AxesSubplot at 0x1f4744de6d8>"
      ]
     },
     "execution_count": 58,
     "metadata": {},
     "output_type": "execute_result"
    },
    {
     "data": {
      "image/png": "[encoded data removed]",
      "text/plain": [
       "<Figure size 432x288 with 1 Axes>"
      ]
     },
     "metadata": {
      "needs_background": "light"
     },
     "output_type": "display_data"
    }
   ],
   "source": [
    "sns.distplot(doctorate)"
   ]
  },
  {
   "cell_type": "code",
   "execution_count": 59,
   "metadata": {},
   "outputs": [
    {
     "data": {
      "image/png": "[encoded data removed]",
      "text/plain": [
       "<Figure size 432x288 with 1 Axes>"
      ]
     },
     "metadata": {
      "needs_background": "light"
     },
     "output_type": "display_data"
    }
   ],
   "source": [
    "_ = sm.ProbPlot(doctorate, fit=True).qqplot(line='45')"
   ]
  },
  {
   "cell_type": "markdown",
   "metadata": {},
   "source": [
    "<ul>\n",
    "    <li>Shapirov-Wilkov test potvrdzuje, ze data skolkarov nepochadzaju z normalneho rozdelenia, zato data doktorandov pochadza z normalneho rozdelenia</li>\n",
    "    <li>Levenov test nam ukazuje, ze data pochadzaju z distribucii s roznou varianciou</li>\n",
    "    <li>rozhodli sme sa pre Mann-Witneyho U test a ten nam potvrdil alternativnu hypotezu</li>\n",
    "</ul>"
   ]
  },
  {
   "cell_type": "code",
   "execution_count": 60,
   "metadata": {},
   "outputs": [
    {
     "data": {
      "text/plain": [
       "(0.7558702826499939, 1.859040388296762e-08)"
      ]
     },
     "execution_count": 60,
     "metadata": {},
     "output_type": "execute_result"
    }
   ],
   "source": [
    "stats.shapiro(doctorate)"
   ]
  },
  {
   "cell_type": "code",
   "execution_count": 61,
   "metadata": {},
   "outputs": [
    {
     "data": {
      "text/plain": [
       "(0.7679501175880432, 0.040082044899463654)"
      ]
     },
     "execution_count": 61,
     "metadata": {},
     "output_type": "execute_result"
    }
   ],
   "source": [
    "stats.shapiro(preschool)"
   ]
  },
  {
   "cell_type": "code",
   "execution_count": 62,
   "metadata": {},
   "outputs": [
    {
     "data": {
      "text/plain": [
       "LeveneResult(statistic=0.016126709593721544, pvalue=0.8993793494550046)"
      ]
     },
     "execution_count": 62,
     "metadata": {},
     "output_type": "execute_result"
    }
   ],
   "source": [
    "stats.levene(doctorate, preschool)"
   ]
  },
  {
   "cell_type": "code",
   "execution_count": 63,
   "metadata": {},
   "outputs": [
    {
     "data": {
      "text/plain": [
       "MannwhitneyuResult(statistic=37.0, pvalue=0.04937548932385397)"
      ]
     },
     "execution_count": 63,
     "metadata": {},
     "output_type": "execute_result"
    }
   ],
   "source": [
    "stats.mannwhitneyu(x=doctorate, y=preschool)"
   ]
  },
  {
   "cell_type": "markdown",
   "metadata": {},
   "source": [
    "### 2. hypoteza"
   ]
  },
  {
   "cell_type": "markdown",
   "metadata": {},
   "source": [
    "Nulova hypoteza - farmari a rybari nemaju vyssi koeficient spicatosti glukozy ako ludia z administrativy"
   ]
  },
  {
   "cell_type": "markdown",
   "metadata": {},
   "source": [
    "Alternativna hypoteza - farmari a rybari maju vyssi koeficient spicatosti glukozy ako ludia z administrativy"
   ]
  },
  {
   "cell_type": "code",
   "execution_count": 64,
   "metadata": {},
   "outputs": [],
   "source": [
    "farmers_fishers = other.loc[other['job'] == 'Farming_fishing', 'kurtosis_glucose']\n",
    "administrative = other.loc[other['job'] == 'Adm_clerical', 'kurtosis_glucose']"
   ]
  },
  {
   "cell_type": "markdown",
   "metadata": {},
   "source": [
    "<ul>\n",
    "    <li>z grafov mozeme vycitat, ze hodnoty nepochadzaju z normalneho rozdelenia</li>\n",
    "</ul>"
   ]
  },
  {
   "cell_type": "code",
   "execution_count": 65,
   "metadata": {},
   "outputs": [
    {
     "data": {
      "text/plain": [
       "<matplotlib.axes._subplots.AxesSubplot at 0x1f4745b9ba8>"
      ]
     },
     "execution_count": 65,
     "metadata": {},
     "output_type": "execute_result"
    },
    {
     "data": {
      "image/png": "[encoded data removed]",
      "text/plain": [
       "<Figure size 432x288 with 1 Axes>"
      ]
     },
     "metadata": {
      "needs_background": "light"
     },
     "output_type": "display_data"
    }
   ],
   "source": [
    "sns.distplot(farmers_fishers)"
   ]
  },
  {
   "cell_type": "code",
   "execution_count": 66,
   "metadata": {},
   "outputs": [
    {
     "data": {
      "image/png": "[encoded data removed]",
      "text/plain": [
       "<Figure size 432x288 with 1 Axes>"
      ]
     },
     "metadata": {
      "needs_background": "light"
     },
     "output_type": "display_data"
    }
   ],
   "source": [
    "_ = sm.ProbPlot(farmers_fishers, fit=True).qqplot(line='45')"
   ]
  },
  {
   "cell_type": "code",
   "execution_count": 67,
   "metadata": {},
   "outputs": [
    {
     "data": {
      "text/plain": [
       "<matplotlib.axes._subplots.AxesSubplot at 0x1f4746918d0>"
      ]
     },
     "execution_count": 67,
     "metadata": {},
     "output_type": "execute_result"
    },
    {
     "data": {
      "image/png": "[encoded data removed]",
      "text/plain": [
       "<Figure size 432x288 with 1 Axes>"
      ]
     },
     "metadata": {
      "needs_background": "light"
     },
     "output_type": "display_data"
    }
   ],
   "source": [
    "sns.distplot(administrative)"
   ]
  },
  {
   "cell_type": "code",
   "execution_count": 68,
   "metadata": {},
   "outputs": [
    {
     "data": {
      "image/png": "[encoded data removed]",
      "text/plain": [
       "<Figure size 432x288 with 1 Axes>"
      ]
     },
     "metadata": {
      "needs_background": "light"
     },
     "output_type": "display_data"
    }
   ],
   "source": [
    "_ = sm.ProbPlot(administrative, fit=True).qqplot(line='45')"
   ]
  },
  {
   "cell_type": "markdown",
   "metadata": {},
   "source": [
    "<ul>\n",
    "    <li>Shapirov-Wilkov test ukazuje, ze pochadzaju z normalneho rozdelenia</li>\n",
    "    <li>Levenov test ukazuje, ze hodnoty pochadzaju z distribucii s rovnakou varianciou</li>\n",
    "    <li>rozhodli sme sa podla grafu pre Mann-Witney U test, tento test nam potvrdil alternativnu hypotezu</li>\n",
    "</ul>"
   ]
  },
  {
   "cell_type": "code",
   "execution_count": 69,
   "metadata": {},
   "outputs": [
    {
     "data": {
      "text/plain": [
       "(0.7468430995941162, 7.390795332511135e-13)"
      ]
     },
     "execution_count": 69,
     "metadata": {},
     "output_type": "execute_result"
    }
   ],
   "source": [
    "stats.shapiro(farmers_fishers)"
   ]
  },
  {
   "cell_type": "code",
   "execution_count": 70,
   "metadata": {},
   "outputs": [
    {
     "data": {
      "text/plain": [
       "(0.6262168884277344, 7.81143418053626e-30)"
      ]
     },
     "execution_count": 70,
     "metadata": {},
     "output_type": "execute_result"
    }
   ],
   "source": [
    "stats.shapiro(administrative)"
   ]
  },
  {
   "cell_type": "code",
   "execution_count": 71,
   "metadata": {},
   "outputs": [
    {
     "data": {
      "text/plain": [
       "LeveneResult(statistic=8.038402430880456, pvalue=0.004746529063936582)"
      ]
     },
     "execution_count": 71,
     "metadata": {},
     "output_type": "execute_result"
    }
   ],
   "source": [
    "stats.levene(farmers_fishers, administrative)"
   ]
  },
  {
   "cell_type": "code",
   "execution_count": 72,
   "metadata": {},
   "outputs": [
    {
     "data": {
      "text/plain": [
       "MannwhitneyuResult(statistic=21147.0, pvalue=0.0020354252992299555)"
      ]
     },
     "execution_count": 72,
     "metadata": {},
     "output_type": "execute_result"
    }
   ],
   "source": [
    "stats.mannwhitneyu(x=farmers_fishers, y=administrative)"
   ]
  }
 ],
 "metadata": {
  "kernelspec": {
   "display_name": "Python 3",
   "language": "python",
   "name": "python3"
  },
  "language_info": {
   "codemirror_mode": {
    "name": "ipython",
    "version": 3
   },
   "file_extension": ".py",
   "mimetype": "text/x-python",
   "name": "python",
   "nbconvert_exporter": "python",
   "pygments_lexer": "ipython3",
   "version": "3.7.3"
  }
 },
 "nbformat": 4,
 "nbformat_minor": 4
}
