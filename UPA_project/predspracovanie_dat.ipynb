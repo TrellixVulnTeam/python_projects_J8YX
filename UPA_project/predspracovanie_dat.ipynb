{
 "cells": [
  {
   "cell_type": "code",
   "execution_count": 1,
   "metadata": {
    "id": "ioY1oua_qa_S"
   },
   "outputs": [],
   "source": [
    "import pandas as pd\n",
    "import numpy as np\n",
    "import matplotlib.pyplot as plt\n",
    "import seaborn as sns; sns.set()\n",
    "\n",
    "%matplotlib inline"
   ]
  },
  {
   "cell_type": "code",
   "execution_count": 2,
   "metadata": {
    "colab": {
     "base_uri": "https://localhost:8080/",
     "height": 204
    },
    "id": "U4pB3TgFrBZU",
    "outputId": "81a36f99-de80-4d6e-f808-c1be937a863f"
   },
   "outputs": [
    {
     "data": {
      "text/html": [
       "<div>\n",
       "<style scoped>\n",
       "    .dataframe tbody tr th:only-of-type {\n",
       "        vertical-align: middle;\n",
       "    }\n",
       "\n",
       "    .dataframe tbody tr th {\n",
       "        vertical-align: top;\n",
       "    }\n",
       "\n",
       "    .dataframe thead th {\n",
       "        text-align: right;\n",
       "    }\n",
       "</style>\n",
       "<table border=\"1\" class=\"dataframe\">\n",
       "  <thead>\n",
       "    <tr style=\"text-align: right;\">\n",
       "      <th></th>\n",
       "      <th>datum</th>\n",
       "      <th>kraj_nuts_kod</th>\n",
       "      <th>okres_lau_kod</th>\n",
       "      <th>kumulativni_pocet_nakazenych</th>\n",
       "      <th>kumulativni_pocet_vylecenych</th>\n",
       "      <th>kumulativni_pocet_umrti</th>\n",
       "    </tr>\n",
       "  </thead>\n",
       "  <tbody>\n",
       "    <tr>\n",
       "      <th>0</th>\n",
       "      <td>2020-03-01</td>\n",
       "      <td>CZ010</td>\n",
       "      <td>CZ0100</td>\n",
       "      <td>2</td>\n",
       "      <td>0</td>\n",
       "      <td>0</td>\n",
       "    </tr>\n",
       "    <tr>\n",
       "      <th>1</th>\n",
       "      <td>2020-03-01</td>\n",
       "      <td>CZ020</td>\n",
       "      <td>CZ020A</td>\n",
       "      <td>0</td>\n",
       "      <td>0</td>\n",
       "      <td>0</td>\n",
       "    </tr>\n",
       "    <tr>\n",
       "      <th>2</th>\n",
       "      <td>2020-03-01</td>\n",
       "      <td>CZ020</td>\n",
       "      <td>CZ020B</td>\n",
       "      <td>0</td>\n",
       "      <td>0</td>\n",
       "      <td>0</td>\n",
       "    </tr>\n",
       "    <tr>\n",
       "      <th>3</th>\n",
       "      <td>2020-03-01</td>\n",
       "      <td>CZ020</td>\n",
       "      <td>CZ020C</td>\n",
       "      <td>0</td>\n",
       "      <td>0</td>\n",
       "      <td>0</td>\n",
       "    </tr>\n",
       "    <tr>\n",
       "      <th>4</th>\n",
       "      <td>2020-03-01</td>\n",
       "      <td>CZ020</td>\n",
       "      <td>CZ0201</td>\n",
       "      <td>0</td>\n",
       "      <td>0</td>\n",
       "      <td>0</td>\n",
       "    </tr>\n",
       "  </tbody>\n",
       "</table>\n",
       "</div>"
      ],
      "text/plain": [
       "        datum kraj_nuts_kod okres_lau_kod  kumulativni_pocet_nakazenych  \\\n",
       "0  2020-03-01         CZ010        CZ0100                             2   \n",
       "1  2020-03-01         CZ020        CZ020A                             0   \n",
       "2  2020-03-01         CZ020        CZ020B                             0   \n",
       "3  2020-03-01         CZ020        CZ020C                             0   \n",
       "4  2020-03-01         CZ020        CZ0201                             0   \n",
       "\n",
       "   kumulativni_pocet_vylecenych  kumulativni_pocet_umrti  \n",
       "0                             0                        0  \n",
       "1                             0                        0  \n",
       "2                             0                        0  \n",
       "3                             0                        0  \n",
       "4                             0                        0  "
      ]
     },
     "execution_count": 2,
     "metadata": {},
     "output_type": "execute_result"
    }
   ],
   "source": [
    "kraj_okres = pd.read_csv('covid_cz/kraj-okres-nakazeni-vyleceni-umrti.csv')\n",
    "kraj_okres.head()"
   ]
  },
  {
   "cell_type": "markdown",
   "metadata": {},
   "source": [
    "načítanie datasetu pomocou príkazu read_csv z knižnice pandas. Dataset obsahuje záznamy o počte nakazených, vyliečených a zomrelích pre okresy v jednotlivých dňoch."
   ]
  },
  {
   "cell_type": "code",
   "execution_count": 3,
   "metadata": {
    "colab": {
     "base_uri": "https://localhost:8080/"
    },
    "id": "fPX6ceIwz1F4",
    "outputId": "2cf7916b-b47e-439a-bb15-5ec638402b8b"
   },
   "outputs": [
    {
     "name": "stdout",
     "output_type": "stream",
     "text": [
      "<class 'pandas.core.frame.DataFrame'>\n",
      "RangeIndex: 20097 entries, 0 to 20096\n",
      "Data columns (total 6 columns):\n",
      " #   Column                        Non-Null Count  Dtype \n",
      "---  ------                        --------------  ----- \n",
      " 0   datum                         20097 non-null  object\n",
      " 1   kraj_nuts_kod                 20097 non-null  object\n",
      " 2   okres_lau_kod                 20097 non-null  object\n",
      " 3   kumulativni_pocet_nakazenych  20097 non-null  int64 \n",
      " 4   kumulativni_pocet_vylecenych  20097 non-null  int64 \n",
      " 5   kumulativni_pocet_umrti       20097 non-null  int64 \n",
      "dtypes: int64(3), object(3)\n",
      "memory usage: 942.2+ KB\n"
     ]
    }
   ],
   "source": [
    "kraj_okres.info()"
   ]
  },
  {
   "cell_type": "markdown",
   "metadata": {},
   "source": [
    "Pomocou príkazu info sme zistili informácie o tomto datasete, atributy datum, kraj_nuts_kod a okres_lau_kod sú typu object. kumulativni_pocet_nakazenych, kumulativni_pocet_vylecenych a kumulativni_pocet_umrti sú typu int. Počet záznamov je 20097 a nie sú medzi nimi žiadne chýbajúce hodnoty.\n"
   ]
  },
  {
   "cell_type": "code",
   "execution_count": 4,
   "metadata": {
    "colab": {
     "base_uri": "https://localhost:8080/",
     "height": 297
    },
    "id": "AfwGpx3c0Fmf",
    "outputId": "d5f69333-7d20-4bdf-878a-e6fa07a79f33"
   },
   "outputs": [
    {
     "data": {
      "text/html": [
       "<div>\n",
       "<style scoped>\n",
       "    .dataframe tbody tr th:only-of-type {\n",
       "        vertical-align: middle;\n",
       "    }\n",
       "\n",
       "    .dataframe tbody tr th {\n",
       "        vertical-align: top;\n",
       "    }\n",
       "\n",
       "    .dataframe thead th {\n",
       "        text-align: right;\n",
       "    }\n",
       "</style>\n",
       "<table border=\"1\" class=\"dataframe\">\n",
       "  <thead>\n",
       "    <tr style=\"text-align: right;\">\n",
       "      <th></th>\n",
       "      <th>kumulativni_pocet_nakazenych</th>\n",
       "      <th>kumulativni_pocet_vylecenych</th>\n",
       "      <th>kumulativni_pocet_umrti</th>\n",
       "    </tr>\n",
       "  </thead>\n",
       "  <tbody>\n",
       "    <tr>\n",
       "      <th>count</th>\n",
       "      <td>20097.000000</td>\n",
       "      <td>20097.000000</td>\n",
       "      <td>20097.000000</td>\n",
       "    </tr>\n",
       "    <tr>\n",
       "      <th>mean</th>\n",
       "      <td>727.774046</td>\n",
       "      <td>503.500075</td>\n",
       "      <td>9.876549</td>\n",
       "    </tr>\n",
       "    <tr>\n",
       "      <th>std</th>\n",
       "      <td>2318.119731</td>\n",
       "      <td>1778.954406</td>\n",
       "      <td>27.493207</td>\n",
       "    </tr>\n",
       "    <tr>\n",
       "      <th>min</th>\n",
       "      <td>0.000000</td>\n",
       "      <td>0.000000</td>\n",
       "      <td>0.000000</td>\n",
       "    </tr>\n",
       "    <tr>\n",
       "      <th>25%</th>\n",
       "      <td>32.000000</td>\n",
       "      <td>19.000000</td>\n",
       "      <td>0.000000</td>\n",
       "    </tr>\n",
       "    <tr>\n",
       "      <th>50%</th>\n",
       "      <td>87.000000</td>\n",
       "      <td>69.000000</td>\n",
       "      <td>1.000000</td>\n",
       "    </tr>\n",
       "    <tr>\n",
       "      <th>75%</th>\n",
       "      <td>377.000000</td>\n",
       "      <td>265.000000</td>\n",
       "      <td>6.000000</td>\n",
       "    </tr>\n",
       "    <tr>\n",
       "      <th>max</th>\n",
       "      <td>53301.000000</td>\n",
       "      <td>48673.000000</td>\n",
       "      <td>626.000000</td>\n",
       "    </tr>\n",
       "  </tbody>\n",
       "</table>\n",
       "</div>"
      ],
      "text/plain": [
       "       kumulativni_pocet_nakazenych  kumulativni_pocet_vylecenych  \\\n",
       "count                  20097.000000                  20097.000000   \n",
       "mean                     727.774046                    503.500075   \n",
       "std                     2318.119731                   1778.954406   \n",
       "min                        0.000000                      0.000000   \n",
       "25%                       32.000000                     19.000000   \n",
       "50%                       87.000000                     69.000000   \n",
       "75%                      377.000000                    265.000000   \n",
       "max                    53301.000000                  48673.000000   \n",
       "\n",
       "       kumulativni_pocet_umrti  \n",
       "count             20097.000000  \n",
       "mean                  9.876549  \n",
       "std                  27.493207  \n",
       "min                   0.000000  \n",
       "25%                   0.000000  \n",
       "50%                   1.000000  \n",
       "75%                   6.000000  \n",
       "max                 626.000000  "
      ]
     },
     "execution_count": 4,
     "metadata": {},
     "output_type": "execute_result"
    }
   ],
   "source": [
    "kraj_okres.describe()"
   ]
  },
  {
   "cell_type": "markdown",
   "metadata": {},
   "source": [
    "Pomocou príkazu describe\n",
    "sme sa pozreli na jednotlive vlastnosti ako napr. priemer, štandartná odchylka, minimum, maximum, 25% kvantil, 50% a 75% kvantil.\n"
   ]
  },
  {
   "cell_type": "code",
   "execution_count": 5,
   "metadata": {
    "colab": {
     "base_uri": "https://localhost:8080/",
     "height": 173
    },
    "id": "25lSWLQx0IDi",
    "outputId": "58394f58-0020-4c8d-ec0a-5264a7f9fcdb"
   },
   "outputs": [
    {
     "data": {
      "text/html": [
       "<div>\n",
       "<style scoped>\n",
       "    .dataframe tbody tr th:only-of-type {\n",
       "        vertical-align: middle;\n",
       "    }\n",
       "\n",
       "    .dataframe tbody tr th {\n",
       "        vertical-align: top;\n",
       "    }\n",
       "\n",
       "    .dataframe thead th {\n",
       "        text-align: right;\n",
       "    }\n",
       "</style>\n",
       "<table border=\"1\" class=\"dataframe\">\n",
       "  <thead>\n",
       "    <tr style=\"text-align: right;\">\n",
       "      <th></th>\n",
       "      <th>datum</th>\n",
       "      <th>kraj_nuts_kod</th>\n",
       "      <th>okres_lau_kod</th>\n",
       "    </tr>\n",
       "  </thead>\n",
       "  <tbody>\n",
       "    <tr>\n",
       "      <th>count</th>\n",
       "      <td>20097</td>\n",
       "      <td>20097</td>\n",
       "      <td>20097</td>\n",
       "    </tr>\n",
       "    <tr>\n",
       "      <th>unique</th>\n",
       "      <td>261</td>\n",
       "      <td>14</td>\n",
       "      <td>77</td>\n",
       "    </tr>\n",
       "    <tr>\n",
       "      <th>top</th>\n",
       "      <td>2020-04-17</td>\n",
       "      <td>CZ020</td>\n",
       "      <td>CZ0805</td>\n",
       "    </tr>\n",
       "    <tr>\n",
       "      <th>freq</th>\n",
       "      <td>77</td>\n",
       "      <td>3132</td>\n",
       "      <td>261</td>\n",
       "    </tr>\n",
       "  </tbody>\n",
       "</table>\n",
       "</div>"
      ],
      "text/plain": [
       "             datum kraj_nuts_kod okres_lau_kod\n",
       "count        20097         20097         20097\n",
       "unique         261            14            77\n",
       "top     2020-04-17         CZ020        CZ0805\n",
       "freq            77          3132           261"
      ]
     },
     "execution_count": 5,
     "metadata": {},
     "output_type": "execute_result"
    }
   ],
   "source": [
    "kraj_okres.describe(include=['object'], exclude=['int64'])"
   ]
  },
  {
   "cell_type": "markdown",
   "metadata": {},
   "source": [
    "Pozrieme sa na počet jedinečných hodnôt.  Najčastejšie sa vyskytujúce hodnoty a ich počet"
   ]
  },
  {
   "cell_type": "code",
   "execution_count": 6,
   "metadata": {
    "colab": {
     "base_uri": "https://localhost:8080/"
    },
    "id": "0gGpNbv_3MGN",
    "outputId": "ad28c184-3a4e-46b3-eb55-d49da9b11266"
   },
   "outputs": [
    {
     "data": {
      "text/plain": [
       "datum                           0\n",
       "kraj_nuts_kod                   0\n",
       "okres_lau_kod                   0\n",
       "kumulativni_pocet_nakazenych    0\n",
       "kumulativni_pocet_vylecenych    0\n",
       "kumulativni_pocet_umrti         0\n",
       "dtype: int64"
      ]
     },
     "execution_count": 6,
     "metadata": {},
     "output_type": "execute_result"
    }
   ],
   "source": [
    "kraj_okres.isnull().sum()"
   ]
  },
  {
   "cell_type": "markdown",
   "metadata": {},
   "source": [
    "Skontrolujeme chýbajúce hodnoty pomocou príkazu isnull. Po zadaní príkazu môžeme vidieť, že nie sú žiadne chýbajúce hodnoty.\n"
   ]
  },
  {
   "cell_type": "code",
   "execution_count": 7,
   "metadata": {
    "colab": {
     "base_uri": "https://localhost:8080/"
    },
    "id": "HGCTzKX40T5E",
    "outputId": "4bbdb0b3-3b55-4a7e-9ee4-7f897f8f788d"
   },
   "outputs": [
    {
     "data": {
      "text/plain": [
       "array(['CZ010', 'CZ020', 'CZ031', 'CZ032', 'CZ041', 'CZ042', 'CZ051',\n",
       "       'CZ052', 'CZ053', 'CZ063', 'CZ064', 'CZ071', 'CZ072', 'CZ080'],\n",
       "      dtype=object)"
      ]
     },
     "execution_count": 7,
     "metadata": {},
     "output_type": "execute_result"
    }
   ],
   "source": [
    "kraj_okres['kraj_nuts_kod'].unique()"
   ]
  },
  {
   "cell_type": "markdown",
   "metadata": {},
   "source": [
    "Pozrieme sa, koľko jedinečných krajov sa nachádza v datasete.\n"
   ]
  },
  {
   "cell_type": "code",
   "execution_count": 8,
   "metadata": {
    "colab": {
     "base_uri": "https://localhost:8080/"
    },
    "id": "iZ_ty3KO0ePm",
    "outputId": "dbe4ec6f-005b-4e48-ac46-54addc5e8a84"
   },
   "outputs": [
    {
     "data": {
      "text/plain": [
       "CZ020    3132\n",
       "CZ042    1827\n",
       "CZ064    1827\n",
       "CZ031    1827\n",
       "CZ032    1827\n",
       "CZ080    1566\n",
       "CZ052    1305\n",
       "CZ063    1305\n",
       "CZ071    1305\n",
       "CZ051    1044\n",
       "CZ053    1044\n",
       "CZ072    1044\n",
       "CZ041     783\n",
       "CZ010     261\n",
       "Name: kraj_nuts_kod, dtype: int64"
      ]
     },
     "execution_count": 8,
     "metadata": {},
     "output_type": "execute_result"
    }
   ],
   "source": [
    "kraj_okres['kraj_nuts_kod'].value_counts()"
   ]
  },
  {
   "cell_type": "markdown",
   "metadata": {},
   "source": [
    "Následne zistíme zastúpenie jednotlivých krajov v datasete. Vidíme, že najčastejšie zastúpený je kraj s kódom CZ020 v počte 3132\n"
   ]
  },
  {
   "cell_type": "code",
   "execution_count": 9,
   "metadata": {
    "colab": {
     "base_uri": "https://localhost:8080/",
     "height": 311
    },
    "id": "1DRBxFGZ1MA9",
    "outputId": "92385fea-88d4-470e-e766-a066615d21e5"
   },
   "outputs": [
    {
     "data": {
      "text/plain": [
       "<matplotlib.axes._subplots.AxesSubplot at 0x2785b5c3880>"
      ]
     },
     "execution_count": 9,
     "metadata": {},
     "output_type": "execute_result"
    },
    {
     "data": {
      "image/png": "[encoded data removed]",
      "text/plain": [
       "<Figure size 432x288 with 1 Axes>"
      ]
     },
     "metadata": {
      "needs_background": "light"
     },
     "output_type": "display_data"
    }
   ],
   "source": [
    "kraj_okres['kraj_nuts_kod'].value_counts().plot.bar()"
   ]
  },
  {
   "cell_type": "markdown",
   "metadata": {},
   "source": [
    "Jednotlivé hodnoty si vyzualizujeme pomocou bar plotu, ktorý je pre toto zobrazenie asi najvhodnejší\n"
   ]
  },
  {
   "cell_type": "code",
   "execution_count": 10,
   "metadata": {
    "colab": {
     "base_uri": "https://localhost:8080/"
    },
    "id": "TrMOd8EA1jV_",
    "outputId": "6b31ff8e-f786-4bad-964e-0a9722e02784"
   },
   "outputs": [
    {
     "data": {
      "text/plain": [
       "array(['CZ0100', 'CZ020A', 'CZ020B', 'CZ020C', 'CZ0201', 'CZ0202',\n",
       "       'CZ0203', 'CZ0204', 'CZ0205', 'CZ0206', 'CZ0207', 'CZ0208',\n",
       "       'CZ0209', 'CZ0311', 'CZ0312', 'CZ0313', 'CZ0314', 'CZ0315',\n",
       "       'CZ0316', 'CZ0317', 'CZ0321', 'CZ0322', 'CZ0323', 'CZ0324',\n",
       "       'CZ0325', 'CZ0326', 'CZ0327', 'CZ0411', 'CZ0412', 'CZ0413',\n",
       "       'CZ0421', 'CZ0422', 'CZ0423', 'CZ0424', 'CZ0425', 'CZ0426',\n",
       "       'CZ0427', 'CZ0511', 'CZ0512', 'CZ0513', 'CZ0514', 'CZ0521',\n",
       "       'CZ0522', 'CZ0523', 'CZ0524', 'CZ0525', 'CZ0531', 'CZ0532',\n",
       "       'CZ0533', 'CZ0534', 'CZ0631', 'CZ0632', 'CZ0633', 'CZ0634',\n",
       "       'CZ0635', 'CZ0641', 'CZ0642', 'CZ0643', 'CZ0644', 'CZ0645',\n",
       "       'CZ0646', 'CZ0647', 'CZ0711', 'CZ0712', 'CZ0713', 'CZ0714',\n",
       "       'CZ0715', 'CZ0721', 'CZ0722', 'CZ0723', 'CZ0724', 'CZ0801',\n",
       "       'CZ0802', 'CZ0803', 'CZ0804', 'CZ0805', 'CZ0806'], dtype=object)"
      ]
     },
     "execution_count": 10,
     "metadata": {},
     "output_type": "execute_result"
    }
   ],
   "source": [
    "kraj_okres['okres_lau_kod'].unique()"
   ]
  },
  {
   "cell_type": "markdown",
   "metadata": {},
   "source": [
    "Pozrieme sa na unikátne záznamy jednotlivých okresov."
   ]
  },
  {
   "cell_type": "code",
   "execution_count": 11,
   "metadata": {
    "colab": {
     "base_uri": "https://localhost:8080/"
    },
    "id": "owA8PkEe1t_m",
    "outputId": "a5fd07ee-2806-4b9c-cf2a-8c6b36fef979"
   },
   "outputs": [
    {
     "data": {
      "text/plain": [
       "CZ0805    261\n",
       "CZ020C    261\n",
       "CZ0427    261\n",
       "CZ0522    261\n",
       "CZ0315    261\n",
       "         ... \n",
       "CZ0513    261\n",
       "CZ0314    261\n",
       "CZ0723    261\n",
       "CZ0642    261\n",
       "CZ0531    261\n",
       "Name: okres_lau_kod, Length: 77, dtype: int64"
      ]
     },
     "execution_count": 11,
     "metadata": {},
     "output_type": "execute_result"
    }
   ],
   "source": [
    "kraj_okres['okres_lau_kod'].value_counts()"
   ]
  },
  {
   "cell_type": "markdown",
   "metadata": {},
   "source": [
    "Vypíšeme si počty záznamov pre jednotlivé okresy. Môžeme si všimnúť, že v datasete sa nachádza 77 okresov.\n"
   ]
  },
  {
   "cell_type": "code",
   "execution_count": 12,
   "metadata": {
    "colab": {
     "base_uri": "https://localhost:8080/"
    },
    "id": "XABuegGD10NJ",
    "outputId": "d59be977-ce02-4961-f545-04da2cfab9d9"
   },
   "outputs": [
    {
     "data": {
      "text/plain": [
       "datum\n",
       "2020-03-01         3\n",
       "2020-03-02         3\n",
       "2020-03-03         4\n",
       "2020-03-04         4\n",
       "2020-03-05         7\n",
       "               ...  \n",
       "2020-11-12    434875\n",
       "2020-11-13    442191\n",
       "2020-11-14    446368\n",
       "2020-11-15    448246\n",
       "2020-11-16    453569\n",
       "Name: kumulativni_pocet_nakazenych, Length: 261, dtype: int64"
      ]
     },
     "execution_count": 12,
     "metadata": {},
     "output_type": "execute_result"
    }
   ],
   "source": [
    "nakazeny_dokopy = kraj_okres.groupby('datum')['kumulativni_pocet_nakazenych'].sum()\n",
    "nakazeny_dokopy"
   ]
  },
  {
   "cell_type": "markdown",
   "metadata": {},
   "source": [
    "Vytvoríme si zoznam počtu nakazených ľudí pre jednotlivé dni, údaje pre jednotlivé dni zoskupíme pomocou príkazu groupby\n"
   ]
  },
  {
   "cell_type": "code",
   "execution_count": 13,
   "metadata": {
    "colab": {
     "base_uri": "https://localhost:8080/"
    },
    "id": "kvH8OwZg95Ge",
    "outputId": "613cbbdc-0f9f-48b7-fd85-e28c5376904b"
   },
   "outputs": [
    {
     "data": {
      "text/plain": [
       "datum\n",
       "2020-03-01         0\n",
       "2020-03-02         0\n",
       "2020-03-03         0\n",
       "2020-03-04         0\n",
       "2020-03-05         0\n",
       "               ...  \n",
       "2020-11-12    343052\n",
       "2020-11-13    356157\n",
       "2020-11-14    368068\n",
       "2020-11-15    379220\n",
       "2020-11-16    389182\n",
       "Name: kumulativni_pocet_vylecenych, Length: 261, dtype: int64"
      ]
     },
     "execution_count": 13,
     "metadata": {},
     "output_type": "execute_result"
    }
   ],
   "source": [
    "vylieceny_dokopy = kraj_okres.groupby('datum')['kumulativni_pocet_vylecenych'].sum()\n",
    "vylieceny_dokopy"
   ]
  },
  {
   "cell_type": "markdown",
   "metadata": {},
   "source": [
    "Rovnako si vypíšeme aj počet vyliečených, pre jednotlivé dni"
   ]
  },
  {
   "cell_type": "code",
   "execution_count": 14,
   "metadata": {
    "colab": {
     "base_uri": "https://localhost:8080/"
    },
    "id": "tqbbUalY-PTQ",
    "outputId": "4f9b79c7-f567-4cbd-9094-2beb96839ea7"
   },
   "outputs": [
    {
     "data": {
      "text/plain": [
       "datum\n",
       "2020-03-01       0\n",
       "2020-03-02       0\n",
       "2020-03-03       0\n",
       "2020-03-04       0\n",
       "2020-03-05       0\n",
       "              ... \n",
       "2020-11-12    5948\n",
       "2020-11-13    6122\n",
       "2020-11-14    6299\n",
       "2020-11-15    6446\n",
       "2020-11-16    6603\n",
       "Name: kumulativni_pocet_umrti, Length: 261, dtype: int64"
      ]
     },
     "execution_count": 14,
     "metadata": {},
     "output_type": "execute_result"
    }
   ],
   "source": [
    "umrti_dokopy = kraj_okres.groupby('datum')['kumulativni_pocet_umrti'].sum()\n",
    "umrti_dokopy"
   ]
  },
  {
   "cell_type": "markdown",
   "metadata": {},
   "source": [
    "Tak isto vypočítame aj počet úmrti, prislúchajúci danému dňu."
   ]
  },
  {
   "cell_type": "code",
   "execution_count": 15,
   "metadata": {
    "colab": {
     "base_uri": "https://localhost:8080/",
     "height": 978
    },
    "id": "is1g6qX_476p",
    "outputId": "3f0a3b5b-57f8-4f1d-9dab-d54bfa33df5f"
   },
   "outputs": [
    {
     "data": {
      "image/png": "[encoded data removed]",
      "text/plain": [
       "<Figure size 3600x2880 with 1 Axes>"
      ]
     },
     "metadata": {
      "needs_background": "light"
     },
     "output_type": "display_data"
    }
   ],
   "source": [
    "plt.figure(figsize=(50, 40))\n",
    "lineplot = sns.lineplot(data=[nakazeny_dokopy, vylieceny_dokopy, umrti_dokopy])\n",
    "for item in lineplot.get_xticklabels():\n",
    "    item.set_rotation(90)"
   ]
  },
  {
   "cell_type": "markdown",
   "metadata": {},
   "source": [
    "Vykreslíme si graf, ktorí nám zobrazí jednotlivé počty vyliečených, nakazených a zomrelých pre jednotlivé dni.\n"
   ]
  },
  {
   "cell_type": "code",
   "execution_count": 16,
   "metadata": {
    "colab": {
     "base_uri": "https://localhost:8080/",
     "height": 204
    },
    "id": "bQ7GlADU5gWN",
    "outputId": "73a60415-a1cb-44dc-aff0-e1a097d04e03"
   },
   "outputs": [
    {
     "data": {
      "text/html": [
       "<div>\n",
       "<style scoped>\n",
       "    .dataframe tbody tr th:only-of-type {\n",
       "        vertical-align: middle;\n",
       "    }\n",
       "\n",
       "    .dataframe tbody tr th {\n",
       "        vertical-align: top;\n",
       "    }\n",
       "\n",
       "    .dataframe thead th {\n",
       "        text-align: right;\n",
       "    }\n",
       "</style>\n",
       "<table border=\"1\" class=\"dataframe\">\n",
       "  <thead>\n",
       "    <tr style=\"text-align: right;\">\n",
       "      <th></th>\n",
       "      <th>datum</th>\n",
       "      <th>vek</th>\n",
       "      <th>pohlavi</th>\n",
       "      <th>kraj_nuts_kod</th>\n",
       "      <th>okres_lau_kod</th>\n",
       "      <th>nakaza_v_zahranici</th>\n",
       "      <th>nakaza_zeme_csu_kod</th>\n",
       "    </tr>\n",
       "  </thead>\n",
       "  <tbody>\n",
       "    <tr>\n",
       "      <th>0</th>\n",
       "      <td>2020-10-21</td>\n",
       "      <td>43</td>\n",
       "      <td>M</td>\n",
       "      <td>CZ010</td>\n",
       "      <td>CZ0100</td>\n",
       "      <td>NaN</td>\n",
       "      <td>NaN</td>\n",
       "    </tr>\n",
       "    <tr>\n",
       "      <th>1</th>\n",
       "      <td>2020-10-05</td>\n",
       "      <td>27</td>\n",
       "      <td>M</td>\n",
       "      <td>CZ010</td>\n",
       "      <td>CZ0100</td>\n",
       "      <td>NaN</td>\n",
       "      <td>NaN</td>\n",
       "    </tr>\n",
       "    <tr>\n",
       "      <th>2</th>\n",
       "      <td>2020-10-13</td>\n",
       "      <td>55</td>\n",
       "      <td>Z</td>\n",
       "      <td>CZ053</td>\n",
       "      <td>CZ0533</td>\n",
       "      <td>NaN</td>\n",
       "      <td>NaN</td>\n",
       "    </tr>\n",
       "    <tr>\n",
       "      <th>3</th>\n",
       "      <td>2020-10-22</td>\n",
       "      <td>40</td>\n",
       "      <td>M</td>\n",
       "      <td>CZ063</td>\n",
       "      <td>CZ0634</td>\n",
       "      <td>NaN</td>\n",
       "      <td>NaN</td>\n",
       "    </tr>\n",
       "    <tr>\n",
       "      <th>4</th>\n",
       "      <td>2020-10-26</td>\n",
       "      <td>46</td>\n",
       "      <td>M</td>\n",
       "      <td>CZ063</td>\n",
       "      <td>CZ0635</td>\n",
       "      <td>NaN</td>\n",
       "      <td>NaN</td>\n",
       "    </tr>\n",
       "  </tbody>\n",
       "</table>\n",
       "</div>"
      ],
      "text/plain": [
       "        datum  vek pohlavi kraj_nuts_kod okres_lau_kod  nakaza_v_zahranici  \\\n",
       "0  2020-10-21   43       M         CZ010        CZ0100                 NaN   \n",
       "1  2020-10-05   27       M         CZ010        CZ0100                 NaN   \n",
       "2  2020-10-13   55       Z         CZ053        CZ0533                 NaN   \n",
       "3  2020-10-22   40       M         CZ063        CZ0634                 NaN   \n",
       "4  2020-10-26   46       M         CZ063        CZ0635                 NaN   \n",
       "\n",
       "  nakaza_zeme_csu_kod  \n",
       "0                 NaN  \n",
       "1                 NaN  \n",
       "2                 NaN  \n",
       "3                 NaN  \n",
       "4                 NaN  "
      ]
     },
     "execution_count": 16,
     "metadata": {},
     "output_type": "execute_result"
    }
   ],
   "source": [
    "osoby = pd.read_csv('covid_cz/osoby.csv')\n",
    "osoby.head()"
   ]
  },
  {
   "cell_type": "markdown",
   "metadata": {},
   "source": [
    "Chceme sa pozrieť ako vyzerá dataset osoby. Pomocou príkazu head zobrazíme prvých 5 záznamov.\n"
   ]
  },
  {
   "cell_type": "code",
   "execution_count": 17,
   "metadata": {
    "colab": {
     "base_uri": "https://localhost:8080/"
    },
    "id": "3aN1V1hu_AJP",
    "outputId": "f5b0e6a2-08e3-4337-a080-bd9e71fd06c6"
   },
   "outputs": [
    {
     "name": "stdout",
     "output_type": "stream",
     "text": [
      "<class 'pandas.core.frame.DataFrame'>\n",
      "RangeIndex: 487519 entries, 0 to 487518\n",
      "Data columns (total 7 columns):\n",
      " #   Column               Non-Null Count   Dtype  \n",
      "---  ------               --------------   -----  \n",
      " 0   datum                487519 non-null  object \n",
      " 1   vek                  487519 non-null  int64  \n",
      " 2   pohlavi              487519 non-null  object \n",
      " 3   kraj_nuts_kod        487519 non-null  object \n",
      " 4   okres_lau_kod        487519 non-null  object \n",
      " 5   nakaza_v_zahranici   5658 non-null    float64\n",
      " 6   nakaza_zeme_csu_kod  5661 non-null    object \n",
      "dtypes: float64(1), int64(1), object(5)\n",
      "memory usage: 26.0+ MB\n"
     ]
    }
   ],
   "source": [
    "osoby.info()"
   ]
  },
  {
   "cell_type": "markdown",
   "metadata": {},
   "source": [
    "Zobrazíme si informácie o datasete, pomocou príkazu info. Vidíme, že atribúty datum, pohlavi, kraj_nuts_kod, okres_lau_kod, nakaza_zeme_csu_kod sú typu object. Atribút vek je typu int a atribút nakaza_v_zahranici je typu float.\n"
   ]
  },
  {
   "cell_type": "code",
   "execution_count": 18,
   "metadata": {
    "colab": {
     "base_uri": "https://localhost:8080/",
     "height": 297
    },
    "id": "4fyQ1SvB_Xlw",
    "outputId": "55a7650c-4d0b-4e7e-bde9-b37bf6caf9f0"
   },
   "outputs": [
    {
     "data": {
      "text/html": [
       "<div>\n",
       "<style scoped>\n",
       "    .dataframe tbody tr th:only-of-type {\n",
       "        vertical-align: middle;\n",
       "    }\n",
       "\n",
       "    .dataframe tbody tr th {\n",
       "        vertical-align: top;\n",
       "    }\n",
       "\n",
       "    .dataframe thead th {\n",
       "        text-align: right;\n",
       "    }\n",
       "</style>\n",
       "<table border=\"1\" class=\"dataframe\">\n",
       "  <thead>\n",
       "    <tr style=\"text-align: right;\">\n",
       "      <th></th>\n",
       "      <th>vek</th>\n",
       "      <th>nakaza_v_zahranici</th>\n",
       "    </tr>\n",
       "  </thead>\n",
       "  <tbody>\n",
       "    <tr>\n",
       "      <th>count</th>\n",
       "      <td>487519.000000</td>\n",
       "      <td>5658.0</td>\n",
       "    </tr>\n",
       "    <tr>\n",
       "      <th>mean</th>\n",
       "      <td>43.834015</td>\n",
       "      <td>1.0</td>\n",
       "    </tr>\n",
       "    <tr>\n",
       "      <th>std</th>\n",
       "      <td>20.301954</td>\n",
       "      <td>0.0</td>\n",
       "    </tr>\n",
       "    <tr>\n",
       "      <th>min</th>\n",
       "      <td>0.000000</td>\n",
       "      <td>1.0</td>\n",
       "    </tr>\n",
       "    <tr>\n",
       "      <th>25%</th>\n",
       "      <td>29.000000</td>\n",
       "      <td>1.0</td>\n",
       "    </tr>\n",
       "    <tr>\n",
       "      <th>50%</th>\n",
       "      <td>44.000000</td>\n",
       "      <td>1.0</td>\n",
       "    </tr>\n",
       "    <tr>\n",
       "      <th>75%</th>\n",
       "      <td>57.000000</td>\n",
       "      <td>1.0</td>\n",
       "    </tr>\n",
       "    <tr>\n",
       "      <th>max</th>\n",
       "      <td>120.000000</td>\n",
       "      <td>1.0</td>\n",
       "    </tr>\n",
       "  </tbody>\n",
       "</table>\n",
       "</div>"
      ],
      "text/plain": [
       "                 vek  nakaza_v_zahranici\n",
       "count  487519.000000              5658.0\n",
       "mean       43.834015                 1.0\n",
       "std        20.301954                 0.0\n",
       "min         0.000000                 1.0\n",
       "25%        29.000000                 1.0\n",
       "50%        44.000000                 1.0\n",
       "75%        57.000000                 1.0\n",
       "max       120.000000                 1.0"
      ]
     },
     "execution_count": 18,
     "metadata": {},
     "output_type": "execute_result"
    }
   ],
   "source": [
    "osoby.describe()"
   ]
  },
  {
   "cell_type": "markdown",
   "metadata": {},
   "source": [
    "Pre podrobnejsie štatistiky zavoláme príkaz describe, kde sa pozrieme na medián, počet, priemer…\n"
   ]
  },
  {
   "cell_type": "code",
   "execution_count": 19,
   "metadata": {
    "colab": {
     "base_uri": "https://localhost:8080/",
     "height": 173
    },
    "id": "SC6iVp5D_aFP",
    "outputId": "a709129b-7684-461e-ea9d-9cc78301514c"
   },
   "outputs": [
    {
     "data": {
      "text/html": [
       "<div>\n",
       "<style scoped>\n",
       "    .dataframe tbody tr th:only-of-type {\n",
       "        vertical-align: middle;\n",
       "    }\n",
       "\n",
       "    .dataframe tbody tr th {\n",
       "        vertical-align: top;\n",
       "    }\n",
       "\n",
       "    .dataframe thead th {\n",
       "        text-align: right;\n",
       "    }\n",
       "</style>\n",
       "<table border=\"1\" class=\"dataframe\">\n",
       "  <thead>\n",
       "    <tr style=\"text-align: right;\">\n",
       "      <th></th>\n",
       "      <th>datum</th>\n",
       "      <th>pohlavi</th>\n",
       "      <th>kraj_nuts_kod</th>\n",
       "      <th>okres_lau_kod</th>\n",
       "      <th>nakaza_zeme_csu_kod</th>\n",
       "    </tr>\n",
       "  </thead>\n",
       "  <tbody>\n",
       "    <tr>\n",
       "      <th>count</th>\n",
       "      <td>487519</td>\n",
       "      <td>487519</td>\n",
       "      <td>487519</td>\n",
       "      <td>487519</td>\n",
       "      <td>5661</td>\n",
       "    </tr>\n",
       "    <tr>\n",
       "      <th>unique</th>\n",
       "      <td>267</td>\n",
       "      <td>2</td>\n",
       "      <td>15</td>\n",
       "      <td>78</td>\n",
       "      <td>101</td>\n",
       "    </tr>\n",
       "    <tr>\n",
       "      <th>top</th>\n",
       "      <td>2020-11-04</td>\n",
       "      <td>Z</td>\n",
       "      <td>CZ020</td>\n",
       "      <td>CZ0100</td>\n",
       "      <td>UA</td>\n",
       "    </tr>\n",
       "    <tr>\n",
       "      <th>freq</th>\n",
       "      <td>15632</td>\n",
       "      <td>255135</td>\n",
       "      <td>62390</td>\n",
       "      <td>55860</td>\n",
       "      <td>1516</td>\n",
       "    </tr>\n",
       "  </tbody>\n",
       "</table>\n",
       "</div>"
      ],
      "text/plain": [
       "             datum pohlavi kraj_nuts_kod okres_lau_kod nakaza_zeme_csu_kod\n",
       "count       487519  487519        487519        487519                5661\n",
       "unique         267       2            15            78                 101\n",
       "top     2020-11-04       Z         CZ020        CZ0100                  UA\n",
       "freq         15632  255135         62390         55860                1516"
      ]
     },
     "execution_count": 19,
     "metadata": {},
     "output_type": "execute_result"
    }
   ],
   "source": [
    "osoby.describe(include=['object'], exclude=['int64', 'float64'])"
   ]
  },
  {
   "cell_type": "markdown",
   "metadata": {},
   "source": [
    "Pozrieme sa na počet unikátnych hodnôt a zistíme, ktoré sú najčastejšie sa vyskutujúce hodnoty a ich počet.\n"
   ]
  },
  {
   "cell_type": "code",
   "execution_count": 20,
   "metadata": {
    "colab": {
     "base_uri": "https://localhost:8080/"
    },
    "id": "a8659Nyu_oSk",
    "outputId": "c6d1301e-53a9-4a79-b4b1-d9130fc111e7"
   },
   "outputs": [
    {
     "data": {
      "text/plain": [
       "datum                       0\n",
       "vek                         0\n",
       "pohlavi                     0\n",
       "kraj_nuts_kod               0\n",
       "okres_lau_kod               0\n",
       "nakaza_v_zahranici     481861\n",
       "nakaza_zeme_csu_kod    481858\n",
       "dtype: int64"
      ]
     },
     "execution_count": 20,
     "metadata": {},
     "output_type": "execute_result"
    }
   ],
   "source": [
    "osoby.isnull().sum()"
   ]
  },
  {
   "cell_type": "markdown",
   "metadata": {},
   "source": [
    "Pozrieme sa na počet chýbajúcich hodnôt v tomto datasete. Môžeme vidieť, že pri atribúte nakaza_v_zahranici chýba 481861 a pri atribúte nakaza_zeme_csu_kod chýba 481858 hodnôt.\n"
   ]
  },
  {
   "cell_type": "code",
   "execution_count": 21,
   "metadata": {
    "colab": {
     "base_uri": "https://localhost:8080/",
     "height": 204
    },
    "id": "AmQzbwMq_t01",
    "outputId": "1c20ab00-4376-4c46-d3a1-a77db129a97d"
   },
   "outputs": [
    {
     "data": {
      "text/html": [
       "<div>\n",
       "<style scoped>\n",
       "    .dataframe tbody tr th:only-of-type {\n",
       "        vertical-align: middle;\n",
       "    }\n",
       "\n",
       "    .dataframe tbody tr th {\n",
       "        vertical-align: top;\n",
       "    }\n",
       "\n",
       "    .dataframe thead th {\n",
       "        text-align: right;\n",
       "    }\n",
       "</style>\n",
       "<table border=\"1\" class=\"dataframe\">\n",
       "  <thead>\n",
       "    <tr style=\"text-align: right;\">\n",
       "      <th></th>\n",
       "      <th>datum</th>\n",
       "      <th>vek</th>\n",
       "      <th>pohlavi</th>\n",
       "      <th>kraj_nuts_kod</th>\n",
       "      <th>okres_lau_kod</th>\n",
       "    </tr>\n",
       "  </thead>\n",
       "  <tbody>\n",
       "    <tr>\n",
       "      <th>0</th>\n",
       "      <td>2020-10-21</td>\n",
       "      <td>43</td>\n",
       "      <td>M</td>\n",
       "      <td>CZ010</td>\n",
       "      <td>CZ0100</td>\n",
       "    </tr>\n",
       "    <tr>\n",
       "      <th>1</th>\n",
       "      <td>2020-10-05</td>\n",
       "      <td>27</td>\n",
       "      <td>M</td>\n",
       "      <td>CZ010</td>\n",
       "      <td>CZ0100</td>\n",
       "    </tr>\n",
       "    <tr>\n",
       "      <th>2</th>\n",
       "      <td>2020-10-13</td>\n",
       "      <td>55</td>\n",
       "      <td>Z</td>\n",
       "      <td>CZ053</td>\n",
       "      <td>CZ0533</td>\n",
       "    </tr>\n",
       "    <tr>\n",
       "      <th>3</th>\n",
       "      <td>2020-10-22</td>\n",
       "      <td>40</td>\n",
       "      <td>M</td>\n",
       "      <td>CZ063</td>\n",
       "      <td>CZ0634</td>\n",
       "    </tr>\n",
       "    <tr>\n",
       "      <th>4</th>\n",
       "      <td>2020-10-26</td>\n",
       "      <td>46</td>\n",
       "      <td>M</td>\n",
       "      <td>CZ063</td>\n",
       "      <td>CZ0635</td>\n",
       "    </tr>\n",
       "  </tbody>\n",
       "</table>\n",
       "</div>"
      ],
      "text/plain": [
       "        datum  vek pohlavi kraj_nuts_kod okres_lau_kod\n",
       "0  2020-10-21   43       M         CZ010        CZ0100\n",
       "1  2020-10-05   27       M         CZ010        CZ0100\n",
       "2  2020-10-13   55       Z         CZ053        CZ0533\n",
       "3  2020-10-22   40       M         CZ063        CZ0634\n",
       "4  2020-10-26   46       M         CZ063        CZ0635"
      ]
     },
     "execution_count": 21,
     "metadata": {},
     "output_type": "execute_result"
    }
   ],
   "source": [
    "osoby.drop(columns=['nakaza_v_zahranici', 'nakaza_zeme_csu_kod'], inplace=True)\n",
    "osoby.head()"
   ]
  },
  {
   "cell_type": "markdown",
   "metadata": {},
   "source": [
    "Odstránime tieto záznami z datasetu, nakoľko tieto atribúty sú pre prácu so získaným datasetom zbytočné.\n"
   ]
  },
  {
   "cell_type": "code",
   "execution_count": 22,
   "metadata": {
    "colab": {
     "base_uri": "https://localhost:8080/",
     "height": 285
    },
    "id": "gbTXW7fo_-3B",
    "outputId": "5a40cd43-032e-46ef-b8d5-1b7e527e3219"
   },
   "outputs": [
    {
     "data": {
      "text/plain": [
       "<matplotlib.axes._subplots.AxesSubplot at 0x2785b8c9970>"
      ]
     },
     "execution_count": 22,
     "metadata": {},
     "output_type": "execute_result"
    },
    {
     "data": {
      "image/png": "[encoded data removed]",
      "text/plain": [
       "<Figure size 432x288 with 1 Axes>"
      ]
     },
     "metadata": {
      "needs_background": "light"
     },
     "output_type": "display_data"
    }
   ],
   "source": [
    "sns.boxplot(data=osoby['vek'], orient='h')"
   ]
  },
  {
   "cell_type": "markdown",
   "metadata": {},
   "source": [
    "Pomocou boxplotu sa pozrieme na vek nakazených ľudí. Môžeme vidieť, že v súbore údajov budú aj nejaký outlyeri, nakoľko je tu dosť ľudí starších ako 100 rokov.\n"
   ]
  },
  {
   "cell_type": "code",
   "execution_count": 23,
   "metadata": {
    "colab": {
     "base_uri": "https://localhost:8080/"
    },
    "id": "dANrLzOCAG_6",
    "outputId": "f5981652-39b1-4837-9216-cdeea2134656"
   },
   "outputs": [
    {
     "data": {
      "text/plain": [
       "Z    255135\n",
       "M    232384\n",
       "Name: pohlavi, dtype: int64"
      ]
     },
     "execution_count": 23,
     "metadata": {},
     "output_type": "execute_result"
    }
   ],
   "source": [
    "osoby['pohlavi'].value_counts()"
   ]
  },
  {
   "cell_type": "markdown",
   "metadata": {},
   "source": [
    "Pozrieme sa na zaskúpenie mužov a žien v datasete"
   ]
  },
  {
   "cell_type": "code",
   "execution_count": 24,
   "metadata": {
    "colab": {
     "base_uri": "https://localhost:8080/",
     "height": 284
    },
    "id": "DhdyjWlCApgg",
    "outputId": "231a4650-bae3-492b-8f2f-f7eb225879bc"
   },
   "outputs": [
    {
     "data": {
      "text/plain": [
       "<matplotlib.axes._subplots.AxesSubplot at 0x2785b6c1790>"
      ]
     },
     "execution_count": 24,
     "metadata": {},
     "output_type": "execute_result"
    },
    {
     "data": {
      "image/png": "[encoded data removed]",
      "text/plain": [
       "<Figure size 432x288 with 1 Axes>"
      ]
     },
     "metadata": {
      "needs_background": "light"
     },
     "output_type": "display_data"
    }
   ],
   "source": [
    "osoby['pohlavi'].value_counts().plot.bar()"
   ]
  },
  {
   "cell_type": "markdown",
   "metadata": {},
   "source": [
    "Následne si pre lepšie porovnanie tieto počty vyzualizujeme."
   ]
  },
  {
   "cell_type": "code",
   "execution_count": 25,
   "metadata": {
    "colab": {
     "base_uri": "https://localhost:8080/",
     "height": 628
    },
    "id": "UxukbWwAAwXu",
    "outputId": "3ac69799-9b62-4066-e90b-23f4727d6ee3"
   },
   "outputs": [
    {
     "data": {
      "text/plain": [
       "<matplotlib.axes._subplots.AxesSubplot at 0x2785e7c7a30>"
      ]
     },
     "execution_count": 25,
     "metadata": {},
     "output_type": "execute_result"
    },
    {
     "data": {
      "image/png": "[encoded data removed]",
      "text/plain": [
       "<Figure size 1440x720 with 1 Axes>"
      ]
     },
     "metadata": {
      "needs_background": "light"
     },
     "output_type": "display_data"
    }
   ],
   "source": [
    "plt.figure(figsize=(20, 10))\n",
    "sns.boxplot(x=osoby['pohlavi'], y=osoby['vek'])"
   ]
  },
  {
   "cell_type": "markdown",
   "metadata": {},
   "source": [
    "pozrieme sa aké máme vekové zaskúpenie pre jednotlivé pohlavia, vidíme, že medián je pri mužoch na nižšej hodnote, teda vzorka žien bola o niečo staršia.\n"
   ]
  },
  {
   "cell_type": "code",
   "execution_count": 26,
   "metadata": {
    "colab": {
     "base_uri": "https://localhost:8080/",
     "height": 204
    },
    "id": "XPB3eaYQBTeo",
    "outputId": "25ff1aa2-9c60-4d5d-f025-29c75befcb48"
   },
   "outputs": [
    {
     "data": {
      "text/html": [
       "<div>\n",
       "<style scoped>\n",
       "    .dataframe tbody tr th:only-of-type {\n",
       "        vertical-align: middle;\n",
       "    }\n",
       "\n",
       "    .dataframe tbody tr th {\n",
       "        vertical-align: top;\n",
       "    }\n",
       "\n",
       "    .dataframe thead th {\n",
       "        text-align: right;\n",
       "    }\n",
       "</style>\n",
       "<table border=\"1\" class=\"dataframe\">\n",
       "  <thead>\n",
       "    <tr style=\"text-align: right;\">\n",
       "      <th></th>\n",
       "      <th>datum</th>\n",
       "      <th>vek</th>\n",
       "      <th>pohlavi</th>\n",
       "      <th>kraj_nuts_kod</th>\n",
       "      <th>okres_lau_kod</th>\n",
       "    </tr>\n",
       "  </thead>\n",
       "  <tbody>\n",
       "    <tr>\n",
       "      <th>0</th>\n",
       "      <td>2019-10-23</td>\n",
       "      <td>43</td>\n",
       "      <td>Z</td>\n",
       "      <td>CZ032</td>\n",
       "      <td>CZ0325</td>\n",
       "    </tr>\n",
       "    <tr>\n",
       "      <th>1</th>\n",
       "      <td>2020-03-14</td>\n",
       "      <td>39</td>\n",
       "      <td>Z</td>\n",
       "      <td>CZ020</td>\n",
       "      <td>CZ020A</td>\n",
       "    </tr>\n",
       "    <tr>\n",
       "      <th>2</th>\n",
       "      <td>2020-03-15</td>\n",
       "      <td>21</td>\n",
       "      <td>Z</td>\n",
       "      <td>CZ010</td>\n",
       "      <td>CZ0100</td>\n",
       "    </tr>\n",
       "    <tr>\n",
       "      <th>3</th>\n",
       "      <td>2020-03-15</td>\n",
       "      <td>49</td>\n",
       "      <td>M</td>\n",
       "      <td>CZ042</td>\n",
       "      <td>CZ0421</td>\n",
       "    </tr>\n",
       "    <tr>\n",
       "      <th>4</th>\n",
       "      <td>2020-03-15</td>\n",
       "      <td>18</td>\n",
       "      <td>Z</td>\n",
       "      <td>CZ042</td>\n",
       "      <td>CZ0421</td>\n",
       "    </tr>\n",
       "  </tbody>\n",
       "</table>\n",
       "</div>"
      ],
      "text/plain": [
       "        datum  vek pohlavi kraj_nuts_kod okres_lau_kod\n",
       "0  2019-10-23   43       Z         CZ032        CZ0325\n",
       "1  2020-03-14   39       Z         CZ020        CZ020A\n",
       "2  2020-03-15   21       Z         CZ010        CZ0100\n",
       "3  2020-03-15   49       M         CZ042        CZ0421\n",
       "4  2020-03-15   18       Z         CZ042        CZ0421"
      ]
     },
     "execution_count": 26,
     "metadata": {},
     "output_type": "execute_result"
    }
   ],
   "source": [
    "vylieceny = pd.read_csv('covid_cz/vyleceni.csv')\n",
    "vylieceny.head()"
   ]
  },
  {
   "cell_type": "markdown",
   "metadata": {},
   "source": [
    "Načítame si dataset vyliečených ľudí."
   ]
  },
  {
   "cell_type": "code",
   "execution_count": 27,
   "metadata": {
    "colab": {
     "base_uri": "https://localhost:8080/"
    },
    "id": "Ygpo2QgUBtaQ",
    "outputId": "f580e37b-33b2-4ef8-e123-5980667e7aa8"
   },
   "outputs": [
    {
     "name": "stdout",
     "output_type": "stream",
     "text": [
      "<class 'pandas.core.frame.DataFrame'>\n",
      "RangeIndex: 353770 entries, 0 to 353769\n",
      "Data columns (total 5 columns):\n",
      " #   Column         Non-Null Count   Dtype \n",
      "---  ------         --------------   ----- \n",
      " 0   datum          353770 non-null  object\n",
      " 1   vek            353770 non-null  int64 \n",
      " 2   pohlavi        353770 non-null  object\n",
      " 3   kraj_nuts_kod  353770 non-null  object\n",
      " 4   okres_lau_kod  353770 non-null  object\n",
      "dtypes: int64(1), object(4)\n",
      "memory usage: 13.5+ MB\n"
     ]
    }
   ],
   "source": [
    "vylieceny.info()"
   ]
  },
  {
   "cell_type": "markdown",
   "metadata": {},
   "source": [
    "Pozrieme sa na základné informácie, vidíme že atribúty datum, pohlavi, kraj_nuts_kod, okres_lau_kod sú typu object, atribút vek je typu int.\n"
   ]
  },
  {
   "cell_type": "code",
   "execution_count": 28,
   "metadata": {
    "colab": {
     "base_uri": "https://localhost:8080/",
     "height": 297
    },
    "id": "oVmfKaKpB9Gh",
    "outputId": "55895fc8-8ddf-4475-e13e-3c1ffac0ea39"
   },
   "outputs": [
    {
     "data": {
      "text/html": [
       "<div>\n",
       "<style scoped>\n",
       "    .dataframe tbody tr th:only-of-type {\n",
       "        vertical-align: middle;\n",
       "    }\n",
       "\n",
       "    .dataframe tbody tr th {\n",
       "        vertical-align: top;\n",
       "    }\n",
       "\n",
       "    .dataframe thead th {\n",
       "        text-align: right;\n",
       "    }\n",
       "</style>\n",
       "<table border=\"1\" class=\"dataframe\">\n",
       "  <thead>\n",
       "    <tr style=\"text-align: right;\">\n",
       "      <th></th>\n",
       "      <th>vek</th>\n",
       "    </tr>\n",
       "  </thead>\n",
       "  <tbody>\n",
       "    <tr>\n",
       "      <th>count</th>\n",
       "      <td>353770.000000</td>\n",
       "    </tr>\n",
       "    <tr>\n",
       "      <th>mean</th>\n",
       "      <td>42.322679</td>\n",
       "    </tr>\n",
       "    <tr>\n",
       "      <th>std</th>\n",
       "      <td>19.334061</td>\n",
       "    </tr>\n",
       "    <tr>\n",
       "      <th>min</th>\n",
       "      <td>0.000000</td>\n",
       "    </tr>\n",
       "    <tr>\n",
       "      <th>25%</th>\n",
       "      <td>28.000000</td>\n",
       "    </tr>\n",
       "    <tr>\n",
       "      <th>50%</th>\n",
       "      <td>43.000000</td>\n",
       "    </tr>\n",
       "    <tr>\n",
       "      <th>75%</th>\n",
       "      <td>55.000000</td>\n",
       "    </tr>\n",
       "    <tr>\n",
       "      <th>max</th>\n",
       "      <td>220.000000</td>\n",
       "    </tr>\n",
       "  </tbody>\n",
       "</table>\n",
       "</div>"
      ],
      "text/plain": [
       "                 vek\n",
       "count  353770.000000\n",
       "mean       42.322679\n",
       "std        19.334061\n",
       "min         0.000000\n",
       "25%        28.000000\n",
       "50%        43.000000\n",
       "75%        55.000000\n",
       "max       220.000000"
      ]
     },
     "execution_count": 28,
     "metadata": {},
     "output_type": "execute_result"
    }
   ],
   "source": [
    "vylieceny.describe()"
   ]
  },
  {
   "cell_type": "markdown",
   "metadata": {},
   "source": [
    "Zobrazíme si základne štatistiky - priemer, medián, kvartily a počet."
   ]
  },
  {
   "cell_type": "code",
   "execution_count": 29,
   "metadata": {
    "colab": {
     "base_uri": "https://localhost:8080/",
     "height": 173
    },
    "id": "5n9rkyE8CBUe",
    "outputId": "fc72453d-8ebe-4b23-a37f-b54fd93a7007"
   },
   "outputs": [
    {
     "data": {
      "text/html": [
       "<div>\n",
       "<style scoped>\n",
       "    .dataframe tbody tr th:only-of-type {\n",
       "        vertical-align: middle;\n",
       "    }\n",
       "\n",
       "    .dataframe tbody tr th {\n",
       "        vertical-align: top;\n",
       "    }\n",
       "\n",
       "    .dataframe thead th {\n",
       "        text-align: right;\n",
       "    }\n",
       "</style>\n",
       "<table border=\"1\" class=\"dataframe\">\n",
       "  <thead>\n",
       "    <tr style=\"text-align: right;\">\n",
       "      <th></th>\n",
       "      <th>datum</th>\n",
       "      <th>pohlavi</th>\n",
       "      <th>kraj_nuts_kod</th>\n",
       "      <th>okres_lau_kod</th>\n",
       "    </tr>\n",
       "  </thead>\n",
       "  <tbody>\n",
       "    <tr>\n",
       "      <th>count</th>\n",
       "      <td>353770</td>\n",
       "      <td>353770</td>\n",
       "      <td>353770</td>\n",
       "      <td>353770</td>\n",
       "    </tr>\n",
       "    <tr>\n",
       "      <th>unique</th>\n",
       "      <td>244</td>\n",
       "      <td>2</td>\n",
       "      <td>14</td>\n",
       "      <td>78</td>\n",
       "    </tr>\n",
       "    <tr>\n",
       "      <th>top</th>\n",
       "      <td>2020-11-05</td>\n",
       "      <td>Z</td>\n",
       "      <td>CZ020</td>\n",
       "      <td>CZ0100</td>\n",
       "    </tr>\n",
       "    <tr>\n",
       "      <th>freq</th>\n",
       "      <td>16860</td>\n",
       "      <td>184296</td>\n",
       "      <td>47635</td>\n",
       "      <td>45944</td>\n",
       "    </tr>\n",
       "  </tbody>\n",
       "</table>\n",
       "</div>"
      ],
      "text/plain": [
       "             datum pohlavi kraj_nuts_kod okres_lau_kod\n",
       "count       353770  353770        353770        353770\n",
       "unique         244       2            14            78\n",
       "top     2020-11-05       Z         CZ020        CZ0100\n",
       "freq         16860  184296         47635         45944"
      ]
     },
     "execution_count": 29,
     "metadata": {},
     "output_type": "execute_result"
    }
   ],
   "source": [
    "vylieceny.describe(include=['object'], exclude=['int64'])"
   ]
  },
  {
   "cell_type": "markdown",
   "metadata": {},
   "source": [
    "Následne zobrazíme jednotlivé počty, počet jedinečných hodnôt v datasete a najčastejšie sa vyskytujúce hodnoty s počtom ich výskytov.\n"
   ]
  },
  {
   "cell_type": "code",
   "execution_count": 30,
   "metadata": {
    "colab": {
     "base_uri": "https://localhost:8080/"
    },
    "id": "_DYu7wTCCLVM",
    "outputId": "0f88b73b-95ce-4b83-ff2e-998436a5763a"
   },
   "outputs": [
    {
     "data": {
      "text/plain": [
       "datum            0\n",
       "vek              0\n",
       "pohlavi          0\n",
       "kraj_nuts_kod    0\n",
       "okres_lau_kod    0\n",
       "dtype: int64"
      ]
     },
     "execution_count": 30,
     "metadata": {},
     "output_type": "execute_result"
    }
   ],
   "source": [
    "vylieceny.isnull().sum()"
   ]
  },
  {
   "cell_type": "markdown",
   "metadata": {},
   "source": [
    "Zobrazime si počty chýbajúcich hodnôt. Z výpisu môžeme vidieť, že nechýbajú žiadne hodnoty\n"
   ]
  },
  {
   "cell_type": "code",
   "execution_count": 31,
   "metadata": {
    "colab": {
     "base_uri": "https://localhost:8080/",
     "height": 285
    },
    "id": "XhQDafRHCvFI",
    "outputId": "d1fa1a88-0a27-4a7c-a7c7-d8972717977b"
   },
   "outputs": [
    {
     "data": {
      "text/plain": [
       "<matplotlib.axes._subplots.AxesSubplot at 0x27861740640>"
      ]
     },
     "execution_count": 31,
     "metadata": {},
     "output_type": "execute_result"
    },
    {
     "data": {
      "image/png": "[encoded data removed]",
      "text/plain": [
       "<Figure size 432x288 with 1 Axes>"
      ]
     },
     "metadata": {
      "needs_background": "light"
     },
     "output_type": "display_data"
    }
   ],
   "source": [
    "sns.boxplot(data=vylieceny['vek'], orient='h')"
   ]
  },
  {
   "cell_type": "markdown",
   "metadata": {},
   "source": [
    "Zobrazíme si vek vyliečených ľudí pomocou boxplotu. Zneho môžeme vidieť, že určite sú tu nejaký outlyeri, nakoľko je tu pomerne veľa záznamov nad 100 rokov a 1 záznam je väčší ako 200 rokov.\n"
   ]
  },
  {
   "cell_type": "code",
   "execution_count": 32,
   "metadata": {
    "colab": {
     "base_uri": "https://localhost:8080/"
    },
    "id": "c32Q3fdZC7Bs",
    "outputId": "a8a39d5b-b057-4f84-9543-c32446cd6932"
   },
   "outputs": [
    {
     "data": {
      "text/plain": [
       "Z    184296\n",
       "M    169474\n",
       "Name: pohlavi, dtype: int64"
      ]
     },
     "execution_count": 32,
     "metadata": {},
     "output_type": "execute_result"
    }
   ],
   "source": [
    "vylieceny['pohlavi'].value_counts()"
   ]
  },
  {
   "cell_type": "markdown",
   "metadata": {},
   "source": [
    "Pozrieme sa na zastúpenie pohlavia pri výliečených"
   ]
  },
  {
   "cell_type": "code",
   "execution_count": 33,
   "metadata": {
    "colab": {
     "base_uri": "https://localhost:8080/",
     "height": 284
    },
    "id": "KmsjuXNHDCip",
    "outputId": "9d00dade-3def-431a-b8b5-0b6652a01e4e"
   },
   "outputs": [
    {
     "data": {
      "text/plain": [
       "<matplotlib.axes._subplots.AxesSubplot at 0x2785e7b8be0>"
      ]
     },
     "execution_count": 33,
     "metadata": {},
     "output_type": "execute_result"
    },
    {
     "data": {
      "image/png": "[encoded data removed]",
      "text/plain": [
       "<Figure size 432x288 with 1 Axes>"
      ]
     },
     "metadata": {
      "needs_background": "light"
     },
     "output_type": "display_data"
    }
   ],
   "source": [
    "vylieceny['pohlavi'].value_counts().plot.bar()"
   ]
  },
  {
   "cell_type": "markdown",
   "metadata": {},
   "source": [
    "Tieto počty si vyzualizujeme, môžeme vidieť, že počet žien je väčší.\n"
   ]
  },
  {
   "cell_type": "code",
   "execution_count": 34,
   "metadata": {
    "colab": {
     "base_uri": "https://localhost:8080/",
     "height": 628
    },
    "id": "YasMnR0EDIvA",
    "outputId": "5402c214-46e1-4809-f639-f69c4aa8d5a4"
   },
   "outputs": [
    {
     "data": {
      "text/plain": [
       "<matplotlib.axes._subplots.AxesSubplot at 0x2785c2eb5b0>"
      ]
     },
     "execution_count": 34,
     "metadata": {},
     "output_type": "execute_result"
    },
    {
     "data": {
      "image/png": "[encoded data removed]",
      "text/plain": [
       "<Figure size 1440x720 with 1 Axes>"
      ]
     },
     "metadata": {
      "needs_background": "light"
     },
     "output_type": "display_data"
    }
   ],
   "source": [
    "plt.figure(figsize=(20, 10))\n",
    "sns.boxplot(x=vylieceny['pohlavi'], y=vylieceny['vek'])"
   ]
  },
  {
   "cell_type": "markdown",
   "metadata": {},
   "source": [
    "Vek vyliečených porovnáme na základe pohlaví pomocou boxplotu. Môžeme vidieť že medián je tesne pod 50 rokmi a whistlery ukazujúce 75% kvartil  sa pohybujú okolo veku 100. \n"
   ]
  },
  {
   "cell_type": "code",
   "execution_count": 35,
   "metadata": {
    "colab": {
     "base_uri": "https://localhost:8080/",
     "height": 204
    },
    "id": "N9PmSNnqDPwI",
    "outputId": "a6c66eb3-ce81-44f9-b4dc-61e259ee7909"
   },
   "outputs": [
    {
     "data": {
      "text/html": [
       "<div>\n",
       "<style scoped>\n",
       "    .dataframe tbody tr th:only-of-type {\n",
       "        vertical-align: middle;\n",
       "    }\n",
       "\n",
       "    .dataframe tbody tr th {\n",
       "        vertical-align: top;\n",
       "    }\n",
       "\n",
       "    .dataframe thead th {\n",
       "        text-align: right;\n",
       "    }\n",
       "</style>\n",
       "<table border=\"1\" class=\"dataframe\">\n",
       "  <thead>\n",
       "    <tr style=\"text-align: right;\">\n",
       "      <th></th>\n",
       "      <th>datum</th>\n",
       "      <th>vek</th>\n",
       "      <th>pohlavi</th>\n",
       "      <th>kraj_nuts_kod</th>\n",
       "      <th>okres_lau_kod</th>\n",
       "    </tr>\n",
       "  </thead>\n",
       "  <tbody>\n",
       "    <tr>\n",
       "      <th>0</th>\n",
       "      <td>2020-03-22</td>\n",
       "      <td>94</td>\n",
       "      <td>M</td>\n",
       "      <td>CZ010</td>\n",
       "      <td>CZ0100</td>\n",
       "    </tr>\n",
       "    <tr>\n",
       "      <th>1</th>\n",
       "      <td>2020-03-24</td>\n",
       "      <td>73</td>\n",
       "      <td>Z</td>\n",
       "      <td>CZ010</td>\n",
       "      <td>CZ0100</td>\n",
       "    </tr>\n",
       "    <tr>\n",
       "      <th>2</th>\n",
       "      <td>2020-03-24</td>\n",
       "      <td>44</td>\n",
       "      <td>M</td>\n",
       "      <td>CZ080</td>\n",
       "      <td>CZ0802</td>\n",
       "    </tr>\n",
       "    <tr>\n",
       "      <th>3</th>\n",
       "      <td>2020-03-25</td>\n",
       "      <td>80</td>\n",
       "      <td>M</td>\n",
       "      <td>CZ071</td>\n",
       "      <td>CZ0712</td>\n",
       "    </tr>\n",
       "    <tr>\n",
       "      <th>4</th>\n",
       "      <td>2020-03-25</td>\n",
       "      <td>74</td>\n",
       "      <td>M</td>\n",
       "      <td>CZ010</td>\n",
       "      <td>CZ0100</td>\n",
       "    </tr>\n",
       "  </tbody>\n",
       "</table>\n",
       "</div>"
      ],
      "text/plain": [
       "        datum  vek pohlavi kraj_nuts_kod okres_lau_kod\n",
       "0  2020-03-22   94       M         CZ010        CZ0100\n",
       "1  2020-03-24   73       Z         CZ010        CZ0100\n",
       "2  2020-03-24   44       M         CZ080        CZ0802\n",
       "3  2020-03-25   80       M         CZ071        CZ0712\n",
       "4  2020-03-25   74       M         CZ010        CZ0100"
      ]
     },
     "execution_count": 35,
     "metadata": {},
     "output_type": "execute_result"
    }
   ],
   "source": [
    "umrti = pd.read_csv('covid_cz/umrti.csv')\n",
    "umrti.head()"
   ]
  },
  {
   "cell_type": "markdown",
   "metadata": {},
   "source": [
    "Načítame si zoznam zomrelých ľudí"
   ]
  },
  {
   "cell_type": "code",
   "execution_count": 36,
   "metadata": {
    "colab": {
     "base_uri": "https://localhost:8080/"
    },
    "id": "k_bjec6RDo1Q",
    "outputId": "7ae2c11a-67f0-4d91-f260-24e96aa8a875"
   },
   "outputs": [
    {
     "name": "stdout",
     "output_type": "stream",
     "text": [
      "<class 'pandas.core.frame.DataFrame'>\n",
      "RangeIndex: 6416 entries, 0 to 6415\n",
      "Data columns (total 5 columns):\n",
      " #   Column         Non-Null Count  Dtype \n",
      "---  ------         --------------  ----- \n",
      " 0   datum          6416 non-null   object\n",
      " 1   vek            6416 non-null   int64 \n",
      " 2   pohlavi        6416 non-null   object\n",
      " 3   kraj_nuts_kod  6416 non-null   object\n",
      " 4   okres_lau_kod  6416 non-null   object\n",
      "dtypes: int64(1), object(4)\n",
      "memory usage: 250.8+ KB\n"
     ]
    }
   ],
   "source": [
    "umrti.info()"
   ]
  },
  {
   "cell_type": "markdown",
   "metadata": {},
   "source": [
    "Vypíšeme si základne info o nich, môžeme vidieť že atribúty datum, pohlavi, kraj_nuts_kod, okres_lau_kod sú typu object. Atribút vek je typu int64. Počet záznamov je 6416.\n"
   ]
  },
  {
   "cell_type": "code",
   "execution_count": 37,
   "metadata": {
    "colab": {
     "base_uri": "https://localhost:8080/",
     "height": 297
    },
    "id": "YWpAcRtLD0PJ",
    "outputId": "58edab98-43b1-416e-cd1b-a7729575be5c"
   },
   "outputs": [
    {
     "data": {
      "text/html": [
       "<div>\n",
       "<style scoped>\n",
       "    .dataframe tbody tr th:only-of-type {\n",
       "        vertical-align: middle;\n",
       "    }\n",
       "\n",
       "    .dataframe tbody tr th {\n",
       "        vertical-align: top;\n",
       "    }\n",
       "\n",
       "    .dataframe thead th {\n",
       "        text-align: right;\n",
       "    }\n",
       "</style>\n",
       "<table border=\"1\" class=\"dataframe\">\n",
       "  <thead>\n",
       "    <tr style=\"text-align: right;\">\n",
       "      <th></th>\n",
       "      <th>vek</th>\n",
       "    </tr>\n",
       "  </thead>\n",
       "  <tbody>\n",
       "    <tr>\n",
       "      <th>count</th>\n",
       "      <td>6416.000000</td>\n",
       "    </tr>\n",
       "    <tr>\n",
       "      <th>mean</th>\n",
       "      <td>78.701216</td>\n",
       "    </tr>\n",
       "    <tr>\n",
       "      <th>std</th>\n",
       "      <td>10.096311</td>\n",
       "    </tr>\n",
       "    <tr>\n",
       "      <th>min</th>\n",
       "      <td>16.000000</td>\n",
       "    </tr>\n",
       "    <tr>\n",
       "      <th>25%</th>\n",
       "      <td>73.000000</td>\n",
       "    </tr>\n",
       "    <tr>\n",
       "      <th>50%</th>\n",
       "      <td>80.000000</td>\n",
       "    </tr>\n",
       "    <tr>\n",
       "      <th>75%</th>\n",
       "      <td>86.000000</td>\n",
       "    </tr>\n",
       "    <tr>\n",
       "      <th>max</th>\n",
       "      <td>104.000000</td>\n",
       "    </tr>\n",
       "  </tbody>\n",
       "</table>\n",
       "</div>"
      ],
      "text/plain": [
       "               vek\n",
       "count  6416.000000\n",
       "mean     78.701216\n",
       "std      10.096311\n",
       "min      16.000000\n",
       "25%      73.000000\n",
       "50%      80.000000\n",
       "75%      86.000000\n",
       "max     104.000000"
      ]
     },
     "execution_count": 37,
     "metadata": {},
     "output_type": "execute_result"
    }
   ],
   "source": [
    "umrti.describe()"
   ]
  },
  {
   "cell_type": "markdown",
   "metadata": {},
   "source": [
    "Zobrazíme si podrobnejšiu štatistiku, kde môžeme vidieť hodnoty ktoré nadobúda medián, priemer…\n"
   ]
  },
  {
   "cell_type": "code",
   "execution_count": 38,
   "metadata": {
    "colab": {
     "base_uri": "https://localhost:8080/",
     "height": 173
    },
    "id": "tRVbTkwoEJgZ",
    "outputId": "32a16fbc-b395-4055-b33b-62e386c5b5b3"
   },
   "outputs": [
    {
     "data": {
      "text/html": [
       "<div>\n",
       "<style scoped>\n",
       "    .dataframe tbody tr th:only-of-type {\n",
       "        vertical-align: middle;\n",
       "    }\n",
       "\n",
       "    .dataframe tbody tr th {\n",
       "        vertical-align: top;\n",
       "    }\n",
       "\n",
       "    .dataframe thead th {\n",
       "        text-align: right;\n",
       "    }\n",
       "</style>\n",
       "<table border=\"1\" class=\"dataframe\">\n",
       "  <thead>\n",
       "    <tr style=\"text-align: right;\">\n",
       "      <th></th>\n",
       "      <th>datum</th>\n",
       "      <th>pohlavi</th>\n",
       "      <th>kraj_nuts_kod</th>\n",
       "      <th>okres_lau_kod</th>\n",
       "    </tr>\n",
       "  </thead>\n",
       "  <tbody>\n",
       "    <tr>\n",
       "      <th>count</th>\n",
       "      <td>6416</td>\n",
       "      <td>6416</td>\n",
       "      <td>6416</td>\n",
       "      <td>6416</td>\n",
       "    </tr>\n",
       "    <tr>\n",
       "      <th>unique</th>\n",
       "      <td>205</td>\n",
       "      <td>2</td>\n",
       "      <td>14</td>\n",
       "      <td>77</td>\n",
       "    </tr>\n",
       "    <tr>\n",
       "      <th>top</th>\n",
       "      <td>2020-11-03</td>\n",
       "      <td>M</td>\n",
       "      <td>CZ064</td>\n",
       "      <td>CZ0100</td>\n",
       "    </tr>\n",
       "    <tr>\n",
       "      <th>freq</th>\n",
       "      <td>256</td>\n",
       "      <td>3707</td>\n",
       "      <td>800</td>\n",
       "      <td>616</td>\n",
       "    </tr>\n",
       "  </tbody>\n",
       "</table>\n",
       "</div>"
      ],
      "text/plain": [
       "             datum pohlavi kraj_nuts_kod okres_lau_kod\n",
       "count         6416    6416          6416          6416\n",
       "unique         205       2            14            77\n",
       "top     2020-11-03       M         CZ064        CZ0100\n",
       "freq           256    3707           800           616"
      ]
     },
     "execution_count": 38,
     "metadata": {},
     "output_type": "execute_result"
    }
   ],
   "source": [
    "umrti.describe(include=['object'], exclude=['int64'])"
   ]
  },
  {
   "cell_type": "markdown",
   "metadata": {},
   "source": [
    "Pozrieme sa na počet unikátnych hodnôt a najčastejšie sa vyskytujúce hodnoty s ich počtami pre tento dataset."
   ]
  },
  {
   "cell_type": "code",
   "execution_count": 39,
   "metadata": {
    "colab": {
     "base_uri": "https://localhost:8080/"
    },
    "id": "WXpWG-LVER-V",
    "outputId": "2c5e9ab8-30cf-483d-d4da-039d9251ef3d"
   },
   "outputs": [
    {
     "data": {
      "text/plain": [
       "datum            0\n",
       "vek              0\n",
       "pohlavi          0\n",
       "kraj_nuts_kod    0\n",
       "okres_lau_kod    0\n",
       "dtype: int64"
      ]
     },
     "execution_count": 39,
     "metadata": {},
     "output_type": "execute_result"
    }
   ],
   "source": [
    "umrti.isnull().sum()"
   ]
  },
  {
   "cell_type": "markdown",
   "metadata": {},
   "source": [
    "Vypíšeme si počet chýbajúcich hodnôt, Môžeme vidieť že pre tento dataset je to v každom atribúte 0.\n"
   ]
  },
  {
   "cell_type": "code",
   "execution_count": 40,
   "metadata": {
    "colab": {
     "base_uri": "https://localhost:8080/",
     "height": 285
    },
    "id": "Iwol-FrOEYO5",
    "outputId": "f6294ed9-b329-4e28-b490-e6b0ba9bdebd"
   },
   "outputs": [
    {
     "data": {
      "text/plain": [
       "<matplotlib.axes._subplots.AxesSubplot at 0x2785d003f10>"
      ]
     },
     "execution_count": 40,
     "metadata": {},
     "output_type": "execute_result"
    },
    {
     "data": {
      "image/png": "[encoded data removed]",
      "text/plain": [
       "<Figure size 432x288 with 1 Axes>"
      ]
     },
     "metadata": {
      "needs_background": "light"
     },
     "output_type": "display_data"
    }
   ],
   "source": [
    "sns.boxplot(data=umrti['vek'], orient='h')"
   ]
  },
  {
   "cell_type": "markdown",
   "metadata": {},
   "source": [
    "Pozrieme sa na vek zomrelých pre tento dataset. Môžeme vidieť, že vek zomrelých je väčší ako v predchádzjúcich datasetoch. Medián ukazuje hodnotu 80. \n"
   ]
  },
  {
   "cell_type": "code",
   "execution_count": 41,
   "metadata": {
    "colab": {
     "base_uri": "https://localhost:8080/"
    },
    "id": "7aSdmIlkEmHy",
    "outputId": "25b0fa49-aebf-49b6-c073-6844a718daf1"
   },
   "outputs": [
    {
     "data": {
      "text/plain": [
       "M    3707\n",
       "Z    2709\n",
       "Name: pohlavi, dtype: int64"
      ]
     },
     "execution_count": 41,
     "metadata": {},
     "output_type": "execute_result"
    }
   ],
   "source": [
    "umrti['pohlavi'].value_counts()"
   ]
  },
  {
   "cell_type": "markdown",
   "metadata": {},
   "source": [
    "Pozrieme sa na zastúpenie pohlaví pre tento dataset."
   ]
  },
  {
   "cell_type": "code",
   "execution_count": 42,
   "metadata": {
    "colab": {
     "base_uri": "https://localhost:8080/",
     "height": 284
    },
    "id": "t7Ikh475EvTK",
    "outputId": "8b85db29-e539-49cf-900d-c423de10f488"
   },
   "outputs": [
    {
     "data": {
      "text/plain": [
       "<matplotlib.axes._subplots.AxesSubplot at 0x2785ce69f70>"
      ]
     },
     "execution_count": 42,
     "metadata": {},
     "output_type": "execute_result"
    },
    {
     "data": {
      "image/png": "[encoded data removed]",
      "text/plain": [
       "<Figure size 432x288 with 1 Axes>"
      ]
     },
     "metadata": {
      "needs_background": "light"
     },
     "output_type": "display_data"
    }
   ],
   "source": [
    "umrti['pohlavi'].value_counts().plot.bar()"
   ]
  },
  {
   "cell_type": "markdown",
   "metadata": {},
   "source": [
    "Počet pohlaví si vyzualizujeme pomocou barplotu. Môžeme vidieť, že počet mužov je väčší v porovnaní so ženami.\n"
   ]
  },
  {
   "cell_type": "code",
   "execution_count": 43,
   "metadata": {
    "colab": {
     "base_uri": "https://localhost:8080/",
     "height": 628
    },
    "id": "GYxonZzDEyRN",
    "outputId": "c2a10bc8-636a-4313-98d4-e7bd40f21cb9"
   },
   "outputs": [
    {
     "data": {
      "text/plain": [
       "<matplotlib.axes._subplots.AxesSubplot at 0x2785cec83a0>"
      ]
     },
     "execution_count": 43,
     "metadata": {},
     "output_type": "execute_result"
    },
    {
     "data": {
      "image/png": "[encoded data removed]",
      "text/plain": [
       "<Figure size 1440x720 with 1 Axes>"
      ]
     },
     "metadata": {
      "needs_background": "light"
     },
     "output_type": "display_data"
    }
   ],
   "source": [
    "plt.figure(figsize=(20, 10))\n",
    "sns.boxplot(x=umrti['pohlavi'], y=umrti['vek'])"
   ]
  },
  {
   "cell_type": "markdown",
   "metadata": {},
   "source": [
    "Vek si vizualizujeme aj na základe pohlaví pomocou boxplotov. Vidíme že medián zomrelých žien je o niečo vyšší ako medián zomrelých mužov.\n"
   ]
  },
  {
   "cell_type": "code",
   "execution_count": 45,
   "metadata": {},
   "outputs": [],
   "source": [
    "def find_record(row):\n",
    "    tmp = kraj_okres[(kraj_okres['datum'] == row['datum']) & (kraj_okres['kraj_nuts_kod'] == row['kraj_nuts_kod']) & (kraj_okres['okres_lau_kod'] == row['okres_lau_kod'])]\n",
    "    \n",
    "    if tmp.shape[0] == 0:\n",
    "        return -1\n",
    "    else:\n",
    "        return tmp.index[0]"
   ]
  },
  {
   "cell_type": "code",
   "execution_count": 47,
   "metadata": {},
   "outputs": [
    {
     "data": {
      "text/html": [
       "<div>\n",
       "<style scoped>\n",
       "    .dataframe tbody tr th:only-of-type {\n",
       "        vertical-align: middle;\n",
       "    }\n",
       "\n",
       "    .dataframe tbody tr th {\n",
       "        vertical-align: top;\n",
       "    }\n",
       "\n",
       "    .dataframe thead th {\n",
       "        text-align: right;\n",
       "    }\n",
       "</style>\n",
       "<table border=\"1\" class=\"dataframe\">\n",
       "  <thead>\n",
       "    <tr style=\"text-align: right;\">\n",
       "      <th></th>\n",
       "      <th>datum</th>\n",
       "      <th>vek</th>\n",
       "      <th>pohlavi</th>\n",
       "      <th>kraj_nuts_kod</th>\n",
       "      <th>okres_lau_kod</th>\n",
       "      <th>cudzi_kluc</th>\n",
       "    </tr>\n",
       "  </thead>\n",
       "  <tbody>\n",
       "    <tr>\n",
       "      <th>0</th>\n",
       "      <td>2020-03-22</td>\n",
       "      <td>94</td>\n",
       "      <td>M</td>\n",
       "      <td>CZ010</td>\n",
       "      <td>CZ0100</td>\n",
       "      <td>1617</td>\n",
       "    </tr>\n",
       "    <tr>\n",
       "      <th>1</th>\n",
       "      <td>2020-03-24</td>\n",
       "      <td>73</td>\n",
       "      <td>Z</td>\n",
       "      <td>CZ010</td>\n",
       "      <td>CZ0100</td>\n",
       "      <td>1771</td>\n",
       "    </tr>\n",
       "    <tr>\n",
       "      <th>2</th>\n",
       "      <td>2020-03-24</td>\n",
       "      <td>44</td>\n",
       "      <td>M</td>\n",
       "      <td>CZ080</td>\n",
       "      <td>CZ0802</td>\n",
       "      <td>1843</td>\n",
       "    </tr>\n",
       "    <tr>\n",
       "      <th>3</th>\n",
       "      <td>2020-03-25</td>\n",
       "      <td>80</td>\n",
       "      <td>M</td>\n",
       "      <td>CZ071</td>\n",
       "      <td>CZ0712</td>\n",
       "      <td>1911</td>\n",
       "    </tr>\n",
       "    <tr>\n",
       "      <th>4</th>\n",
       "      <td>2020-03-25</td>\n",
       "      <td>74</td>\n",
       "      <td>M</td>\n",
       "      <td>CZ010</td>\n",
       "      <td>CZ0100</td>\n",
       "      <td>1848</td>\n",
       "    </tr>\n",
       "  </tbody>\n",
       "</table>\n",
       "</div>"
      ],
      "text/plain": [
       "        datum  vek pohlavi kraj_nuts_kod okres_lau_kod  cudzi_kluc\n",
       "0  2020-03-22   94       M         CZ010        CZ0100        1617\n",
       "1  2020-03-24   73       Z         CZ010        CZ0100        1771\n",
       "2  2020-03-24   44       M         CZ080        CZ0802        1843\n",
       "3  2020-03-25   80       M         CZ071        CZ0712        1911\n",
       "4  2020-03-25   74       M         CZ010        CZ0100        1848"
      ]
     },
     "execution_count": 47,
     "metadata": {},
     "output_type": "execute_result"
    }
   ],
   "source": [
    "umrti['cudzi_kluc'] = umrti.apply(find_record, axis=1)\n",
    "umrti.head()"
   ]
  },
  {
   "cell_type": "code",
   "execution_count": 48,
   "metadata": {
    "colab": {
     "base_uri": "https://localhost:8080/",
     "height": 204
    },
    "id": "Sj5RhKQHGykp",
    "outputId": "ed622527-b6fe-4fb9-8f2c-0dc3f21321c9"
   },
   "outputs": [
    {
     "data": {
      "text/html": [
       "<div>\n",
       "<style scoped>\n",
       "    .dataframe tbody tr th:only-of-type {\n",
       "        vertical-align: middle;\n",
       "    }\n",
       "\n",
       "    .dataframe tbody tr th {\n",
       "        vertical-align: top;\n",
       "    }\n",
       "\n",
       "    .dataframe thead th {\n",
       "        text-align: right;\n",
       "    }\n",
       "</style>\n",
       "<table border=\"1\" class=\"dataframe\">\n",
       "  <thead>\n",
       "    <tr style=\"text-align: right;\">\n",
       "      <th></th>\n",
       "      <th>datum</th>\n",
       "      <th>vek</th>\n",
       "      <th>pohlavi</th>\n",
       "      <th>kraj_nuts_kod</th>\n",
       "      <th>okres_lau_kod</th>\n",
       "      <th>cudzi_kluc</th>\n",
       "    </tr>\n",
       "  </thead>\n",
       "  <tbody>\n",
       "    <tr>\n",
       "      <th>0</th>\n",
       "      <td>2019-10-23</td>\n",
       "      <td>43</td>\n",
       "      <td>Z</td>\n",
       "      <td>CZ032</td>\n",
       "      <td>CZ0325</td>\n",
       "      <td>-1</td>\n",
       "    </tr>\n",
       "    <tr>\n",
       "      <th>1</th>\n",
       "      <td>2020-03-14</td>\n",
       "      <td>39</td>\n",
       "      <td>Z</td>\n",
       "      <td>CZ020</td>\n",
       "      <td>CZ020A</td>\n",
       "      <td>1002</td>\n",
       "    </tr>\n",
       "    <tr>\n",
       "      <th>2</th>\n",
       "      <td>2020-03-15</td>\n",
       "      <td>21</td>\n",
       "      <td>Z</td>\n",
       "      <td>CZ010</td>\n",
       "      <td>CZ0100</td>\n",
       "      <td>1078</td>\n",
       "    </tr>\n",
       "    <tr>\n",
       "      <th>3</th>\n",
       "      <td>2020-03-15</td>\n",
       "      <td>49</td>\n",
       "      <td>M</td>\n",
       "      <td>CZ042</td>\n",
       "      <td>CZ0421</td>\n",
       "      <td>1108</td>\n",
       "    </tr>\n",
       "    <tr>\n",
       "      <th>4</th>\n",
       "      <td>2020-03-15</td>\n",
       "      <td>18</td>\n",
       "      <td>Z</td>\n",
       "      <td>CZ042</td>\n",
       "      <td>CZ0421</td>\n",
       "      <td>1108</td>\n",
       "    </tr>\n",
       "  </tbody>\n",
       "</table>\n",
       "</div>"
      ],
      "text/plain": [
       "        datum  vek pohlavi kraj_nuts_kod okres_lau_kod  cudzi_kluc\n",
       "0  2019-10-23   43       Z         CZ032        CZ0325          -1\n",
       "1  2020-03-14   39       Z         CZ020        CZ020A        1002\n",
       "2  2020-03-15   21       Z         CZ010        CZ0100        1078\n",
       "3  2020-03-15   49       M         CZ042        CZ0421        1108\n",
       "4  2020-03-15   18       Z         CZ042        CZ0421        1108"
      ]
     },
     "execution_count": 48,
     "metadata": {},
     "output_type": "execute_result"
    }
   ],
   "source": [
    "vylieceny['cudzi_kluc'] = vylieceny.apply(find_record, axis=1)\n",
    "vylieceny.head()"
   ]
  },
  {
   "cell_type": "code",
   "execution_count": 49,
   "metadata": {
    "id": "JR1TzmBZOiBI"
   },
   "outputs": [
    {
     "data": {
      "text/html": [
       "<div>\n",
       "<style scoped>\n",
       "    .dataframe tbody tr th:only-of-type {\n",
       "        vertical-align: middle;\n",
       "    }\n",
       "\n",
       "    .dataframe tbody tr th {\n",
       "        vertical-align: top;\n",
       "    }\n",
       "\n",
       "    .dataframe thead th {\n",
       "        text-align: right;\n",
       "    }\n",
       "</style>\n",
       "<table border=\"1\" class=\"dataframe\">\n",
       "  <thead>\n",
       "    <tr style=\"text-align: right;\">\n",
       "      <th></th>\n",
       "      <th>datum</th>\n",
       "      <th>vek</th>\n",
       "      <th>pohlavi</th>\n",
       "      <th>kraj_nuts_kod</th>\n",
       "      <th>okres_lau_kod</th>\n",
       "      <th>cudzi_kluc</th>\n",
       "    </tr>\n",
       "  </thead>\n",
       "  <tbody>\n",
       "    <tr>\n",
       "      <th>0</th>\n",
       "      <td>2020-10-21</td>\n",
       "      <td>43</td>\n",
       "      <td>M</td>\n",
       "      <td>CZ010</td>\n",
       "      <td>CZ0100</td>\n",
       "      <td>18018</td>\n",
       "    </tr>\n",
       "    <tr>\n",
       "      <th>1</th>\n",
       "      <td>2020-10-05</td>\n",
       "      <td>27</td>\n",
       "      <td>M</td>\n",
       "      <td>CZ010</td>\n",
       "      <td>CZ0100</td>\n",
       "      <td>16786</td>\n",
       "    </tr>\n",
       "    <tr>\n",
       "      <th>2</th>\n",
       "      <td>2020-10-13</td>\n",
       "      <td>55</td>\n",
       "      <td>Z</td>\n",
       "      <td>CZ053</td>\n",
       "      <td>CZ0533</td>\n",
       "      <td>17450</td>\n",
       "    </tr>\n",
       "    <tr>\n",
       "      <th>3</th>\n",
       "      <td>2020-10-22</td>\n",
       "      <td>40</td>\n",
       "      <td>M</td>\n",
       "      <td>CZ063</td>\n",
       "      <td>CZ0634</td>\n",
       "      <td>18148</td>\n",
       "    </tr>\n",
       "    <tr>\n",
       "      <th>4</th>\n",
       "      <td>2020-10-26</td>\n",
       "      <td>46</td>\n",
       "      <td>M</td>\n",
       "      <td>CZ063</td>\n",
       "      <td>CZ0635</td>\n",
       "      <td>18457</td>\n",
       "    </tr>\n",
       "  </tbody>\n",
       "</table>\n",
       "</div>"
      ],
      "text/plain": [
       "        datum  vek pohlavi kraj_nuts_kod okres_lau_kod  cudzi_kluc\n",
       "0  2020-10-21   43       M         CZ010        CZ0100       18018\n",
       "1  2020-10-05   27       M         CZ010        CZ0100       16786\n",
       "2  2020-10-13   55       Z         CZ053        CZ0533       17450\n",
       "3  2020-10-22   40       M         CZ063        CZ0634       18148\n",
       "4  2020-10-26   46       M         CZ063        CZ0635       18457"
      ]
     },
     "execution_count": 49,
     "metadata": {},
     "output_type": "execute_result"
    }
   ],
   "source": [
    "osoby['cudzi_kluc'] = osoby.apply(find_record, axis=1)\n",
    "osoby.head()"
   ]
  },
  {
   "cell_type": "code",
   "execution_count": 50,
   "metadata": {},
   "outputs": [
    {
     "data": {
      "text/html": [
       "<div>\n",
       "<style scoped>\n",
       "    .dataframe tbody tr th:only-of-type {\n",
       "        vertical-align: middle;\n",
       "    }\n",
       "\n",
       "    .dataframe tbody tr th {\n",
       "        vertical-align: top;\n",
       "    }\n",
       "\n",
       "    .dataframe thead th {\n",
       "        text-align: right;\n",
       "    }\n",
       "</style>\n",
       "<table border=\"1\" class=\"dataframe\">\n",
       "  <thead>\n",
       "    <tr style=\"text-align: right;\">\n",
       "      <th></th>\n",
       "      <th>datum</th>\n",
       "      <th>vek</th>\n",
       "      <th>pohlavi</th>\n",
       "      <th>kraj_nuts_kod</th>\n",
       "      <th>okres_lau_kod</th>\n",
       "      <th>cudzi_kluc</th>\n",
       "    </tr>\n",
       "  </thead>\n",
       "  <tbody>\n",
       "    <tr>\n",
       "      <th>30</th>\n",
       "      <td>2020-11-24</td>\n",
       "      <td>40</td>\n",
       "      <td>Z</td>\n",
       "      <td>CZ041</td>\n",
       "      <td>CZ0412</td>\n",
       "      <td>-1</td>\n",
       "    </tr>\n",
       "    <tr>\n",
       "      <th>36</th>\n",
       "      <td>2020-10-14</td>\n",
       "      <td>38</td>\n",
       "      <td>M</td>\n",
       "      <td>CZ010</td>\n",
       "      <td>CZ0634</td>\n",
       "      <td>-1</td>\n",
       "    </tr>\n",
       "    <tr>\n",
       "      <th>38</th>\n",
       "      <td>2020-10-13</td>\n",
       "      <td>33</td>\n",
       "      <td>M</td>\n",
       "      <td>CZ010</td>\n",
       "      <td>CZ0412</td>\n",
       "      <td>-1</td>\n",
       "    </tr>\n",
       "    <tr>\n",
       "      <th>61</th>\n",
       "      <td>2020-10-15</td>\n",
       "      <td>29</td>\n",
       "      <td>Z</td>\n",
       "      <td>CZ010</td>\n",
       "      <td>CZ0427</td>\n",
       "      <td>-1</td>\n",
       "    </tr>\n",
       "    <tr>\n",
       "      <th>73</th>\n",
       "      <td>2020-11-17</td>\n",
       "      <td>71</td>\n",
       "      <td>M</td>\n",
       "      <td>CZ072</td>\n",
       "      <td>CZ0724</td>\n",
       "      <td>-1</td>\n",
       "    </tr>\n",
       "    <tr>\n",
       "      <th>...</th>\n",
       "      <td>...</td>\n",
       "      <td>...</td>\n",
       "      <td>...</td>\n",
       "      <td>...</td>\n",
       "      <td>...</td>\n",
       "      <td>...</td>\n",
       "    </tr>\n",
       "    <tr>\n",
       "      <th>487464</th>\n",
       "      <td>2020-11-21</td>\n",
       "      <td>68</td>\n",
       "      <td>Z</td>\n",
       "      <td>CZ080</td>\n",
       "      <td>CZ0804</td>\n",
       "      <td>-1</td>\n",
       "    </tr>\n",
       "    <tr>\n",
       "      <th>487472</th>\n",
       "      <td>2020-11-19</td>\n",
       "      <td>24</td>\n",
       "      <td>Z</td>\n",
       "      <td>CZ053</td>\n",
       "      <td>CZ0531</td>\n",
       "      <td>-1</td>\n",
       "    </tr>\n",
       "    <tr>\n",
       "      <th>487481</th>\n",
       "      <td>2020-11-23</td>\n",
       "      <td>48</td>\n",
       "      <td>M</td>\n",
       "      <td>CZ042</td>\n",
       "      <td>CZ0427</td>\n",
       "      <td>-1</td>\n",
       "    </tr>\n",
       "    <tr>\n",
       "      <th>487490</th>\n",
       "      <td>2020-11-18</td>\n",
       "      <td>81</td>\n",
       "      <td>Z</td>\n",
       "      <td>CZ064</td>\n",
       "      <td>CZ0642</td>\n",
       "      <td>-1</td>\n",
       "    </tr>\n",
       "    <tr>\n",
       "      <th>487503</th>\n",
       "      <td>2020-11-06</td>\n",
       "      <td>78</td>\n",
       "      <td>Z</td>\n",
       "      <td>CZ020</td>\n",
       "      <td>CZ0100</td>\n",
       "      <td>-1</td>\n",
       "    </tr>\n",
       "  </tbody>\n",
       "</table>\n",
       "<p>46162 rows × 6 columns</p>\n",
       "</div>"
      ],
      "text/plain": [
       "             datum  vek pohlavi kraj_nuts_kod okres_lau_kod  cudzi_kluc\n",
       "30      2020-11-24   40       Z         CZ041        CZ0412          -1\n",
       "36      2020-10-14   38       M         CZ010        CZ0634          -1\n",
       "38      2020-10-13   33       M         CZ010        CZ0412          -1\n",
       "61      2020-10-15   29       Z         CZ010        CZ0427          -1\n",
       "73      2020-11-17   71       M         CZ072        CZ0724          -1\n",
       "...            ...  ...     ...           ...           ...         ...\n",
       "487464  2020-11-21   68       Z         CZ080        CZ0804          -1\n",
       "487472  2020-11-19   24       Z         CZ053        CZ0531          -1\n",
       "487481  2020-11-23   48       M         CZ042        CZ0427          -1\n",
       "487490  2020-11-18   81       Z         CZ064        CZ0642          -1\n",
       "487503  2020-11-06   78       Z         CZ020        CZ0100          -1\n",
       "\n",
       "[46162 rows x 6 columns]"
      ]
     },
     "execution_count": 50,
     "metadata": {},
     "output_type": "execute_result"
    }
   ],
   "source": [
    "osoby[osoby['cudzi_kluc'] == -1]"
   ]
  },
  {
   "cell_type": "code",
   "execution_count": 52,
   "metadata": {
    "scrolled": true
   },
   "outputs": [
    {
     "data": {
      "text/html": [
       "<div>\n",
       "<style scoped>\n",
       "    .dataframe tbody tr th:only-of-type {\n",
       "        vertical-align: middle;\n",
       "    }\n",
       "\n",
       "    .dataframe tbody tr th {\n",
       "        vertical-align: top;\n",
       "    }\n",
       "\n",
       "    .dataframe thead th {\n",
       "        text-align: right;\n",
       "    }\n",
       "</style>\n",
       "<table border=\"1\" class=\"dataframe\">\n",
       "  <thead>\n",
       "    <tr style=\"text-align: right;\">\n",
       "      <th></th>\n",
       "      <th>datum</th>\n",
       "      <th>vek</th>\n",
       "      <th>pohlavi</th>\n",
       "      <th>kraj_nuts_kod</th>\n",
       "      <th>okres_lau_kod</th>\n",
       "      <th>cudzi_kluc</th>\n",
       "    </tr>\n",
       "  </thead>\n",
       "  <tbody>\n",
       "    <tr>\n",
       "      <th>0</th>\n",
       "      <td>2019-10-23</td>\n",
       "      <td>43</td>\n",
       "      <td>Z</td>\n",
       "      <td>CZ032</td>\n",
       "      <td>CZ0325</td>\n",
       "      <td>-1</td>\n",
       "    </tr>\n",
       "    <tr>\n",
       "      <th>8546</th>\n",
       "      <td>2020-06-21</td>\n",
       "      <td>46</td>\n",
       "      <td>M</td>\n",
       "      <td>CZ080</td>\n",
       "      <td>CZ099Y</td>\n",
       "      <td>-1</td>\n",
       "    </tr>\n",
       "    <tr>\n",
       "      <th>8646</th>\n",
       "      <td>2020-06-23</td>\n",
       "      <td>54</td>\n",
       "      <td>Z</td>\n",
       "      <td>CZ080</td>\n",
       "      <td>CZ099Y</td>\n",
       "      <td>-1</td>\n",
       "    </tr>\n",
       "    <tr>\n",
       "      <th>8796</th>\n",
       "      <td>2020-06-25</td>\n",
       "      <td>64</td>\n",
       "      <td>M</td>\n",
       "      <td>CZ080</td>\n",
       "      <td>CZ099Y</td>\n",
       "      <td>-1</td>\n",
       "    </tr>\n",
       "    <tr>\n",
       "      <th>8834</th>\n",
       "      <td>2020-06-26</td>\n",
       "      <td>51</td>\n",
       "      <td>M</td>\n",
       "      <td>CZ080</td>\n",
       "      <td>CZ099Y</td>\n",
       "      <td>-1</td>\n",
       "    </tr>\n",
       "    <tr>\n",
       "      <th>8877</th>\n",
       "      <td>2020-06-26</td>\n",
       "      <td>27</td>\n",
       "      <td>M</td>\n",
       "      <td>CZ080</td>\n",
       "      <td>CZ099Y</td>\n",
       "      <td>-1</td>\n",
       "    </tr>\n",
       "    <tr>\n",
       "      <th>9277</th>\n",
       "      <td>2020-07-03</td>\n",
       "      <td>62</td>\n",
       "      <td>Z</td>\n",
       "      <td>CZ080</td>\n",
       "      <td>CZ099Y</td>\n",
       "      <td>-1</td>\n",
       "    </tr>\n",
       "    <tr>\n",
       "      <th>9283</th>\n",
       "      <td>2020-07-03</td>\n",
       "      <td>24</td>\n",
       "      <td>Z</td>\n",
       "      <td>CZ080</td>\n",
       "      <td>CZ099Y</td>\n",
       "      <td>-1</td>\n",
       "    </tr>\n",
       "    <tr>\n",
       "      <th>9325</th>\n",
       "      <td>2020-07-03</td>\n",
       "      <td>39</td>\n",
       "      <td>Z</td>\n",
       "      <td>CZ080</td>\n",
       "      <td>CZ099Y</td>\n",
       "      <td>-1</td>\n",
       "    </tr>\n",
       "    <tr>\n",
       "      <th>9725</th>\n",
       "      <td>2020-07-08</td>\n",
       "      <td>41</td>\n",
       "      <td>M</td>\n",
       "      <td>CZ080</td>\n",
       "      <td>CZ099Y</td>\n",
       "      <td>-1</td>\n",
       "    </tr>\n",
       "    <tr>\n",
       "      <th>10672</th>\n",
       "      <td>2020-07-14</td>\n",
       "      <td>56</td>\n",
       "      <td>M</td>\n",
       "      <td>CZ080</td>\n",
       "      <td>CZ099Y</td>\n",
       "      <td>-1</td>\n",
       "    </tr>\n",
       "    <tr>\n",
       "      <th>37159</th>\n",
       "      <td>2020-09-26</td>\n",
       "      <td>42</td>\n",
       "      <td>M</td>\n",
       "      <td>CZ051</td>\n",
       "      <td>CZ099Y</td>\n",
       "      <td>-1</td>\n",
       "    </tr>\n",
       "    <tr>\n",
       "      <th>43439</th>\n",
       "      <td>2020-09-30</td>\n",
       "      <td>55</td>\n",
       "      <td>Z</td>\n",
       "      <td>CZ041</td>\n",
       "      <td>CZ099Y</td>\n",
       "      <td>-1</td>\n",
       "    </tr>\n",
       "    <tr>\n",
       "      <th>60795</th>\n",
       "      <td>2020-10-09</td>\n",
       "      <td>26</td>\n",
       "      <td>Z</td>\n",
       "      <td>CZ064</td>\n",
       "      <td>CZ099Y</td>\n",
       "      <td>-1</td>\n",
       "    </tr>\n",
       "    <tr>\n",
       "      <th>142585</th>\n",
       "      <td>2020-10-26</td>\n",
       "      <td>34</td>\n",
       "      <td>Z</td>\n",
       "      <td>CZ080</td>\n",
       "      <td>CZ099Y</td>\n",
       "      <td>-1</td>\n",
       "    </tr>\n",
       "    <tr>\n",
       "      <th>352473</th>\n",
       "      <td>2020-11-13</td>\n",
       "      <td>26</td>\n",
       "      <td>M</td>\n",
       "      <td>CZ080</td>\n",
       "      <td>CZ099Y</td>\n",
       "      <td>-1</td>\n",
       "    </tr>\n",
       "  </tbody>\n",
       "</table>\n",
       "</div>"
      ],
      "text/plain": [
       "             datum  vek pohlavi kraj_nuts_kod okres_lau_kod  cudzi_kluc\n",
       "0       2019-10-23   43       Z         CZ032        CZ0325          -1\n",
       "8546    2020-06-21   46       M         CZ080        CZ099Y          -1\n",
       "8646    2020-06-23   54       Z         CZ080        CZ099Y          -1\n",
       "8796    2020-06-25   64       M         CZ080        CZ099Y          -1\n",
       "8834    2020-06-26   51       M         CZ080        CZ099Y          -1\n",
       "8877    2020-06-26   27       M         CZ080        CZ099Y          -1\n",
       "9277    2020-07-03   62       Z         CZ080        CZ099Y          -1\n",
       "9283    2020-07-03   24       Z         CZ080        CZ099Y          -1\n",
       "9325    2020-07-03   39       Z         CZ080        CZ099Y          -1\n",
       "9725    2020-07-08   41       M         CZ080        CZ099Y          -1\n",
       "10672   2020-07-14   56       M         CZ080        CZ099Y          -1\n",
       "37159   2020-09-26   42       M         CZ051        CZ099Y          -1\n",
       "43439   2020-09-30   55       Z         CZ041        CZ099Y          -1\n",
       "60795   2020-10-09   26       Z         CZ064        CZ099Y          -1\n",
       "142585  2020-10-26   34       Z         CZ080        CZ099Y          -1\n",
       "352473  2020-11-13   26       M         CZ080        CZ099Y          -1"
      ]
     },
     "execution_count": 52,
     "metadata": {},
     "output_type": "execute_result"
    }
   ],
   "source": [
    "vylieceny[vylieceny['cudzi_kluc'] == -1]"
   ]
  },
  {
   "cell_type": "code",
   "execution_count": 53,
   "metadata": {},
   "outputs": [
    {
     "data": {
      "text/html": [
       "<div>\n",
       "<style scoped>\n",
       "    .dataframe tbody tr th:only-of-type {\n",
       "        vertical-align: middle;\n",
       "    }\n",
       "\n",
       "    .dataframe tbody tr th {\n",
       "        vertical-align: top;\n",
       "    }\n",
       "\n",
       "    .dataframe thead th {\n",
       "        text-align: right;\n",
       "    }\n",
       "</style>\n",
       "<table border=\"1\" class=\"dataframe\">\n",
       "  <thead>\n",
       "    <tr style=\"text-align: right;\">\n",
       "      <th></th>\n",
       "      <th>datum</th>\n",
       "      <th>vek</th>\n",
       "      <th>pohlavi</th>\n",
       "      <th>kraj_nuts_kod</th>\n",
       "      <th>okres_lau_kod</th>\n",
       "      <th>cudzi_kluc</th>\n",
       "    </tr>\n",
       "  </thead>\n",
       "  <tbody>\n",
       "  </tbody>\n",
       "</table>\n",
       "</div>"
      ],
      "text/plain": [
       "Empty DataFrame\n",
       "Columns: [datum, vek, pohlavi, kraj_nuts_kod, okres_lau_kod, cudzi_kluc]\n",
       "Index: []"
      ]
     },
     "execution_count": 53,
     "metadata": {},
     "output_type": "execute_result"
    }
   ],
   "source": [
    "umrti[umrti['cudzi_kluc'] == -1]"
   ]
  },
  {
   "cell_type": "code",
   "execution_count": 55,
   "metadata": {},
   "outputs": [
    {
     "data": {
      "text/html": [
       "<div>\n",
       "<style scoped>\n",
       "    .dataframe tbody tr th:only-of-type {\n",
       "        vertical-align: middle;\n",
       "    }\n",
       "\n",
       "    .dataframe tbody tr th {\n",
       "        vertical-align: top;\n",
       "    }\n",
       "\n",
       "    .dataframe thead th {\n",
       "        text-align: right;\n",
       "    }\n",
       "</style>\n",
       "<table border=\"1\" class=\"dataframe\">\n",
       "  <thead>\n",
       "    <tr style=\"text-align: right;\">\n",
       "      <th></th>\n",
       "      <th>index</th>\n",
       "      <th>datum</th>\n",
       "      <th>vek</th>\n",
       "      <th>pohlavi</th>\n",
       "      <th>kraj_nuts_kod</th>\n",
       "      <th>okres_lau_kod</th>\n",
       "      <th>cudzi_kluc</th>\n",
       "    </tr>\n",
       "  </thead>\n",
       "  <tbody>\n",
       "    <tr>\n",
       "      <th>0</th>\n",
       "      <td>0</td>\n",
       "      <td>2020-10-21</td>\n",
       "      <td>43</td>\n",
       "      <td>M</td>\n",
       "      <td>CZ010</td>\n",
       "      <td>CZ0100</td>\n",
       "      <td>18018</td>\n",
       "    </tr>\n",
       "    <tr>\n",
       "      <th>1</th>\n",
       "      <td>1</td>\n",
       "      <td>2020-10-05</td>\n",
       "      <td>27</td>\n",
       "      <td>M</td>\n",
       "      <td>CZ010</td>\n",
       "      <td>CZ0100</td>\n",
       "      <td>16786</td>\n",
       "    </tr>\n",
       "    <tr>\n",
       "      <th>2</th>\n",
       "      <td>2</td>\n",
       "      <td>2020-10-13</td>\n",
       "      <td>55</td>\n",
       "      <td>Z</td>\n",
       "      <td>CZ053</td>\n",
       "      <td>CZ0533</td>\n",
       "      <td>17450</td>\n",
       "    </tr>\n",
       "    <tr>\n",
       "      <th>3</th>\n",
       "      <td>3</td>\n",
       "      <td>2020-10-22</td>\n",
       "      <td>40</td>\n",
       "      <td>M</td>\n",
       "      <td>CZ063</td>\n",
       "      <td>CZ0634</td>\n",
       "      <td>18148</td>\n",
       "    </tr>\n",
       "    <tr>\n",
       "      <th>4</th>\n",
       "      <td>4</td>\n",
       "      <td>2020-10-26</td>\n",
       "      <td>46</td>\n",
       "      <td>M</td>\n",
       "      <td>CZ063</td>\n",
       "      <td>CZ0635</td>\n",
       "      <td>18457</td>\n",
       "    </tr>\n",
       "    <tr>\n",
       "      <th>...</th>\n",
       "      <td>...</td>\n",
       "      <td>...</td>\n",
       "      <td>...</td>\n",
       "      <td>...</td>\n",
       "      <td>...</td>\n",
       "      <td>...</td>\n",
       "      <td>...</td>\n",
       "    </tr>\n",
       "    <tr>\n",
       "      <th>441352</th>\n",
       "      <td>487514</td>\n",
       "      <td>2020-09-21</td>\n",
       "      <td>38</td>\n",
       "      <td>M</td>\n",
       "      <td>CZ042</td>\n",
       "      <td>CZ0421</td>\n",
       "      <td>15738</td>\n",
       "    </tr>\n",
       "    <tr>\n",
       "      <th>441353</th>\n",
       "      <td>487515</td>\n",
       "      <td>2020-11-11</td>\n",
       "      <td>89</td>\n",
       "      <td>M</td>\n",
       "      <td>CZ010</td>\n",
       "      <td>CZ0100</td>\n",
       "      <td>19635</td>\n",
       "    </tr>\n",
       "    <tr>\n",
       "      <th>441354</th>\n",
       "      <td>487516</td>\n",
       "      <td>2020-10-26</td>\n",
       "      <td>24</td>\n",
       "      <td>M</td>\n",
       "      <td>CZ042</td>\n",
       "      <td>CZ0424</td>\n",
       "      <td>18436</td>\n",
       "    </tr>\n",
       "    <tr>\n",
       "      <th>441355</th>\n",
       "      <td>487517</td>\n",
       "      <td>2020-10-24</td>\n",
       "      <td>13</td>\n",
       "      <td>M</td>\n",
       "      <td>CZ080</td>\n",
       "      <td>CZ0803</td>\n",
       "      <td>18322</td>\n",
       "    </tr>\n",
       "    <tr>\n",
       "      <th>441356</th>\n",
       "      <td>487518</td>\n",
       "      <td>2020-10-16</td>\n",
       "      <td>53</td>\n",
       "      <td>Z</td>\n",
       "      <td>CZ032</td>\n",
       "      <td>CZ0322</td>\n",
       "      <td>17654</td>\n",
       "    </tr>\n",
       "  </tbody>\n",
       "</table>\n",
       "<p>441357 rows × 7 columns</p>\n",
       "</div>"
      ],
      "text/plain": [
       "         index       datum  vek pohlavi kraj_nuts_kod okres_lau_kod  \\\n",
       "0            0  2020-10-21   43       M         CZ010        CZ0100   \n",
       "1            1  2020-10-05   27       M         CZ010        CZ0100   \n",
       "2            2  2020-10-13   55       Z         CZ053        CZ0533   \n",
       "3            3  2020-10-22   40       M         CZ063        CZ0634   \n",
       "4            4  2020-10-26   46       M         CZ063        CZ0635   \n",
       "...        ...         ...  ...     ...           ...           ...   \n",
       "441352  487514  2020-09-21   38       M         CZ042        CZ0421   \n",
       "441353  487515  2020-11-11   89       M         CZ010        CZ0100   \n",
       "441354  487516  2020-10-26   24       M         CZ042        CZ0424   \n",
       "441355  487517  2020-10-24   13       M         CZ080        CZ0803   \n",
       "441356  487518  2020-10-16   53       Z         CZ032        CZ0322   \n",
       "\n",
       "        cudzi_kluc  \n",
       "0            18018  \n",
       "1            16786  \n",
       "2            17450  \n",
       "3            18148  \n",
       "4            18457  \n",
       "...            ...  \n",
       "441352       15738  \n",
       "441353       19635  \n",
       "441354       18436  \n",
       "441355       18322  \n",
       "441356       17654  \n",
       "\n",
       "[441357 rows x 7 columns]"
      ]
     },
     "execution_count": 55,
     "metadata": {},
     "output_type": "execute_result"
    }
   ],
   "source": [
    "osoby.drop(index=osoby.index[osoby['cudzi_kluc'] == -1], inplace=True)\n",
    "osoby.reset_index(inplace=True)\n",
    "osoby"
   ]
  },
  {
   "cell_type": "code",
   "execution_count": 56,
   "metadata": {},
   "outputs": [
    {
     "data": {
      "text/html": [
       "<div>\n",
       "<style scoped>\n",
       "    .dataframe tbody tr th:only-of-type {\n",
       "        vertical-align: middle;\n",
       "    }\n",
       "\n",
       "    .dataframe tbody tr th {\n",
       "        vertical-align: top;\n",
       "    }\n",
       "\n",
       "    .dataframe thead th {\n",
       "        text-align: right;\n",
       "    }\n",
       "</style>\n",
       "<table border=\"1\" class=\"dataframe\">\n",
       "  <thead>\n",
       "    <tr style=\"text-align: right;\">\n",
       "      <th></th>\n",
       "      <th>index</th>\n",
       "      <th>datum</th>\n",
       "      <th>vek</th>\n",
       "      <th>pohlavi</th>\n",
       "      <th>kraj_nuts_kod</th>\n",
       "      <th>okres_lau_kod</th>\n",
       "      <th>cudzi_kluc</th>\n",
       "    </tr>\n",
       "  </thead>\n",
       "  <tbody>\n",
       "    <tr>\n",
       "      <th>0</th>\n",
       "      <td>1</td>\n",
       "      <td>2020-03-14</td>\n",
       "      <td>39</td>\n",
       "      <td>Z</td>\n",
       "      <td>CZ020</td>\n",
       "      <td>CZ020A</td>\n",
       "      <td>1002</td>\n",
       "    </tr>\n",
       "    <tr>\n",
       "      <th>1</th>\n",
       "      <td>2</td>\n",
       "      <td>2020-03-15</td>\n",
       "      <td>21</td>\n",
       "      <td>Z</td>\n",
       "      <td>CZ010</td>\n",
       "      <td>CZ0100</td>\n",
       "      <td>1078</td>\n",
       "    </tr>\n",
       "    <tr>\n",
       "      <th>2</th>\n",
       "      <td>3</td>\n",
       "      <td>2020-03-15</td>\n",
       "      <td>49</td>\n",
       "      <td>M</td>\n",
       "      <td>CZ042</td>\n",
       "      <td>CZ0421</td>\n",
       "      <td>1108</td>\n",
       "    </tr>\n",
       "    <tr>\n",
       "      <th>3</th>\n",
       "      <td>4</td>\n",
       "      <td>2020-03-15</td>\n",
       "      <td>18</td>\n",
       "      <td>Z</td>\n",
       "      <td>CZ042</td>\n",
       "      <td>CZ0421</td>\n",
       "      <td>1108</td>\n",
       "    </tr>\n",
       "    <tr>\n",
       "      <th>4</th>\n",
       "      <td>5</td>\n",
       "      <td>2020-03-15</td>\n",
       "      <td>53</td>\n",
       "      <td>Z</td>\n",
       "      <td>CZ042</td>\n",
       "      <td>CZ0421</td>\n",
       "      <td>1108</td>\n",
       "    </tr>\n",
       "    <tr>\n",
       "      <th>...</th>\n",
       "      <td>...</td>\n",
       "      <td>...</td>\n",
       "      <td>...</td>\n",
       "      <td>...</td>\n",
       "      <td>...</td>\n",
       "      <td>...</td>\n",
       "      <td>...</td>\n",
       "    </tr>\n",
       "    <tr>\n",
       "      <th>353749</th>\n",
       "      <td>353765</td>\n",
       "      <td>2020-11-15</td>\n",
       "      <td>61</td>\n",
       "      <td>Z</td>\n",
       "      <td>CZ020</td>\n",
       "      <td>CZ0201</td>\n",
       "      <td>19947</td>\n",
       "    </tr>\n",
       "    <tr>\n",
       "      <th>353750</th>\n",
       "      <td>353766</td>\n",
       "      <td>2020-11-15</td>\n",
       "      <td>84</td>\n",
       "      <td>M</td>\n",
       "      <td>CZ053</td>\n",
       "      <td>CZ0534</td>\n",
       "      <td>19992</td>\n",
       "    </tr>\n",
       "    <tr>\n",
       "      <th>353751</th>\n",
       "      <td>353767</td>\n",
       "      <td>2020-11-15</td>\n",
       "      <td>46</td>\n",
       "      <td>M</td>\n",
       "      <td>CZ072</td>\n",
       "      <td>CZ0722</td>\n",
       "      <td>20011</td>\n",
       "    </tr>\n",
       "    <tr>\n",
       "      <th>353752</th>\n",
       "      <td>353768</td>\n",
       "      <td>2020-11-15</td>\n",
       "      <td>37</td>\n",
       "      <td>M</td>\n",
       "      <td>CZ053</td>\n",
       "      <td>CZ0534</td>\n",
       "      <td>19992</td>\n",
       "    </tr>\n",
       "    <tr>\n",
       "      <th>353753</th>\n",
       "      <td>353769</td>\n",
       "      <td>2020-11-15</td>\n",
       "      <td>20</td>\n",
       "      <td>Z</td>\n",
       "      <td>CZ051</td>\n",
       "      <td>CZ0511</td>\n",
       "      <td>19980</td>\n",
       "    </tr>\n",
       "  </tbody>\n",
       "</table>\n",
       "<p>353754 rows × 7 columns</p>\n",
       "</div>"
      ],
      "text/plain": [
       "         index       datum  vek pohlavi kraj_nuts_kod okres_lau_kod  \\\n",
       "0            1  2020-03-14   39       Z         CZ020        CZ020A   \n",
       "1            2  2020-03-15   21       Z         CZ010        CZ0100   \n",
       "2            3  2020-03-15   49       M         CZ042        CZ0421   \n",
       "3            4  2020-03-15   18       Z         CZ042        CZ0421   \n",
       "4            5  2020-03-15   53       Z         CZ042        CZ0421   \n",
       "...        ...         ...  ...     ...           ...           ...   \n",
       "353749  353765  2020-11-15   61       Z         CZ020        CZ0201   \n",
       "353750  353766  2020-11-15   84       M         CZ053        CZ0534   \n",
       "353751  353767  2020-11-15   46       M         CZ072        CZ0722   \n",
       "353752  353768  2020-11-15   37       M         CZ053        CZ0534   \n",
       "353753  353769  2020-11-15   20       Z         CZ051        CZ0511   \n",
       "\n",
       "        cudzi_kluc  \n",
       "0             1002  \n",
       "1             1078  \n",
       "2             1108  \n",
       "3             1108  \n",
       "4             1108  \n",
       "...            ...  \n",
       "353749       19947  \n",
       "353750       19992  \n",
       "353751       20011  \n",
       "353752       19992  \n",
       "353753       19980  \n",
       "\n",
       "[353754 rows x 7 columns]"
      ]
     },
     "execution_count": 56,
     "metadata": {},
     "output_type": "execute_result"
    }
   ],
   "source": [
    "vylieceny.drop(index=vylieceny.index[vylieceny['cudzi_kluc'] == -1], inplace=True)\n",
    "vylieceny.reset_index(inplace=True)\n",
    "vylieceny"
   ]
  },
  {
   "cell_type": "code",
   "execution_count": 57,
   "metadata": {},
   "outputs": [],
   "source": [
    "umrti.insert(loc=0, column='index', value=umrti.index)"
   ]
  },
  {
   "cell_type": "code",
   "execution_count": 58,
   "metadata": {},
   "outputs": [
    {
     "data": {
      "text/html": [
       "<div>\n",
       "<style scoped>\n",
       "    .dataframe tbody tr th:only-of-type {\n",
       "        vertical-align: middle;\n",
       "    }\n",
       "\n",
       "    .dataframe tbody tr th {\n",
       "        vertical-align: top;\n",
       "    }\n",
       "\n",
       "    .dataframe thead th {\n",
       "        text-align: right;\n",
       "    }\n",
       "</style>\n",
       "<table border=\"1\" class=\"dataframe\">\n",
       "  <thead>\n",
       "    <tr style=\"text-align: right;\">\n",
       "      <th></th>\n",
       "      <th>index</th>\n",
       "      <th>datum</th>\n",
       "      <th>vek</th>\n",
       "      <th>pohlavi</th>\n",
       "      <th>kraj_nuts_kod</th>\n",
       "      <th>okres_lau_kod</th>\n",
       "      <th>cudzi_kluc</th>\n",
       "    </tr>\n",
       "  </thead>\n",
       "  <tbody>\n",
       "    <tr>\n",
       "      <th>0</th>\n",
       "      <td>0</td>\n",
       "      <td>2020-03-22</td>\n",
       "      <td>94</td>\n",
       "      <td>M</td>\n",
       "      <td>CZ010</td>\n",
       "      <td>CZ0100</td>\n",
       "      <td>1617</td>\n",
       "    </tr>\n",
       "    <tr>\n",
       "      <th>1</th>\n",
       "      <td>1</td>\n",
       "      <td>2020-03-24</td>\n",
       "      <td>73</td>\n",
       "      <td>Z</td>\n",
       "      <td>CZ010</td>\n",
       "      <td>CZ0100</td>\n",
       "      <td>1771</td>\n",
       "    </tr>\n",
       "    <tr>\n",
       "      <th>2</th>\n",
       "      <td>2</td>\n",
       "      <td>2020-03-24</td>\n",
       "      <td>44</td>\n",
       "      <td>M</td>\n",
       "      <td>CZ080</td>\n",
       "      <td>CZ0802</td>\n",
       "      <td>1843</td>\n",
       "    </tr>\n",
       "    <tr>\n",
       "      <th>3</th>\n",
       "      <td>3</td>\n",
       "      <td>2020-03-25</td>\n",
       "      <td>80</td>\n",
       "      <td>M</td>\n",
       "      <td>CZ071</td>\n",
       "      <td>CZ0712</td>\n",
       "      <td>1911</td>\n",
       "    </tr>\n",
       "    <tr>\n",
       "      <th>4</th>\n",
       "      <td>4</td>\n",
       "      <td>2020-03-25</td>\n",
       "      <td>74</td>\n",
       "      <td>M</td>\n",
       "      <td>CZ010</td>\n",
       "      <td>CZ0100</td>\n",
       "      <td>1848</td>\n",
       "    </tr>\n",
       "    <tr>\n",
       "      <th>...</th>\n",
       "      <td>...</td>\n",
       "      <td>...</td>\n",
       "      <td>...</td>\n",
       "      <td>...</td>\n",
       "      <td>...</td>\n",
       "      <td>...</td>\n",
       "      <td>...</td>\n",
       "    </tr>\n",
       "    <tr>\n",
       "      <th>6411</th>\n",
       "      <td>6411</td>\n",
       "      <td>2020-11-15</td>\n",
       "      <td>77</td>\n",
       "      <td>Z</td>\n",
       "      <td>CZ041</td>\n",
       "      <td>CZ0411</td>\n",
       "      <td>19970</td>\n",
       "    </tr>\n",
       "    <tr>\n",
       "      <th>6412</th>\n",
       "      <td>6412</td>\n",
       "      <td>2020-11-15</td>\n",
       "      <td>84</td>\n",
       "      <td>M</td>\n",
       "      <td>CZ080</td>\n",
       "      <td>CZ0806</td>\n",
       "      <td>20019</td>\n",
       "    </tr>\n",
       "    <tr>\n",
       "      <th>6413</th>\n",
       "      <td>6413</td>\n",
       "      <td>2020-11-15</td>\n",
       "      <td>80</td>\n",
       "      <td>Z</td>\n",
       "      <td>CZ064</td>\n",
       "      <td>CZ0642</td>\n",
       "      <td>19999</td>\n",
       "    </tr>\n",
       "    <tr>\n",
       "      <th>6414</th>\n",
       "      <td>6414</td>\n",
       "      <td>2020-11-15</td>\n",
       "      <td>94</td>\n",
       "      <td>Z</td>\n",
       "      <td>CZ042</td>\n",
       "      <td>CZ0426</td>\n",
       "      <td>19978</td>\n",
       "    </tr>\n",
       "    <tr>\n",
       "      <th>6415</th>\n",
       "      <td>6415</td>\n",
       "      <td>2020-11-15</td>\n",
       "      <td>91</td>\n",
       "      <td>M</td>\n",
       "      <td>CZ053</td>\n",
       "      <td>CZ0533</td>\n",
       "      <td>19991</td>\n",
       "    </tr>\n",
       "  </tbody>\n",
       "</table>\n",
       "<p>6416 rows × 7 columns</p>\n",
       "</div>"
      ],
      "text/plain": [
       "      index       datum  vek pohlavi kraj_nuts_kod okres_lau_kod  cudzi_kluc\n",
       "0         0  2020-03-22   94       M         CZ010        CZ0100        1617\n",
       "1         1  2020-03-24   73       Z         CZ010        CZ0100        1771\n",
       "2         2  2020-03-24   44       M         CZ080        CZ0802        1843\n",
       "3         3  2020-03-25   80       M         CZ071        CZ0712        1911\n",
       "4         4  2020-03-25   74       M         CZ010        CZ0100        1848\n",
       "...     ...         ...  ...     ...           ...           ...         ...\n",
       "6411   6411  2020-11-15   77       Z         CZ041        CZ0411       19970\n",
       "6412   6412  2020-11-15   84       M         CZ080        CZ0806       20019\n",
       "6413   6413  2020-11-15   80       Z         CZ064        CZ0642       19999\n",
       "6414   6414  2020-11-15   94       Z         CZ042        CZ0426       19978\n",
       "6415   6415  2020-11-15   91       M         CZ053        CZ0533       19991\n",
       "\n",
       "[6416 rows x 7 columns]"
      ]
     },
     "execution_count": 58,
     "metadata": {},
     "output_type": "execute_result"
    }
   ],
   "source": [
    "umrti"
   ]
  },
  {
   "cell_type": "code",
   "execution_count": 60,
   "metadata": {},
   "outputs": [
    {
     "data": {
      "text/html": [
       "<div>\n",
       "<style scoped>\n",
       "    .dataframe tbody tr th:only-of-type {\n",
       "        vertical-align: middle;\n",
       "    }\n",
       "\n",
       "    .dataframe tbody tr th {\n",
       "        vertical-align: top;\n",
       "    }\n",
       "\n",
       "    .dataframe thead th {\n",
       "        text-align: right;\n",
       "    }\n",
       "</style>\n",
       "<table border=\"1\" class=\"dataframe\">\n",
       "  <thead>\n",
       "    <tr style=\"text-align: right;\">\n",
       "      <th></th>\n",
       "      <th>index</th>\n",
       "      <th>datum</th>\n",
       "      <th>kraj_nuts_kod</th>\n",
       "      <th>okres_lau_kod</th>\n",
       "      <th>kumulativni_pocet_nakazenych</th>\n",
       "      <th>kumulativni_pocet_vylecenych</th>\n",
       "      <th>kumulativni_pocet_umrti</th>\n",
       "    </tr>\n",
       "  </thead>\n",
       "  <tbody>\n",
       "    <tr>\n",
       "      <th>0</th>\n",
       "      <td>0</td>\n",
       "      <td>2020-03-01</td>\n",
       "      <td>CZ010</td>\n",
       "      <td>CZ0100</td>\n",
       "      <td>2</td>\n",
       "      <td>0</td>\n",
       "      <td>0</td>\n",
       "    </tr>\n",
       "    <tr>\n",
       "      <th>1</th>\n",
       "      <td>1</td>\n",
       "      <td>2020-03-01</td>\n",
       "      <td>CZ020</td>\n",
       "      <td>CZ020A</td>\n",
       "      <td>0</td>\n",
       "      <td>0</td>\n",
       "      <td>0</td>\n",
       "    </tr>\n",
       "    <tr>\n",
       "      <th>2</th>\n",
       "      <td>2</td>\n",
       "      <td>2020-03-01</td>\n",
       "      <td>CZ020</td>\n",
       "      <td>CZ020B</td>\n",
       "      <td>0</td>\n",
       "      <td>0</td>\n",
       "      <td>0</td>\n",
       "    </tr>\n",
       "    <tr>\n",
       "      <th>3</th>\n",
       "      <td>3</td>\n",
       "      <td>2020-03-01</td>\n",
       "      <td>CZ020</td>\n",
       "      <td>CZ020C</td>\n",
       "      <td>0</td>\n",
       "      <td>0</td>\n",
       "      <td>0</td>\n",
       "    </tr>\n",
       "    <tr>\n",
       "      <th>4</th>\n",
       "      <td>4</td>\n",
       "      <td>2020-03-01</td>\n",
       "      <td>CZ020</td>\n",
       "      <td>CZ0201</td>\n",
       "      <td>0</td>\n",
       "      <td>0</td>\n",
       "      <td>0</td>\n",
       "    </tr>\n",
       "    <tr>\n",
       "      <th>...</th>\n",
       "      <td>...</td>\n",
       "      <td>...</td>\n",
       "      <td>...</td>\n",
       "      <td>...</td>\n",
       "      <td>...</td>\n",
       "      <td>...</td>\n",
       "      <td>...</td>\n",
       "    </tr>\n",
       "    <tr>\n",
       "      <th>20092</th>\n",
       "      <td>20092</td>\n",
       "      <td>2020-11-16</td>\n",
       "      <td>CZ080</td>\n",
       "      <td>CZ0802</td>\n",
       "      <td>9853</td>\n",
       "      <td>8410</td>\n",
       "      <td>158</td>\n",
       "    </tr>\n",
       "    <tr>\n",
       "      <th>20093</th>\n",
       "      <td>20093</td>\n",
       "      <td>2020-11-16</td>\n",
       "      <td>CZ080</td>\n",
       "      <td>CZ0803</td>\n",
       "      <td>10220</td>\n",
       "      <td>8397</td>\n",
       "      <td>116</td>\n",
       "    </tr>\n",
       "    <tr>\n",
       "      <th>20094</th>\n",
       "      <td>20094</td>\n",
       "      <td>2020-11-16</td>\n",
       "      <td>CZ080</td>\n",
       "      <td>CZ0804</td>\n",
       "      <td>5991</td>\n",
       "      <td>4981</td>\n",
       "      <td>64</td>\n",
       "    </tr>\n",
       "    <tr>\n",
       "      <th>20095</th>\n",
       "      <td>20095</td>\n",
       "      <td>2020-11-16</td>\n",
       "      <td>CZ080</td>\n",
       "      <td>CZ0805</td>\n",
       "      <td>8666</td>\n",
       "      <td>7107</td>\n",
       "      <td>110</td>\n",
       "    </tr>\n",
       "    <tr>\n",
       "      <th>20096</th>\n",
       "      <td>20096</td>\n",
       "      <td>2020-11-16</td>\n",
       "      <td>CZ080</td>\n",
       "      <td>CZ0806</td>\n",
       "      <td>11853</td>\n",
       "      <td>10291</td>\n",
       "      <td>205</td>\n",
       "    </tr>\n",
       "  </tbody>\n",
       "</table>\n",
       "<p>20097 rows × 7 columns</p>\n",
       "</div>"
      ],
      "text/plain": [
       "       index       datum kraj_nuts_kod okres_lau_kod  \\\n",
       "0          0  2020-03-01         CZ010        CZ0100   \n",
       "1          1  2020-03-01         CZ020        CZ020A   \n",
       "2          2  2020-03-01         CZ020        CZ020B   \n",
       "3          3  2020-03-01         CZ020        CZ020C   \n",
       "4          4  2020-03-01         CZ020        CZ0201   \n",
       "...      ...         ...           ...           ...   \n",
       "20092  20092  2020-11-16         CZ080        CZ0802   \n",
       "20093  20093  2020-11-16         CZ080        CZ0803   \n",
       "20094  20094  2020-11-16         CZ080        CZ0804   \n",
       "20095  20095  2020-11-16         CZ080        CZ0805   \n",
       "20096  20096  2020-11-16         CZ080        CZ0806   \n",
       "\n",
       "       kumulativni_pocet_nakazenych  kumulativni_pocet_vylecenych  \\\n",
       "0                                 2                             0   \n",
       "1                                 0                             0   \n",
       "2                                 0                             0   \n",
       "3                                 0                             0   \n",
       "4                                 0                             0   \n",
       "...                             ...                           ...   \n",
       "20092                          9853                          8410   \n",
       "20093                         10220                          8397   \n",
       "20094                          5991                          4981   \n",
       "20095                          8666                          7107   \n",
       "20096                         11853                         10291   \n",
       "\n",
       "       kumulativni_pocet_umrti  \n",
       "0                            0  \n",
       "1                            0  \n",
       "2                            0  \n",
       "3                            0  \n",
       "4                            0  \n",
       "...                        ...  \n",
       "20092                      158  \n",
       "20093                      116  \n",
       "20094                       64  \n",
       "20095                      110  \n",
       "20096                      205  \n",
       "\n",
       "[20097 rows x 7 columns]"
      ]
     },
     "execution_count": 60,
     "metadata": {},
     "output_type": "execute_result"
    }
   ],
   "source": [
    "kraj_okres.insert(loc=0, column='index', value=kraj_okres.index)\n",
    "kraj_okres"
   ]
  },
  {
   "cell_type": "code",
   "execution_count": 61,
   "metadata": {},
   "outputs": [],
   "source": [
    "kraj_okres.to_csv('covid_cz/kraj-okres-nakazeni-vyleceni-umrti_v2.csv', index=False)\n",
    "osoby.to_csv('covid_cz/osoby_v2.csv', index=False)\n",
    "vylieceny.to_csv('covid_cz/vyleceni_v2.csv', index=False)\n",
    "umrti.to_csv('covid_cz/umrti_v2.csv', index=False)"
   ]
  },
  {
   "cell_type": "code",
   "execution_count": 13,
   "metadata": {},
   "outputs": [
    {
     "data": {
      "text/plain": [
       "array(['CZ010', 'CZ020', 'CZ031', 'CZ032', 'CZ041', 'CZ042', 'CZ051',\n",
       "       'CZ052', 'CZ053', 'CZ063', 'CZ064', 'CZ071', 'CZ072', 'CZ080'],\n",
       "      dtype=object)"
      ]
     },
     "execution_count": 13,
     "metadata": {},
     "output_type": "execute_result"
    }
   ],
   "source": [
    "tmp = pd.read_csv('covid_cz/kraj-okres-nakazeni-vyleceni-umrti_v2.csv')\n",
    "kraje = tmp['kraj_nuts_kod'].unique()\n",
    "kraje"
   ]
  },
  {
   "cell_type": "code",
   "execution_count": 14,
   "metadata": {},
   "outputs": [
    {
     "data": {
      "text/html": [
       "<div>\n",
       "<style scoped>\n",
       "    .dataframe tbody tr th:only-of-type {\n",
       "        vertical-align: middle;\n",
       "    }\n",
       "\n",
       "    .dataframe tbody tr th {\n",
       "        vertical-align: top;\n",
       "    }\n",
       "\n",
       "    .dataframe thead th {\n",
       "        text-align: right;\n",
       "    }\n",
       "</style>\n",
       "<table border=\"1\" class=\"dataframe\">\n",
       "  <thead>\n",
       "    <tr style=\"text-align: right;\">\n",
       "      <th></th>\n",
       "      <th>kraj</th>\n",
       "      <th>x</th>\n",
       "      <th>y</th>\n",
       "    </tr>\n",
       "  </thead>\n",
       "  <tbody>\n",
       "    <tr>\n",
       "      <th>0</th>\n",
       "      <td>CZ010</td>\n",
       "      <td>50.0755</td>\n",
       "      <td>14.4378</td>\n",
       "    </tr>\n",
       "    <tr>\n",
       "      <th>1</th>\n",
       "      <td>CZ020</td>\n",
       "      <td>49.8782</td>\n",
       "      <td>14.9363</td>\n",
       "    </tr>\n",
       "    <tr>\n",
       "      <th>2</th>\n",
       "      <td>CZ031</td>\n",
       "      <td>48.9458</td>\n",
       "      <td>14.4416</td>\n",
       "    </tr>\n",
       "    <tr>\n",
       "      <th>3</th>\n",
       "      <td>CZ032</td>\n",
       "      <td>49.4135</td>\n",
       "      <td>13.3157</td>\n",
       "    </tr>\n",
       "    <tr>\n",
       "      <th>4</th>\n",
       "      <td>CZ041</td>\n",
       "      <td>50.1435</td>\n",
       "      <td>12.7502</td>\n",
       "    </tr>\n",
       "    <tr>\n",
       "      <th>5</th>\n",
       "      <td>CZ042</td>\n",
       "      <td>50.6119</td>\n",
       "      <td>13.7870</td>\n",
       "    </tr>\n",
       "    <tr>\n",
       "      <th>6</th>\n",
       "      <td>CZ051</td>\n",
       "      <td>50.6594</td>\n",
       "      <td>14.7632</td>\n",
       "    </tr>\n",
       "    <tr>\n",
       "      <th>7</th>\n",
       "      <td>CZ052</td>\n",
       "      <td>50.3512</td>\n",
       "      <td>15.7976</td>\n",
       "    </tr>\n",
       "    <tr>\n",
       "      <th>8</th>\n",
       "      <td>CZ053</td>\n",
       "      <td>49.9444</td>\n",
       "      <td>16.2857</td>\n",
       "    </tr>\n",
       "    <tr>\n",
       "      <th>9</th>\n",
       "      <td>CZ063</td>\n",
       "      <td>49.4490</td>\n",
       "      <td>15.6406</td>\n",
       "    </tr>\n",
       "    <tr>\n",
       "      <th>10</th>\n",
       "      <td>CZ064</td>\n",
       "      <td>48.9545</td>\n",
       "      <td>16.7677</td>\n",
       "    </tr>\n",
       "    <tr>\n",
       "      <th>11</th>\n",
       "      <td>CZ071</td>\n",
       "      <td>49.6587</td>\n",
       "      <td>17.0811</td>\n",
       "    </tr>\n",
       "    <tr>\n",
       "      <th>12</th>\n",
       "      <td>CZ072</td>\n",
       "      <td>49.2162</td>\n",
       "      <td>17.7720</td>\n",
       "    </tr>\n",
       "    <tr>\n",
       "      <th>13</th>\n",
       "      <td>CZ080</td>\n",
       "      <td>49.7305</td>\n",
       "      <td>18.2333</td>\n",
       "    </tr>\n",
       "  </tbody>\n",
       "</table>\n",
       "</div>"
      ],
      "text/plain": [
       "     kraj        x        y\n",
       "0   CZ010  50.0755  14.4378\n",
       "1   CZ020  49.8782  14.9363\n",
       "2   CZ031  48.9458  14.4416\n",
       "3   CZ032  49.4135  13.3157\n",
       "4   CZ041  50.1435  12.7502\n",
       "5   CZ042  50.6119  13.7870\n",
       "6   CZ051  50.6594  14.7632\n",
       "7   CZ052  50.3512  15.7976\n",
       "8   CZ053  49.9444  16.2857\n",
       "9   CZ063  49.4490  15.6406\n",
       "10  CZ064  48.9545  16.7677\n",
       "11  CZ071  49.6587  17.0811\n",
       "12  CZ072  49.2162  17.7720\n",
       "13  CZ080  49.7305  18.2333"
      ]
     },
     "execution_count": 14,
     "metadata": {},
     "output_type": "execute_result"
    }
   ],
   "source": [
    "suradnice = pd.DataFrame({'kraj': ['CZ010', 'CZ020', 'CZ031', 'CZ032', 'CZ041', 'CZ042', 'CZ051', 'CZ052', 'CZ053', 'CZ063', 'CZ064', 'CZ071', 'CZ072', 'CZ080'],\n",
    "                          'x': [50.0755, 49.8782, 48.9458, 49.4135, 50.1435, 50.6119, 50.6594, 50.3512, 49.9444, 49.4490, 48.9545, 49.6587, 49.2162, 49.7305],\n",
    "                          'y': [14.4378, 14.9363, 14.4416, 13.3157, 12.7502, 13.7870, 14.7632, 15.7976, 16.2857, 15.6406, 16.7677, 17.0811, 17.7720, 18.2333]\n",
    "                         })\n",
    "suradnice"
   ]
  },
  {
   "cell_type": "code",
   "execution_count": 15,
   "metadata": {},
   "outputs": [
    {
     "name": "stdout",
     "output_type": "stream",
     "text": [
      "<class 'pandas.core.frame.DataFrame'>\n",
      "RangeIndex: 14 entries, 0 to 13\n",
      "Data columns (total 3 columns):\n",
      " #   Column  Non-Null Count  Dtype  \n",
      "---  ------  --------------  -----  \n",
      " 0   kraj    14 non-null     object \n",
      " 1   x       14 non-null     float64\n",
      " 2   y       14 non-null     float64\n",
      "dtypes: float64(2), object(1)\n",
      "memory usage: 464.0+ bytes\n"
     ]
    }
   ],
   "source": [
    "suradnice.info()"
   ]
  },
  {
   "cell_type": "code",
   "execution_count": 16,
   "metadata": {},
   "outputs": [],
   "source": [
    "kraj_okres_v2 = pd.read_csv('covid_cz/kraj-okres-nakazeni-vyleceni-umrti_v2.csv')\n",
    "osoby_v2 = pd.read_csv('covid_cz/osoby_v2.csv')\n",
    "vylieceny_v2 = pd.read_csv('covid_cz/vyleceni_v2.csv')\n",
    "umrti_v2 = pd.read_csv('covid_cz/umrti_v2.csv')"
   ]
  },
  {
   "cell_type": "code",
   "execution_count": 17,
   "metadata": {},
   "outputs": [],
   "source": [
    "suradnice.to_csv('covid_cz/suradnice_krajov.csv')"
   ]
  },
  {
   "cell_type": "code",
   "execution_count": 29,
   "metadata": {},
   "outputs": [
    {
     "data": {
      "text/html": [
       "<div>\n",
       "<style scoped>\n",
       "    .dataframe tbody tr th:only-of-type {\n",
       "        vertical-align: middle;\n",
       "    }\n",
       "\n",
       "    .dataframe tbody tr th {\n",
       "        vertical-align: top;\n",
       "    }\n",
       "\n",
       "    .dataframe thead th {\n",
       "        text-align: right;\n",
       "    }\n",
       "</style>\n",
       "<table border=\"1\" class=\"dataframe\">\n",
       "  <thead>\n",
       "    <tr style=\"text-align: right;\">\n",
       "      <th></th>\n",
       "      <th>index</th>\n",
       "      <th>datum</th>\n",
       "      <th>kraj_nuts_kod</th>\n",
       "      <th>okres_lau_kod</th>\n",
       "      <th>kumulativni_pocet_nakazenych</th>\n",
       "      <th>kumulativni_pocet_vylecenych</th>\n",
       "      <th>kumulativni_pocet_umrti</th>\n",
       "      <th>x</th>\n",
       "      <th>y</th>\n",
       "    </tr>\n",
       "  </thead>\n",
       "  <tbody>\n",
       "    <tr>\n",
       "      <th>0</th>\n",
       "      <td>0</td>\n",
       "      <td>2020-03-01</td>\n",
       "      <td>CZ010</td>\n",
       "      <td>CZ0100</td>\n",
       "      <td>2</td>\n",
       "      <td>0</td>\n",
       "      <td>0</td>\n",
       "      <td>50.0755</td>\n",
       "      <td>14.4378</td>\n",
       "    </tr>\n",
       "    <tr>\n",
       "      <th>1</th>\n",
       "      <td>1</td>\n",
       "      <td>2020-03-01</td>\n",
       "      <td>CZ020</td>\n",
       "      <td>CZ020A</td>\n",
       "      <td>0</td>\n",
       "      <td>0</td>\n",
       "      <td>0</td>\n",
       "      <td>49.8782</td>\n",
       "      <td>14.9363</td>\n",
       "    </tr>\n",
       "    <tr>\n",
       "      <th>2</th>\n",
       "      <td>2</td>\n",
       "      <td>2020-03-01</td>\n",
       "      <td>CZ020</td>\n",
       "      <td>CZ020B</td>\n",
       "      <td>0</td>\n",
       "      <td>0</td>\n",
       "      <td>0</td>\n",
       "      <td>49.8782</td>\n",
       "      <td>14.9363</td>\n",
       "    </tr>\n",
       "    <tr>\n",
       "      <th>3</th>\n",
       "      <td>3</td>\n",
       "      <td>2020-03-01</td>\n",
       "      <td>CZ020</td>\n",
       "      <td>CZ020C</td>\n",
       "      <td>0</td>\n",
       "      <td>0</td>\n",
       "      <td>0</td>\n",
       "      <td>49.8782</td>\n",
       "      <td>14.9363</td>\n",
       "    </tr>\n",
       "    <tr>\n",
       "      <th>4</th>\n",
       "      <td>4</td>\n",
       "      <td>2020-03-01</td>\n",
       "      <td>CZ020</td>\n",
       "      <td>CZ0201</td>\n",
       "      <td>0</td>\n",
       "      <td>0</td>\n",
       "      <td>0</td>\n",
       "      <td>49.8782</td>\n",
       "      <td>14.9363</td>\n",
       "    </tr>\n",
       "    <tr>\n",
       "      <th>...</th>\n",
       "      <td>...</td>\n",
       "      <td>...</td>\n",
       "      <td>...</td>\n",
       "      <td>...</td>\n",
       "      <td>...</td>\n",
       "      <td>...</td>\n",
       "      <td>...</td>\n",
       "      <td>...</td>\n",
       "      <td>...</td>\n",
       "    </tr>\n",
       "    <tr>\n",
       "      <th>20092</th>\n",
       "      <td>20092</td>\n",
       "      <td>2020-11-16</td>\n",
       "      <td>CZ080</td>\n",
       "      <td>CZ0802</td>\n",
       "      <td>9853</td>\n",
       "      <td>8410</td>\n",
       "      <td>158</td>\n",
       "      <td>49.7305</td>\n",
       "      <td>18.2333</td>\n",
       "    </tr>\n",
       "    <tr>\n",
       "      <th>20093</th>\n",
       "      <td>20093</td>\n",
       "      <td>2020-11-16</td>\n",
       "      <td>CZ080</td>\n",
       "      <td>CZ0803</td>\n",
       "      <td>10220</td>\n",
       "      <td>8397</td>\n",
       "      <td>116</td>\n",
       "      <td>49.7305</td>\n",
       "      <td>18.2333</td>\n",
       "    </tr>\n",
       "    <tr>\n",
       "      <th>20094</th>\n",
       "      <td>20094</td>\n",
       "      <td>2020-11-16</td>\n",
       "      <td>CZ080</td>\n",
       "      <td>CZ0804</td>\n",
       "      <td>5991</td>\n",
       "      <td>4981</td>\n",
       "      <td>64</td>\n",
       "      <td>49.7305</td>\n",
       "      <td>18.2333</td>\n",
       "    </tr>\n",
       "    <tr>\n",
       "      <th>20095</th>\n",
       "      <td>20095</td>\n",
       "      <td>2020-11-16</td>\n",
       "      <td>CZ080</td>\n",
       "      <td>CZ0805</td>\n",
       "      <td>8666</td>\n",
       "      <td>7107</td>\n",
       "      <td>110</td>\n",
       "      <td>49.7305</td>\n",
       "      <td>18.2333</td>\n",
       "    </tr>\n",
       "    <tr>\n",
       "      <th>20096</th>\n",
       "      <td>20096</td>\n",
       "      <td>2020-11-16</td>\n",
       "      <td>CZ080</td>\n",
       "      <td>CZ0806</td>\n",
       "      <td>11853</td>\n",
       "      <td>10291</td>\n",
       "      <td>205</td>\n",
       "      <td>49.7305</td>\n",
       "      <td>18.2333</td>\n",
       "    </tr>\n",
       "  </tbody>\n",
       "</table>\n",
       "<p>20097 rows × 9 columns</p>\n",
       "</div>"
      ],
      "text/plain": [
       "       index       datum kraj_nuts_kod okres_lau_kod  \\\n",
       "0          0  2020-03-01         CZ010        CZ0100   \n",
       "1          1  2020-03-01         CZ020        CZ020A   \n",
       "2          2  2020-03-01         CZ020        CZ020B   \n",
       "3          3  2020-03-01         CZ020        CZ020C   \n",
       "4          4  2020-03-01         CZ020        CZ0201   \n",
       "...      ...         ...           ...           ...   \n",
       "20092  20092  2020-11-16         CZ080        CZ0802   \n",
       "20093  20093  2020-11-16         CZ080        CZ0803   \n",
       "20094  20094  2020-11-16         CZ080        CZ0804   \n",
       "20095  20095  2020-11-16         CZ080        CZ0805   \n",
       "20096  20096  2020-11-16         CZ080        CZ0806   \n",
       "\n",
       "       kumulativni_pocet_nakazenych  kumulativni_pocet_vylecenych  \\\n",
       "0                                 2                             0   \n",
       "1                                 0                             0   \n",
       "2                                 0                             0   \n",
       "3                                 0                             0   \n",
       "4                                 0                             0   \n",
       "...                             ...                           ...   \n",
       "20092                          9853                          8410   \n",
       "20093                         10220                          8397   \n",
       "20094                          5991                          4981   \n",
       "20095                          8666                          7107   \n",
       "20096                         11853                         10291   \n",
       "\n",
       "       kumulativni_pocet_umrti        x        y  \n",
       "0                            0  50.0755  14.4378  \n",
       "1                            0  49.8782  14.9363  \n",
       "2                            0  49.8782  14.9363  \n",
       "3                            0  49.8782  14.9363  \n",
       "4                            0  49.8782  14.9363  \n",
       "...                        ...      ...      ...  \n",
       "20092                      158  49.7305  18.2333  \n",
       "20093                      116  49.7305  18.2333  \n",
       "20094                       64  49.7305  18.2333  \n",
       "20095                      110  49.7305  18.2333  \n",
       "20096                      205  49.7305  18.2333  \n",
       "\n",
       "[20097 rows x 9 columns]"
      ]
     },
     "execution_count": 29,
     "metadata": {},
     "output_type": "execute_result"
    }
   ],
   "source": [
    "kraj_okres_v2['x'] = 0.0\n",
    "kraj_okres_v2['y'] = 0.0\n",
    "\n",
    "for kraj in kraje:\n",
    "    kraj_okres_v2.loc[kraj_okres_v2['kraj_nuts_kod'] == kraj, 'x'] = suradnice.loc[suradnice['kraj'] == kraj, 'x'].tolist()[0]\n",
    "    kraj_okres_v2.loc[kraj_okres_v2['kraj_nuts_kod'] == kraj, 'y'] = suradnice.loc[suradnice['kraj'] == kraj, 'y'].tolist()[0]\n",
    "    \n",
    "kraj_okres_v2"
   ]
  },
  {
   "cell_type": "code",
   "execution_count": 30,
   "metadata": {},
   "outputs": [],
   "source": [
    "kraj_okres_v2.to_csv('covid_cz/kraj-okres-nakazeni-vyleceni-umrti_v2.csv', index=False)"
   ]
  },
  {
   "cell_type": "code",
   "execution_count": 4,
   "metadata": {},
   "outputs": [
    {
     "data": {
      "text/html": [
       "<div>\n",
       "<style scoped>\n",
       "    .dataframe tbody tr th:only-of-type {\n",
       "        vertical-align: middle;\n",
       "    }\n",
       "\n",
       "    .dataframe tbody tr th {\n",
       "        vertical-align: top;\n",
       "    }\n",
       "\n",
       "    .dataframe thead th {\n",
       "        text-align: right;\n",
       "    }\n",
       "</style>\n",
       "<table border=\"1\" class=\"dataframe\">\n",
       "  <thead>\n",
       "    <tr style=\"text-align: right;\">\n",
       "      <th></th>\n",
       "      <th>kraj</th>\n",
       "      <th>x</th>\n",
       "      <th>y</th>\n",
       "    </tr>\n",
       "  </thead>\n",
       "  <tbody>\n",
       "    <tr>\n",
       "      <th>0</th>\n",
       "      <td>CZ010</td>\n",
       "      <td>50.0755</td>\n",
       "      <td>14.4378</td>\n",
       "    </tr>\n",
       "    <tr>\n",
       "      <th>1</th>\n",
       "      <td>CZ020</td>\n",
       "      <td>49.8782</td>\n",
       "      <td>14.9363</td>\n",
       "    </tr>\n",
       "    <tr>\n",
       "      <th>2</th>\n",
       "      <td>CZ031</td>\n",
       "      <td>48.9458</td>\n",
       "      <td>14.4416</td>\n",
       "    </tr>\n",
       "    <tr>\n",
       "      <th>3</th>\n",
       "      <td>CZ032</td>\n",
       "      <td>49.4135</td>\n",
       "      <td>13.3157</td>\n",
       "    </tr>\n",
       "    <tr>\n",
       "      <th>4</th>\n",
       "      <td>CZ041</td>\n",
       "      <td>50.1435</td>\n",
       "      <td>12.7502</td>\n",
       "    </tr>\n",
       "    <tr>\n",
       "      <th>5</th>\n",
       "      <td>CZ042</td>\n",
       "      <td>50.6119</td>\n",
       "      <td>13.7870</td>\n",
       "    </tr>\n",
       "    <tr>\n",
       "      <th>6</th>\n",
       "      <td>CZ051</td>\n",
       "      <td>50.6594</td>\n",
       "      <td>14.7632</td>\n",
       "    </tr>\n",
       "    <tr>\n",
       "      <th>7</th>\n",
       "      <td>CZ052</td>\n",
       "      <td>50.3512</td>\n",
       "      <td>15.7976</td>\n",
       "    </tr>\n",
       "    <tr>\n",
       "      <th>8</th>\n",
       "      <td>CZ053</td>\n",
       "      <td>49.9444</td>\n",
       "      <td>16.2857</td>\n",
       "    </tr>\n",
       "    <tr>\n",
       "      <th>9</th>\n",
       "      <td>CZ063</td>\n",
       "      <td>49.4490</td>\n",
       "      <td>15.6406</td>\n",
       "    </tr>\n",
       "    <tr>\n",
       "      <th>10</th>\n",
       "      <td>CZ064</td>\n",
       "      <td>48.9545</td>\n",
       "      <td>16.7677</td>\n",
       "    </tr>\n",
       "    <tr>\n",
       "      <th>11</th>\n",
       "      <td>CZ071</td>\n",
       "      <td>49.6587</td>\n",
       "      <td>17.0811</td>\n",
       "    </tr>\n",
       "    <tr>\n",
       "      <th>12</th>\n",
       "      <td>CZ072</td>\n",
       "      <td>49.2162</td>\n",
       "      <td>17.7720</td>\n",
       "    </tr>\n",
       "    <tr>\n",
       "      <th>13</th>\n",
       "      <td>CZ080</td>\n",
       "      <td>49.7305</td>\n",
       "      <td>18.2333</td>\n",
       "    </tr>\n",
       "  </tbody>\n",
       "</table>\n",
       "</div>"
      ],
      "text/plain": [
       "     kraj        x        y\n",
       "0   CZ010  50.0755  14.4378\n",
       "1   CZ020  49.8782  14.9363\n",
       "2   CZ031  48.9458  14.4416\n",
       "3   CZ032  49.4135  13.3157\n",
       "4   CZ041  50.1435  12.7502\n",
       "5   CZ042  50.6119  13.7870\n",
       "6   CZ051  50.6594  14.7632\n",
       "7   CZ052  50.3512  15.7976\n",
       "8   CZ053  49.9444  16.2857\n",
       "9   CZ063  49.4490  15.6406\n",
       "10  CZ064  48.9545  16.7677\n",
       "11  CZ071  49.6587  17.0811\n",
       "12  CZ072  49.2162  17.7720\n",
       "13  CZ080  49.7305  18.2333"
      ]
     },
     "execution_count": 4,
     "metadata": {},
     "output_type": "execute_result"
    }
   ],
   "source": [
    "suradnice = pd.read_csv('covid_cz/suradnice_krajov.csv')\n",
    "suradnice.drop(columns=['Unnamed: 0'], inplace=True)\n",
    "suradnice"
   ]
  },
  {
   "cell_type": "code",
   "execution_count": 5,
   "metadata": {},
   "outputs": [
    {
     "data": {
      "text/html": [
       "<div>\n",
       "<style scoped>\n",
       "    .dataframe tbody tr th:only-of-type {\n",
       "        vertical-align: middle;\n",
       "    }\n",
       "\n",
       "    .dataframe tbody tr th {\n",
       "        vertical-align: top;\n",
       "    }\n",
       "\n",
       "    .dataframe thead th {\n",
       "        text-align: right;\n",
       "    }\n",
       "</style>\n",
       "<table border=\"1\" class=\"dataframe\">\n",
       "  <thead>\n",
       "    <tr style=\"text-align: right;\">\n",
       "      <th></th>\n",
       "      <th>kraj</th>\n",
       "      <th>x</th>\n",
       "      <th>y</th>\n",
       "      <th>nazov</th>\n",
       "    </tr>\n",
       "  </thead>\n",
       "  <tbody>\n",
       "    <tr>\n",
       "      <th>0</th>\n",
       "      <td>CZ010</td>\n",
       "      <td>50.0755</td>\n",
       "      <td>14.4378</td>\n",
       "      <td>Hlavní město Praha</td>\n",
       "    </tr>\n",
       "    <tr>\n",
       "      <th>1</th>\n",
       "      <td>CZ020</td>\n",
       "      <td>49.8782</td>\n",
       "      <td>14.9363</td>\n",
       "      <td>Středočeský kraj</td>\n",
       "    </tr>\n",
       "    <tr>\n",
       "      <th>2</th>\n",
       "      <td>CZ031</td>\n",
       "      <td>48.9458</td>\n",
       "      <td>14.4416</td>\n",
       "      <td>Jihočeský kraj</td>\n",
       "    </tr>\n",
       "    <tr>\n",
       "      <th>3</th>\n",
       "      <td>CZ032</td>\n",
       "      <td>49.4135</td>\n",
       "      <td>13.3157</td>\n",
       "      <td>Plzeňský kraj</td>\n",
       "    </tr>\n",
       "    <tr>\n",
       "      <th>4</th>\n",
       "      <td>CZ041</td>\n",
       "      <td>50.1435</td>\n",
       "      <td>12.7502</td>\n",
       "      <td>Karlovarský kraj</td>\n",
       "    </tr>\n",
       "    <tr>\n",
       "      <th>5</th>\n",
       "      <td>CZ042</td>\n",
       "      <td>50.6119</td>\n",
       "      <td>13.7870</td>\n",
       "      <td>Ústecký kraj</td>\n",
       "    </tr>\n",
       "    <tr>\n",
       "      <th>6</th>\n",
       "      <td>CZ051</td>\n",
       "      <td>50.6594</td>\n",
       "      <td>14.7632</td>\n",
       "      <td>Liberecký kraj</td>\n",
       "    </tr>\n",
       "    <tr>\n",
       "      <th>7</th>\n",
       "      <td>CZ052</td>\n",
       "      <td>50.3512</td>\n",
       "      <td>15.7976</td>\n",
       "      <td>Královéhradecký kraj</td>\n",
       "    </tr>\n",
       "    <tr>\n",
       "      <th>8</th>\n",
       "      <td>CZ053</td>\n",
       "      <td>49.9444</td>\n",
       "      <td>16.2857</td>\n",
       "      <td>Pardubický kraj</td>\n",
       "    </tr>\n",
       "    <tr>\n",
       "      <th>9</th>\n",
       "      <td>CZ063</td>\n",
       "      <td>49.4490</td>\n",
       "      <td>15.6406</td>\n",
       "      <td>Kraj Vysočina</td>\n",
       "    </tr>\n",
       "    <tr>\n",
       "      <th>10</th>\n",
       "      <td>CZ064</td>\n",
       "      <td>48.9545</td>\n",
       "      <td>16.7677</td>\n",
       "      <td>Jihomoravský kraj</td>\n",
       "    </tr>\n",
       "    <tr>\n",
       "      <th>11</th>\n",
       "      <td>CZ071</td>\n",
       "      <td>49.6587</td>\n",
       "      <td>17.0811</td>\n",
       "      <td>Olomoucký kraj</td>\n",
       "    </tr>\n",
       "    <tr>\n",
       "      <th>12</th>\n",
       "      <td>CZ072</td>\n",
       "      <td>49.2162</td>\n",
       "      <td>17.7720</td>\n",
       "      <td>Zlínský kraj</td>\n",
       "    </tr>\n",
       "    <tr>\n",
       "      <th>13</th>\n",
       "      <td>CZ080</td>\n",
       "      <td>49.7305</td>\n",
       "      <td>18.2333</td>\n",
       "      <td>Moravskoslezský kraj</td>\n",
       "    </tr>\n",
       "  </tbody>\n",
       "</table>\n",
       "</div>"
      ],
      "text/plain": [
       "     kraj        x        y                 nazov\n",
       "0   CZ010  50.0755  14.4378    Hlavní město Praha\n",
       "1   CZ020  49.8782  14.9363      Středočeský kraj\n",
       "2   CZ031  48.9458  14.4416        Jihočeský kraj\n",
       "3   CZ032  49.4135  13.3157         Plzeňský kraj\n",
       "4   CZ041  50.1435  12.7502      Karlovarský kraj\n",
       "5   CZ042  50.6119  13.7870          Ústecký kraj\n",
       "6   CZ051  50.6594  14.7632        Liberecký kraj\n",
       "7   CZ052  50.3512  15.7976  Královéhradecký kraj\n",
       "8   CZ053  49.9444  16.2857       Pardubický kraj\n",
       "9   CZ063  49.4490  15.6406         Kraj Vysočina\n",
       "10  CZ064  48.9545  16.7677     Jihomoravský kraj\n",
       "11  CZ071  49.6587  17.0811        Olomoucký kraj\n",
       "12  CZ072  49.2162  17.7720          Zlínský kraj\n",
       "13  CZ080  49.7305  18.2333  Moravskoslezský kraj"
      ]
     },
     "execution_count": 5,
     "metadata": {},
     "output_type": "execute_result"
    }
   ],
   "source": [
    "suradnice.insert(loc=len(suradnice.columns), column='nazov', value=['Hlavní město Praha', 'Středočeský kraj', 'Jihočeský kraj', 'Plzeňský kraj', 'Karlovarský kraj', 'Ústecký kraj', 'Liberecký kraj', 'Královéhradecký kraj', 'Pardubický kraj', 'Kraj Vysočina', 'Jihomoravský kraj', 'Olomoucký kraj', 'Zlínský kraj', 'Moravskoslezský kraj'])\n",
    "suradnice"
   ]
  },
  {
   "cell_type": "code",
   "execution_count": 6,
   "metadata": {},
   "outputs": [],
   "source": [
    "suradnice.to_csv('covid_cz/suradnice_krajov.csv')"
   ]
  },
  {
   "cell_type": "code",
   "execution_count": null,
   "metadata": {},
   "outputs": [],
   "source": []
  }
 ],
 "metadata": {
  "colab": {
   "collapsed_sections": [],
   "name": "predspracovanie_dat.ipynb",
   "provenance": []
  },
  "kernelspec": {
   "display_name": "Python 3",
   "language": "python",
   "name": "python3"
  },
  "language_info": {
   "codemirror_mode": {
    "name": "ipython",
    "version": 3
   },
   "file_extension": ".py",
   "mimetype": "text/x-python",
   "name": "python",
   "nbconvert_exporter": "python",
   "pygments_lexer": "ipython3",
   "version": "3.7.3"
  }
 },
 "nbformat": 4,
 "nbformat_minor": 1
}
